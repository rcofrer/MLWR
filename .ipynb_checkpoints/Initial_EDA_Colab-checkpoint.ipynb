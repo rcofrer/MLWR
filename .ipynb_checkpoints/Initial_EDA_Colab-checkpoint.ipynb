{
 "cells": [
  {
   "cell_type": "code",
   "execution_count": 6,
   "metadata": {
    "id": "m5_rRzfp-mCr"
   },
   "outputs": [],
   "source": [
    "# usual imports\n",
    "\n",
    "import pandas as pd\n",
    "import numpy as np\n",
    "import matplotlib.pyplot as plt\n",
    "import seaborn as sns\n",
    "import pickle"
   ]
  },
  {
   "cell_type": "code",
   "execution_count": 7,
   "metadata": {
    "colab": {
     "base_uri": "https://localhost:8080/"
    },
    "id": "tTDeJkWpJ8Vt",
    "outputId": "fa416b91-c30a-4025-9a80-b3c115038576"
   },
   "outputs": [
    {
     "ename": "ModuleNotFoundError",
     "evalue": "No module named 'google.colab'",
     "output_type": "error",
     "traceback": [
      "\u001b[1;31m---------------------------------------------------------------------------\u001b[0m",
      "\u001b[1;31mModuleNotFoundError\u001b[0m                       Traceback (most recent call last)",
      "\u001b[1;32m<ipython-input-7-4996ee3d8d09>\u001b[0m in \u001b[0;36m<module>\u001b[1;34m\u001b[0m\n\u001b[1;32m----> 1\u001b[1;33m \u001b[1;32mfrom\u001b[0m \u001b[0mgoogle\u001b[0m\u001b[1;33m.\u001b[0m\u001b[0mcolab\u001b[0m \u001b[1;32mimport\u001b[0m \u001b[0mdrive\u001b[0m\u001b[1;33m\u001b[0m\u001b[1;33m\u001b[0m\u001b[0m\n\u001b[0m\u001b[0;32m      2\u001b[0m \u001b[0mdrive\u001b[0m\u001b[1;33m.\u001b[0m\u001b[0mmount\u001b[0m\u001b[1;33m(\u001b[0m\u001b[1;34m'/content/gdrive'\u001b[0m\u001b[1;33m)\u001b[0m\u001b[1;33m\u001b[0m\u001b[1;33m\u001b[0m\u001b[0m\n",
      "\u001b[1;31mModuleNotFoundError\u001b[0m: No module named 'google.colab'"
     ]
    }
   ],
   "source": [
    "# from google.colab import drive\n",
    "# drive.mount('/content/gdrive')"
   ]
  },
  {
   "cell_type": "markdown",
   "metadata": {
    "id": "5RM8RIEB-mC3"
   },
   "source": [
    "The following definitions have been taken from the Kaggle Competition Description:\n",
    "https://www.kaggle.com/c/microsoft-malware-prediction/data\n",
    "\n",
    "Unavailable or self-documenting column names are marked with an \"NA\".\n",
    "\n",
    "- MachineIdentifier - Individual machine ID\n",
    "- ProductName - Defender state information e.g. win8defender\n",
    "- EngineVersion - Defender state information e.g. 1.1.12603.0\n",
    "- AppVersion - Defender state information e.g. 4.9.10586.0\n",
    "- AvSigVersion - Defender state information e.g. 1.217.1014.0\n",
    "- IsBeta - Defender state information e.g. false\n",
    "- RtpStateBitfield - NA\n",
    "- IsSxsPassiveMode - NA\n",
    "- DefaultBrowsersIdentifier - ID for the machine's default browser\n",
    "- AVProductStatesIdentifier - ID for the specific configuration of a user's antivirus software\n",
    "- AVProductsInstalled - NA\n",
    "- AVProductsEnabled - NA\n",
    "- HasTpm - True if machine has tpm\n",
    "- CountryIdentifier - ID for the country the machine is located in\n",
    "- CityIdentifier - ID for the city the machine is located in\n",
    "- OrganizationIdentifier - ID for the organization the machine belongs in, organization ID is mapped to both specific companies and broad industries\n",
    "- GeoNameIdentifier - ID for the geographic region a machine is located in\n",
    "- LocaleEnglishNameIdentifier - English name of Locale ID of the current user\n",
    "- Platform - Calculates platform name (of OS related properties and processor property)\n",
    "- Processor - This is the process architecture of the installed operating system\n",
    "- OsVer - Version of the current operating system\n",
    "- OsBuild - Build of the current operating system\n",
    "- OsSuite - Product suite mask for the current operating system.\n",
    "- OsPlatformSubRelease - Returns the OS Platform sub-release (Windows Vista, Windows 7, Windows 8, TH1, TH2)\n",
    "- OsBuildLab - Build lab that generated the current OS. Example: 9600.17630.amd64fre.winblue_r7.150109-2022\n",
    "- SkuEdition - The goal of this feature is to use the Product Type defined in the MSDN to map to a 'SKU-Edition' name that is useful in population reporting. The valid Product Type are defined in %sdxroot%\\data\\windowseditions.xml. This API has been used since Vista and Server 2008, so there are many Product Types that do not apply to Windows 10. The 'SKU-Edition' is a string value that is in one of three classes of results. The design must hand each class.\n",
    "- IsProtected - This is a calculated field derived from the Spynet Report's AV Products field. Returns: a. TRUE if there is at least one active and up-to-date antivirus product running on this machine. b. FALSE if there is no active AV product on this machine, or if the AV is active, but is not receiving the latest updates. c. null if there are no Anti Virus Products in the report. Returns: Whether a machine is protected.\n",
    "- AutoSampleOptIn - This is the SubmitSamplesConsent value passed in from the service, available on CAMP 9+\n",
    "- PuaMode - Pua Enabled mode from the service\n",
    "- SMode - This field is set to true when the device is known to be in 'S Mode', as in, Windows 10 S mode, where only Microsoft Store apps can be installed\n",
    "- IeVerIdentifier - NA\n",
    "- SmartScreen - This is the SmartScreen enabled string value from registry. This is obtained by checking in order, HKLM\\SOFTWARE\\Policies\\Microsoft\\Windows\\System\\SmartScreenEnabled and HKLM\\SOFTWARE\\Microsoft\\Windows\\CurrentVersion\\Explorer\\SmartScreenEnabled. If the value exists but is blank, the value \"ExistsNotSet\" is sent in telemetry.\n",
    "- Firewall - This attribute is true (1) for Windows 8.1 and above if windows firewall is enabled, as reported by the service.\n",
    "- UacLuaenable - This attribute reports whether or not the \"administrator in Admin Approval Mode\" user type is disabled or enabled in UAC. The value reported is obtained by reading the regkey HKLM\\SOFTWARE\\Microsoft\\Windows\\CurrentVersion\\Policies\\System\\EnableLUA.\n",
    "- Census_MDC2FormFactor - A grouping based on a combination of Device Census level hardware characteristics. The logic used to define Form Factor is rooted in business and industry standards and aligns with how people think about their device. (Examples: Smartphone, Small Tablet, All in One, Convertible...)\n",
    "- Census_DeviceFamily - AKA DeviceClass. Indicates the type of device that an edition of the OS is intended for. Example values: Windows.Desktop, Windows.Mobile, and iOS.Phone\n",
    "- Census_OEMNameIdentifier - NA\n",
    "- Census_OEMModelIdentifier - NA\n",
    "- Census_ProcessorCoreCount - Number of logical cores in the processor\n",
    "- Census_ProcessorManufacturerIdentifier - NA\n",
    "- Census_ProcessorModelIdentifier - NA\n",
    "- Census_ProcessorClass - A classification of processors into high/medium/low. Initially used for Pricing Level SKU. No longer maintained and updated\n",
    "- Census_PrimaryDiskTotalCapacity - Amount of disk space on primary disk of the machine in MB\n",
    "- Census_PrimaryDiskTypeName - Friendly name of Primary Disk Type - HDD or SSD\n",
    "- Census_SystemVolumeTotalCapacity - The size of the partition that the System volume is installed on in MB\n",
    "- Census_HasOpticalDiskDrive - True indicates that the machine has an optical disk drive (CD/DVD)\n",
    "- Census_TotalPhysicalRAM - Retrieves the physical RAM in MB\n",
    "- Census_ChassisTypeName - Retrieves a numeric representation of what type of chassis the machine has. A value of 0 means xx\n",
    "- Census_InternalPrimaryDiagonalDisplaySizeInInches - Retrieves the physical diagonal length in inches of the primary display\n",
    "- Census_InternalPrimaryDisplayResolutionHorizontal - Retrieves the number of pixels in the horizontal direction of the internal display.\n",
    "- Census_InternalPrimaryDisplayResolutionVertical - Retrieves the number of pixels in the vertical direction of the internal display\n",
    "- Census_PowerPlatformRoleName - Indicates the OEM preferred power management profile. This value helps identify the basic form factor of the device\n",
    "- Census_InternalBatteryType - NA\n",
    "- Census_InternalBatteryNumberOfCharges - NA\n",
    "- Census_OSVersion - Numeric OS version Example - 10.0.10130.0\n",
    "- Census_OSArchitecture - Architecture on which the OS is based. Derived from OSVersionFull. Example - amd64\n",
    "- Census_OSBranch - Branch of the OS extracted from the OsVersionFull. Example - OsBranch = fbl_partner_eeap where OsVersion = 6.4.9813.0.amd64fre.fbl_partner_eeap.140810-0005\n",
    "- Census_OSBuildNumber - OS Build number extracted from the OsVersionFull. Example - OsBuildNumber = 10512 or 10240\n",
    "- Census_OSBuildRevision - OS Build revision extracted from the OsVersionFull. Example - OsBuildRevision = 1000 or 16458\n",
    "- Census_OSEdition - Edition of the current OS. Sourced from HKLM\\Software\\Microsoft\\Windows NT\\CurrentVersion@EditionID in registry. Example: Enterprise\n",
    "- Census_OSSkuName - OS edition friendly name (currently Windows only)\n",
    "- Census_OSInstallTypeName - Friendly description of what install was used on the machine i.e. clean\n",
    "- Census_OSInstallLanguageIdentifier - NA\n",
    "- Census_OSUILocaleIdentifier - NA\n",
    "- Census_OSWUAutoUpdateOptionsName - Friendly name of the WindowsUpdate auto-update settings on the machine.\n",
    "- Census_IsPortableOperatingSystem - Indicates whether OS is booted up and running via Windows-To-Go on a USB stick.\n",
    "- Census_GenuineStateName - Friendly name of OSGenuineStateID. 0 = Genuine\n",
    "- Census_ActivationChannel - Retail license key or Volume license key for a machine.\n",
    "- Census_IsFlightingInternal - NA\n",
    "- Census_IsFlightsDisabled - Indicates if the machine is participating in flighting.\n",
    "- Census_FlightRing - The ring that the device user would like to receive flights for. This might be different from the ring of the OS which is currently installed if the user changes the ring after getting a flight from a different ring.\n",
    "- Census_ThresholdOptIn - NA\n",
    "- Census_FirmwareManufacturerIdentifier - NA\n",
    "- Census_FirmwareVersionIdentifier - NA\n",
    "- Census_IsSecureBootEnabled - Indicates if Secure Boot mode is enabled.\n",
    "- Census_IsWIMBootEnabled - NA\n",
    "- Census_IsVirtualDevice - Identifies a Virtual Machine (machine learning model)\n",
    "- Census_IsTouchEnabled - Is this a touch device ?\n",
    "- Census_IsPenCapable - Is the device capable of pen input ?\n",
    "- Census_IsAlwaysOnAlwaysConnectedCapable - Retreives information about whether the battery enables the device to be AlwaysOnAlwaysConnected .\n",
    "- Wdft_IsGamer - Indicates whether the device is a gamer device or not based on its hardware combination.\n",
    "- Wdft_RegionIdentifier - NA"
   ]
  },
  {
   "cell_type": "code",
   "execution_count": null,
   "metadata": {
    "id": "dCvcE24o-mDC"
   },
   "outputs": [],
   "source": [
    "# Notebooks which have been considered in the following analyisis are as follows:\n",
    "# [1] https://www.kaggle.com/dimitreoliveira/malware-detection-eda-and-lgbm\n",
    "# [2] https://www.kaggle.com/dimitreoliveira/malware-detection-extended-eda\n",
    "# [3] https://www.kaggle.com/jiegeng94/everyone-do-this-at-the-beginning\n",
    "# [4] "
   ]
  },
  {
   "cell_type": "code",
   "execution_count": null,
   "metadata": {
    "id": "JpVPPinO-mDH"
   },
   "outputs": [],
   "source": [
    "# In order to optimize memory usage it is useful to make certain features get certain types\n",
    "# the dictionary below has been taken from https://www.kaggle.com/theoviel/load-the-totality-of-the-data\n",
    "dtypes = {\n",
    "        'MachineIdentifier':                                    'category',\n",
    "        'ProductName':                                          'category',\n",
    "        'EngineVersion':                                        'category',\n",
    "        'AppVersion':                                           'category',\n",
    "        'AvSigVersion':                                         'category',\n",
    "        'IsBeta':                                               'int8',\n",
    "        'RtpStateBitfield':                                     'float16',\n",
    "        'IsSxsPassiveMode':                                     'int8',\n",
    "        'DefaultBrowsersIdentifier':                            'float32',\n",
    "        'AVProductStatesIdentifier':                            'float32',\n",
    "        'AVProductsInstalled':                                  'float16',\n",
    "        'AVProductsEnabled':                                    'float16',\n",
    "        'HasTpm':                                               'int8',\n",
    "        'CountryIdentifier':                                    'int16',\n",
    "        'CityIdentifier':                                       'float32',\n",
    "        'OrganizationIdentifier':                               'float16',\n",
    "        'GeoNameIdentifier':                                    'float16',\n",
    "        'LocaleEnglishNameIdentifier':                          'int16',\n",
    "        'Platform':                                             'category',\n",
    "        'Processor':                                            'category',\n",
    "        'OsVer':                                                'category',\n",
    "        'OsBuild':                                              'int16',\n",
    "        'OsSuite':                                              'int16',\n",
    "        'OsPlatformSubRelease':                                 'category',\n",
    "        'OsBuildLab':                                           'category',\n",
    "        'SkuEdition':                                           'category',\n",
    "        'IsProtected':                                          'float16',\n",
    "        'AutoSampleOptIn':                                      'int8',\n",
    "        'PuaMode':                                              'category',\n",
    "        'SMode':                                                'float16',\n",
    "        'IeVerIdentifier':                                      'float16',\n",
    "        'SmartScreen':                                          'category',\n",
    "        'Firewall':                                             'float16',\n",
    "        'UacLuaenable':                                         'float64', # was 'float32'\n",
    "        'Census_MDC2FormFactor':                                'category',\n",
    "        'Census_DeviceFamily':                                  'category',\n",
    "        'Census_OEMNameIdentifier':                             'float32', # was 'float16'\n",
    "        'Census_OEMModelIdentifier':                            'float32',\n",
    "        'Census_ProcessorCoreCount':                            'float16',\n",
    "        'Census_ProcessorManufacturerIdentifier':               'float16',\n",
    "        'Census_ProcessorModelIdentifier':                      'float32', # was 'float16'\n",
    "        'Census_ProcessorClass':                                'category',\n",
    "        'Census_PrimaryDiskTotalCapacity':                      'float64', # was 'float32'\n",
    "        'Census_PrimaryDiskTypeName':                           'category',\n",
    "        'Census_SystemVolumeTotalCapacity':                     'float64', # was 'float32'\n",
    "        'Census_HasOpticalDiskDrive':                           'int8',\n",
    "        'Census_TotalPhysicalRAM':                              'float32',\n",
    "        'Census_ChassisTypeName':                               'category',\n",
    "        'Census_InternalPrimaryDiagonalDisplaySizeInInches':    'float32', # was 'float16'\n",
    "        'Census_InternalPrimaryDisplayResolutionHorizontal':    'float32', # was 'float16'\n",
    "        'Census_InternalPrimaryDisplayResolutionVertical':      'float32', # was 'float16'\n",
    "        'Census_PowerPlatformRoleName':                         'category',\n",
    "        'Census_InternalBatteryType':                           'category',\n",
    "        'Census_InternalBatteryNumberOfCharges':                'float64', # was 'float32'\n",
    "        'Census_OSVersion':                                     'category',\n",
    "        'Census_OSArchitecture':                                'category',\n",
    "        'Census_OSBranch':                                      'category',\n",
    "        'Census_OSBuildNumber':                                 'int16',\n",
    "        'Census_OSBuildRevision':                               'int32',\n",
    "        'Census_OSEdition':                                     'category',\n",
    "        'Census_OSSkuName':                                     'category',\n",
    "        'Census_OSInstallTypeName':                             'category',\n",
    "        'Census_OSInstallLanguageIdentifier':                   'float16',\n",
    "        'Census_OSUILocaleIdentifier':                          'int16',\n",
    "        'Census_OSWUAutoUpdateOptionsName':                     'category',\n",
    "        'Census_IsPortableOperatingSystem':                     'int8',\n",
    "        'Census_GenuineStateName':                              'category',\n",
    "        'Census_ActivationChannel':                             'category',\n",
    "        'Census_IsFlightingInternal':                           'float16',\n",
    "        'Census_IsFlightsDisabled':                             'float16',\n",
    "        'Census_FlightRing':                                    'category',\n",
    "        'Census_ThresholdOptIn':                                'float16',\n",
    "        'Census_FirmwareManufacturerIdentifier':                'float16',\n",
    "        'Census_FirmwareVersionIdentifier':                     'float32',\n",
    "        'Census_IsSecureBootEnabled':                           'int8',\n",
    "        'Census_IsWIMBootEnabled':                              'float16',\n",
    "        'Census_IsVirtualDevice':                               'float16',\n",
    "        'Census_IsTouchEnabled':                                'int8',\n",
    "        'Census_IsPenCapable':                                  'int8',\n",
    "        'Census_IsAlwaysOnAlwaysConnectedCapable':              'float16',\n",
    "        'Wdft_IsGamer':                                         'float16',\n",
    "        'Wdft_RegionIdentifier':                                'float16',\n",
    "        'HasDetections':                                        'int8'\n",
    "        }"
   ]
  },
  {
   "cell_type": "code",
   "execution_count": null,
   "metadata": {
    "id": "NsWjWp3z-mDJ"
   },
   "outputs": [],
   "source": [
    "malware = pd.read_csv('../train.csv', dtype=dtypes)"
   ]
  },
  {
   "cell_type": "code",
   "execution_count": null,
   "metadata": {
    "id": "nJyHjFbl-mDK"
   },
   "outputs": [],
   "source": [
    "malware_test = pd.read_csv('../test.csv', dtype=dtypes)"
   ]
  },
  {
   "cell_type": "code",
   "execution_count": null,
   "metadata": {
    "id": "6XLdTfWD-mDL"
   },
   "outputs": [],
   "source": [
    "malware.head()"
   ]
  },
  {
   "cell_type": "code",
   "execution_count": null,
   "metadata": {
    "id": "fJ77TM0c-mDN"
   },
   "outputs": [],
   "source": [
    "# Let's determine the type of each feature\n",
    "# Easiest to do for binary types:\n",
    "\n",
    "bins = [col for col in malware.columns if malware[col].nunique()==2]\n",
    "\n",
    "# Now it is tricky to distinguish between the numerical and categorical data - \n",
    "# a lot of categorical features have numerical values so we need to distinguish them by inspection?\n",
    "# According to [1], the following are true numericals:\n",
    "\n",
    "nums = ['Census_ProcessorCoreCount',\n",
    "        'Census_PrimaryDiskTotalCapacity',\n",
    "        'Census_SystemVolumeTotalCapacity',\n",
    "        'Census_TotalPhysicalRAM',\n",
    "        'Census_InternalPrimaryDiagonalDisplaySizeInInches',\n",
    "        'Census_InternalPrimaryDisplayResolutionHorizontal',\n",
    "        'Census_InternalPrimaryDisplayResolutionVertical',\n",
    "        'Census_InternalBatteryNumberOfCharges']\n",
    "\n",
    "cats = [col for col in malware.columns if col not in bins if col not in nums]\n",
    "feature_dict = [['Binary Features', len(bins)], [\"Numerical Features\", len(nums)], \n",
    "               [\"Categorical Features\", len(cats)]]\n",
    "categories = pd.DataFrame(feature_dict, columns=['Feature Type', 'Feature Count'])"
   ]
  },
  {
   "cell_type": "code",
   "execution_count": null,
   "metadata": {
    "id": "44dWhY-V-mDO"
   },
   "outputs": [],
   "source": [
    "len(cats) + len(bins) + len(nums)"
   ]
  },
  {
   "cell_type": "code",
   "execution_count": 8,
   "metadata": {
    "id": "eQlD-ssN-mDP"
   },
   "outputs": [
    {
     "ename": "NameError",
     "evalue": "name 'categories' is not defined",
     "output_type": "error",
     "traceback": [
      "\u001b[1;31m---------------------------------------------------------------------------\u001b[0m",
      "\u001b[1;31mNameError\u001b[0m                                 Traceback (most recent call last)",
      "\u001b[1;32m<ipython-input-8-e91bd4e90c29>\u001b[0m in \u001b[0;36m<module>\u001b[1;34m\u001b[0m\n\u001b[0;32m      1\u001b[0m \u001b[0mplt\u001b[0m\u001b[1;33m.\u001b[0m\u001b[0mfigure\u001b[0m\u001b[1;33m(\u001b[0m\u001b[0mfigsize\u001b[0m \u001b[1;33m=\u001b[0m \u001b[1;33m(\u001b[0m\u001b[1;36m10\u001b[0m\u001b[1;33m,\u001b[0m\u001b[1;36m10\u001b[0m\u001b[1;33m)\u001b[0m\u001b[1;33m)\u001b[0m\u001b[1;33m\u001b[0m\u001b[1;33m\u001b[0m\u001b[0m\n\u001b[1;32m----> 2\u001b[1;33m sns.barplot(data = categories.sort_values(by = 'Feature Count', ascending = False),\n\u001b[0m\u001b[0;32m      3\u001b[0m             x = \"Feature Count\", y = \"Feature Type\")\n\u001b[0;32m      4\u001b[0m \u001b[1;31m# as noted in the presentation, most of the features are categorical\u001b[0m\u001b[1;33m\u001b[0m\u001b[1;33m\u001b[0m\u001b[1;33m\u001b[0m\u001b[0m\n",
      "\u001b[1;31mNameError\u001b[0m: name 'categories' is not defined"
     ]
    },
    {
     "data": {
      "text/plain": [
       "<Figure size 720x720 with 0 Axes>"
      ]
     },
     "metadata": {},
     "output_type": "display_data"
    }
   ],
   "source": [
    "plt.figure(figsize = (10,10))\n",
    "sns.barplot(data = categories.sort_values(by = 'Feature Count', ascending = False),\n",
    "            x = \"Feature Count\", y = \"Feature Type\")\n",
    "# as noted in the presentation, most of the features are categorical"
   ]
  },
  {
   "cell_type": "code",
   "execution_count": null,
   "metadata": {
    "id": "K_t0tDMr-mDP"
   },
   "outputs": [],
   "source": [
    "# are all rows distinct?\n",
    "len(malware) == malware['MachineIdentifier'].nunique()"
   ]
  },
  {
   "cell_type": "code",
   "execution_count": null,
   "metadata": {
    "id": "wthMrOmW-mDQ"
   },
   "outputs": [],
   "source": [
    "# Look for missing data:\n",
    "# calculate the percentage of missing values in each column\n",
    "missing_data = (malware.isnull().sum()/malware.shape[0]).sort_values(ascending = False)"
   ]
  },
  {
   "cell_type": "code",
   "execution_count": null,
   "metadata": {
    "id": "SftUThJv-mDR"
   },
   "outputs": [],
   "source": [
    "print(f\"There are {len(missing_data[missing_data == 0])} columns with no missing data.\")\n",
    "print(f\"There are {len(missing_data[missing_data != 0])} columns with some data missing.\")\n",
    "# we see that more than 50% of the features have some missing data"
   ]
  },
  {
   "cell_type": "code",
   "execution_count": null,
   "metadata": {
    "id": "VxFhEOgv-mDR"
   },
   "outputs": [],
   "source": [
    "# get the first 20 columns with the highest % of missing values\n",
    "missing_data.head(20).sort_values().plot(kind = \"barh\", figsize = (10,20), fontsize = 30)\n",
    "# add a horizontal line for clearer comparison\n",
    "plt.vlines(x = 1, ymin = -1, ymax = len(missing_data))\n",
    "\n",
    "#plt.xlabel(size = 100)\n",
    "missing_data.head(20)"
   ]
  },
  {
   "cell_type": "markdown",
   "metadata": {
    "id": "1H6Ly1YT-mDS"
   },
   "source": [
    "We have three columns with over 95% missing data. These are:\n",
    "- **PuaMode** -  Pua Enabled mode from the service (PUA are Potentially Unwanted Applications). By default in Windows 10 (version 2004 and later), Microsoft Defender Antivirus blocks apps that \n",
    "are considered PUA, for Enterprise (E5) devices.\n",
    "- **Census_ProcessorClass** - Census_ProcessorClass - A classification of processors into high/medium/low. Initially used for Pricing Level SKU. No longer maintained and updated.\n",
    "- **DefaultBrowsersIdentifier** - ID for the machine's default browser.\n",
    "\n",
    "It seems that while these could potentially be important in our analysis, the fact that there are so many missing values simply disqualifies them for further consideration?"
   ]
  },
  {
   "cell_type": "code",
   "execution_count": null,
   "metadata": {
    "id": "hXjGVles-mDS"
   },
   "outputs": [],
   "source": [
    "for feat in list(missing_data.head(3).index):\n",
    "    print(malware[feat].value_counts())\n",
    "    print(malware[feat].nunique())\n",
    "    print(\"\\n\")\n",
    "    \n",
    "#  --- MISSING DATA (>95%) ----\n",
    "\n",
    "# NUCLEAR OPTION: ANNIHILATE ALL\n",
    "# to_drop = list(missing_data.head(3).index)\n",
    "# malware.drop(to_drop, inplace=True, axis=1)\n",
    "    \n",
    "# OPTION A: PULLING THE TRIGGER FOR SELECTED FEATURES\n",
    "# This seems like a good choice for the PuaMode and Census_ProcessorClass? \n",
    "# to_drop = ['PuaMode', 'Census_ProcessorClass']\n",
    "# malware.drop(labels = to_drop, axis=1, inplace = True)\n",
    "\n",
    "# OPTION B: FIXING?\n",
    "# 'DefaultBrowsersIdentifier' are denoted with numbers. Would it make sense to use some number for\n",
    "# the missing data that we will qualify as \"OTHER\" or \"UNKNOWN\"? People who care about browsers\n",
    "# may behave safer on the web etc.\n",
    "# malware[\"DefaultBrowsersIdentifier\"].fillna(777, inplace = True)"
   ]
  },
  {
   "cell_type": "markdown",
   "metadata": {
    "id": "KBF8DiBe-mDT"
   },
   "source": [
    "The italic text in the brackets next to the features are the definitions from Kaggle\n",
    "\n",
    "6 columns have roughly more than a third of the data missing. These are:\n",
    "- **Census_IsFlightingInternal** (*NA*, 83% missing) - what do they mean by flighting?? No idea what it represents\n",
    "- **Census_InternalBatteryType** (*NA*, 71% missing) - can battery type be important? \n",
    "- **Census_ThresholdOptIn** (*NA*, 64% missing) - I don't know what that is\n",
    "- **Census_IsWIMBootEnabled** (*NA*, 63% missing) - something system-boot related? I don't know\n",
    "- **SmartScreen** (*This is the SmartScreen enabled string value from registry. This is obtained by checking in order, HKLM\\SOFTWARE\\Policies\\Microsoft\\Windows\\System\\SmartScreenEnabled and HKLM\\SOFTWARE\\Microsoft\\Windows\\CurrentVersion\\Explorer\\SmartScreenEnabled. If the value exists but is blank, the value \"ExistsNotSet\" is sent in telemetry*, 36% missing) - \n",
    "- **OrganizationIdentifier** (*ID for the organization the machine belongs in, organization ID is mapped to both specific companies and broad industries*, 31% missing) - this may be important as some organizations might be a more common target of malware attacks due to the nature of their businesses, however we cannot really 'fill' those values with random values or deduce them? Would need to encode them as \"OTHER\" or \"UNKNOWN\"\n",
    "\n",
    "A lot of notebooks on this copetition throw away features with >70% missing data"
   ]
  },
  {
   "cell_type": "code",
   "execution_count": null,
   "metadata": {
    "id": "1W3S-4L8-mDT"
   },
   "outputs": [],
   "source": [
    "for feat in list(missing_data.iloc[3:9].index):\n",
    "    print(malware[feat].value_counts())\n",
    "    print(malware[feat].nunique())\n",
    "    print(\"\\n\")\n",
    "\n",
    "# NUCLEAR OPTION: ANNIHILATE ALL\n",
    "# to_drop = list(missing_data.iloc[3:9].index)\n",
    "# malware.drop(to_drop, inplace=True, axis=1)\n",
    "\n",
    "# for 'SmartScreen', we see that some categories are doubled becasue of sloppiness - this could be fixed\n",
    "# and another class denoting 'UNKNOWN'/'OTHER' could be added?\n",
    "# screen_fix = {\"Off\", \"Prompt\", \"Warn\", \"RequireAdmin\", \"On\", }"
   ]
  },
  {
   "cell_type": "code",
   "execution_count": null,
   "metadata": {
    "id": "3uuXUZKn-mDU"
   },
   "outputs": [],
   "source": [
    "# Another thing we might want too look at is to consider the cardinality of the data\n",
    "cardinals = pd.DataFrame([[col, malware[col].nunique()] for col in cats if col != 'MachineIdentifier'],\n",
    "                          columns = ['Feature', 'Cardinality'])"
   ]
  },
  {
   "cell_type": "code",
   "execution_count": null,
   "metadata": {
    "id": "zCG1P4H4-mDV"
   },
   "outputs": [],
   "source": [
    "cardinals['Cardinality'] = cardinals['Cardinality'].astype(float)\n",
    "cardinals.sort_values(by = \"Cardinality\", ascending = True).plot(kind = 'barh', x = \"Feature\",\n",
    "                                               y = \"Cardinality\",\n",
    "                                               figsize = (15,40), fontsize = 40)"
   ]
  },
  {
   "cell_type": "code",
   "execution_count": null,
   "metadata": {
    "id": "ArG7WIu2-mDV"
   },
   "outputs": [],
   "source": [
    "cardinals.sort_values(by = \"Cardinality\", ascending = True)"
   ]
  },
  {
   "cell_type": "code",
   "execution_count": null,
   "metadata": {
    "id": "50pyZZ9A-mDW"
   },
   "outputs": [],
   "source": [
    "# In categorical features, consider whether there is a majority class which 'dominates' \n",
    "# over the whole columns - this includes both binary and non-binary categorical features\n",
    "\n",
    "domination = pd.DataFrame(\n",
    "    data = [[col, malware[col].value_counts(normalize = True).values[0], \n",
    "             malware[col].nunique()] for col in malware.columns if col not in nums], \n",
    "    columns = ['Feature', 'domination of main class', \"Cardinality\"]\n",
    ")"
   ]
  },
  {
   "cell_type": "code",
   "execution_count": null,
   "metadata": {
    "id": "0Z0P8cdn-mDW"
   },
   "outputs": [],
   "source": [
    "domination.sort_values(by = \"domination of main class\", ascending = True).plot(kind = 'barh', x = \"Feature\",\n",
    "                                               y = \"domination of main class\",\n",
    "                                               figsize = (15,40), fontsize = 30)\n",
    "# add a horizontal line for clearer comparison\n",
    "plt.vlines(x = 1, ymin = -1, ymax = len(domination))\n",
    "\n",
    "\n",
    "# some guys on Kaggle remove features with >98% majority class dominance\n",
    "# for both binaries and non-binaries "
   ]
  },
  {
   "cell_type": "markdown",
   "metadata": {
    "id": "wG22GxMx-mDX"
   },
   "source": [
    "So the possible bad aspects of our training dataset are:\n",
    "- some columns with missing parts of data\n",
    "- columns with big variety of categories\n",
    "- some columns with a very dominant one type of class (majority category covers more than >90% of occurences[3] - skeweness?)\n",
    "\n",
    "However, it is also important to consider how the training set is related to the test set (or is it? thanks Rodrigo for the insight):"
   ]
  },
  {
   "cell_type": "code",
   "execution_count": null,
   "metadata": {
    "id": "hpS_Wg-U-mDX"
   },
   "outputs": [],
   "source": [
    "#####################################\n",
    "######## QUESTIONABLE PART ##########\n",
    "#####################################\n",
    "\n",
    "'''\n",
    "card_test = pd.DataFrame(\n",
    "    data = [[col, \n",
    "             malware[col].nunique(),\n",
    "             malware_test[col].nunique()] for col in cats if col != \"MachineIdentifier\"],\n",
    "    columns = ['Feature', \"Card. Train\", \"Card. Test\"]\n",
    ")\n",
    "\n",
    "card_test['Abs. % Difference'] = 100*abs((card_test['Card. Train']-card_test['Card. Test'])/card_test['Card. Train'])\n",
    "card_test.sort_values(by=\"Abs. % Difference\", ascending = False)\n",
    "\n",
    "# we see that some features have different classes in the train and test sets\n",
    "# some have more classes in the train, some have more classes in the test \n",
    "# this seems important but what can we do about it?\n",
    "'''"
   ]
  },
  {
   "cell_type": "code",
   "execution_count": null,
   "metadata": {
    "id": "X9B2U9KK-mDY"
   },
   "outputs": [],
   "source": [
    "##################################################################################\n",
    "###################### FURTHER IDEAS FOR REMOVING COLUMNS ########################\n",
    "##################################################################################\n",
    "#\n",
    "# - We have Country/City/GeoName Identifiers - Contry has NO missing values\n",
    "#   while City/GeoName have some (~3% and <0.1%). Surely GeoName can be tossed away because\n",
    "#   a given country obviously corresponds to a particular geographical region... What about \n",
    "#   cities? \n",
    "# - The ID column is to be dropped in the end of course\n",
    "# - more ideas"
   ]
  },
  {
   "cell_type": "code",
   "execution_count": null,
   "metadata": {
    "id": "GYszZrTG-mDY"
   },
   "outputs": [],
   "source": [
    "# Is our dataset balanced for training?\n",
    "plt.figure(figsize = (8,8))\n",
    "sns.countplot(data = malware, x = \"HasDetections\")\n",
    "# there is almost a 50:50 split of PWNED and non-PWNED machine, which is good"
   ]
  },
  {
   "cell_type": "code",
   "execution_count": null,
   "metadata": {
    "id": "uVdt-g6E-mDZ"
   },
   "outputs": [],
   "source": [
    "# Look for bias in binary features?\n",
    "for binary in bins:\n",
    "    if binary != 'HasDetections':\n",
    "        plt.figure()\n",
    "        sns.countplot(data = malware, x = binary, hue = 'HasDetections')\n",
    "        plt.show()"
   ]
  },
  {
   "cell_type": "code",
   "execution_count": null,
   "metadata": {
    "id": "aejpkSyz-mDa"
   },
   "outputs": [],
   "source": [
    "# all but the infamous 'PuaMode' seem fine, yet another reason to get rid of it\n",
    "# the dominances of major class are also visible here:\n",
    "\n",
    "cond = 0.95\n",
    "bin_dom = domination[(domination['domination of main class'] > cond) & (domination['Cardinality'] == 2)]\n",
    "print(bin_dom)\n",
    "print(\"\\n\")\n",
    "print(f\"There are {len(bins)} binary features, {len(bin_dom)} of them have the majority class in > {100*cond}% occurences\")"
   ]
  },
  {
   "cell_type": "code",
   "execution_count": null,
   "metadata": {
    "id": "SfZ9jzNF2Ovy"
   },
   "outputs": [],
   "source": [
    "\n",
    "def entropy(series):\n",
    "    pX = series.value_counts(normalize=True, dropna=False)\n",
    "    return -np.sum(pX * np.log2(pX))\n",
    "\n",
    "def condEntropy(df, X, Y):\n",
    "    \"\"\"Compute the conditional H(X|Y) in dataframe df\n",
    "    Args:\n",
    "        df: a dataframe\n",
    "        X: the name of the conditioning columt\n",
    "        Y: the name of the column whose entropy we wish to compute\n",
    "    \"\"\"\n",
    "    pY = df[Y].value_counts(normalize=True, dropna=False)\n",
    "    HXgivenY = np.array(df.groupby(Y, dropna=False).agg({X: entropy}).reindex(pY.index)).reshape(-1)\n",
    "    return np.sum(np.array(pY) * HXgivenY)\n",
    "\n",
    "entropyTarget = entropy(malware['HasDetections'])\n",
    "mutualInfos = {}\n",
    "for column in malware:\n",
    "    # column = 'PuaMode'\n",
    "    if column != 'MachineIdentifier' and column != 'HasDetections':\n",
    "        if dtypes[column] == 'category' and malware[column].isnull().values.any():\n",
    "            malware[column] = malware[column].cat.add_categories(\"NaN\")\n",
    "            malware[column].fillna(\"NaN\", inplace=True)       \n",
    "        mi = entropyTarget - condEntropy(malware, 'HasDetections', column)\n",
    "        mutualInfos[column] = mi\n",
    "        with open('/content/gdrive/My Drive/Notebooks Colab/mutualInfos.pickle', 'wb') as handle:\n",
    "            pickle.dump(mutualInfos, handle, protocol=pickle.HIGHEST_PROTOCOL)\n",
    "        print('I(target, {}) = {}'.format(column, mi))"
   ]
  },
  {
   "cell_type": "code",
   "execution_count": null,
   "metadata": {
    "id": "m-6JxzWces3o"
   },
   "outputs": [],
   "source": [
    "import itertools\n",
    "\n",
    "columns = malware.columns.values.tolist()\n",
    "columns.remove('HasDetections')\n",
    "columns.remove('MachineIdentifier')\n",
    "\n",
    "featureMIs = {}\n",
    "entropies = {}\n",
    "\n",
    "for (var1, var2) in itertools.combinations(columns, 2):\n",
    "    if var1 != var2:\n",
    "        entropies[var1] = entropy(malware[var1])\n",
    "        featureMIs[f\"{var1},{var2}\"] = entropies[var1] - condEntropy(malware, var1, var2)\n",
    "        print(f'I({var1}, {var2}) = {featureMIs[f\"{var1},{var2}\"]}')\n",
    "        with open('/content/gdrive/My Drive/Notebooks Colab/featureMIs.pickle', 'wb') as handle:\n",
    "            pickle.dump(featureMIs, handle, protocol=pickle.HIGHEST_PROTOCOL)\n",
    "        with open('/content/gdrive/My Drive/Notebooks Colab/entropies.pickle', 'wb') as handle:\n",
    "            pickle.dump(entropies, handle, protocol=pickle.HIGHEST_PROTOCOL)"
   ]
  },
  {
   "cell_type": "markdown",
   "metadata": {
    "id": "5QmBRXJQ6auo"
   },
   "source": [
    "# Preprocessing"
   ]
  },
  {
   "cell_type": "markdown",
   "metadata": {
    "id": "l6LU6Hk26gZB"
   },
   "source": [
    "Some data cleansing and appropriate formatting. There are some variables that currently are type <tt>int</tt> although they are not ordinal, but I thought their cardinality was way too large to be categorical considering that to use <tt>scikit</tt> models we'll need to one-hot encode them."
   ]
  },
  {
   "cell_type": "code",
   "execution_count": null,
   "metadata": {
    "id": "gtQ2G2-U-mDc"
   },
   "outputs": [],
   "source": [
    "preProcessing = {\n",
    "    'EngineVersion': lambda x: x.str.replace('.', '').astype(np.uint32),\n",
    "    'AppVersion': lambda x: x.str.replace('.', '').astype(np.uint64),\n",
    "    'AvSigVersion': lambda x: x.str.replace('.', '').str.replace('&#x17;', '').astype(np.uint32),\n",
    "    'RtpStateBitfield': lambda x: x.astype('category'),\n",
    "    'DefaultBrowsersIdentifier': lambda x: x.astype(np.uint16),\n",
    "    'AVProductStatesIdentifier': lambda x: x.astype(np.uint32),\n",
    "    'AVProductsInstalled': lambda x: x.astype('category'),\n",
    "    'AVProductsEnabled': lambda x: x.astype('category'),\n",
    "    'CityIdentifier': lambda x: x.astype(np.uint32),\n",
    "    'OrganizationIdentifier': lambda x: x.astype(np.uint8),\n",
    "    'GeoNameIdentifier': lambda x: x.astype(np.uint16),\n",
    "    'OsVer': lambda x: x.str.replace('.', '').astype(np.uint32),\n",
    "    'IsProtected': lambda x: x.astype(np.uint8),\n",
    "    'PuaMode': lambda x: x.astype(np.uint8),\n",
    "    'SMode': lambda x: x.astype(np.uint8),\n",
    "    'IeVerIdentifier': lambda x: x.astype(np.uint16),\n",
    "    'Firewall': lambda x: x.astype(np.uint8),\n",
    "    'UacLuaenable': lambda x: x.astype('category'),\n",
    "    'Census_OEMNameIdentifier': lambda x: x.astype(np.uint16),\n",
    "    'Census_OEMModelIdentifier': lambda x: x.astype(np.uint32),\n",
    "    'Census_ProcessorCoreCount': lambda x: x.astype(np.uint8),\n",
    "    'Census_ProcessorManufacturerIdentifier': lambda x: x.astype('category'),\n",
    "    'Census_ProcessorModelIdentifier': lambda x: x.astype(np.uint16),\n",
    "    'Census_PrimaryDiskTotalCapacity': lambda x: x.astype(np.uint64),\n",
    "    'Census_SystemVolumeTotalCapacity': lambda x: x.astype(np.uint32),\n",
    "    'Census_TotalPhysicalRAM': lambda x: x.astype(np.uint32),\n",
    "    'Census_InternalPrimaryDisplayResolutionHorizontal': lambda x: x.astype(np.int32),  # (Has missing values as -1)\n",
    "    'Census_InternalPrimaryDisplayResolutionVertical': lambda x: x.astype(np.int16),  # (Has missing values as -1)\n",
    "    'Census_InternalBatteryNumberOfCharges': lambda x: x.astype(np.uint32),\n",
    "    'Census_OSVersion': lambda x: x.str.replace('.', '').astype(np.uint64),\n",
    "    'Census_OSInstallLanguageIdentifier': lambda x: x.astype('category'),\n",
    "    'Census_IsFlightingInternal': lambda x: x.astype(np.uint8),\n",
    "    'Census_IsFlightsDisabled': lambda x: x.astype(np.uint8),\n",
    "    'Census_ThresholdOptIn': lambda x: x.astype(np.uint8),\n",
    "    'Census_FirmwareManufacturerIdentifier': lambda x: x.astype(np.uint16),\n",
    "    'Census_FirmwareVersionIdentifier': lambda x: x.astype(np.uint32),\n",
    "    'Census_IsWIMBootEnabled': lambda x: x.astype(np.uint8),\n",
    "    'Census_IsVirtualDevice': lambda x: x.astype(np.uint8),\n",
    "    'Census_IsAlwaysOnAlwaysConnectedCapable': lambda x: x.astype(np.uint8),\n",
    "    'Wdft_IsGamer': lambda x: x.astype(np.uint8),\n",
    "    'Wdft_RegionIdentifier': lambda x: x.astype('category'),\n",
    "}"
   ]
  },
  {
   "cell_type": "markdown",
   "metadata": {
    "id": "y0Ft--b37lw_"
   },
   "source": [
    "We apply the preprocessing functions. The <tt>try-catch</tt> is to deal with the casting to integers of variables with NaN values, that is to reason for so many senseless floats."
   ]
  },
  {
   "cell_type": "code",
   "execution_count": null,
   "metadata": {
    "id": "P9S5YAAZ7QDT"
   },
   "outputs": [],
   "source": [
    "malwareProcessed = malware.copy()\n",
    "malwareProcessed.drop('MachineIdentifier', inplace=True, axis=1)\n",
    "\n",
    "for column in malwareProcessed:\n",
    "    if column in preProcessing:\n",
    "        try:\n",
    "            malwareProcessed[column] = preProcessing[column](malwareProcessed[column])\n",
    "        except Exception as e:\n",
    "            if str(e) == \"Cannot convert non-finite values (NA or inf) to integer\":\n",
    "                malwareProcessed[column] = malwareProcessed[column].fillna(malwareProcessed[column].mode()[0])\n",
    "                malwareProcessed[column] = preProcessing[column](malwareProcessed[column])"
   ]
  },
  {
   "cell_type": "markdown",
   "metadata": {
    "id": "FjsYeaYs8HD2"
   },
   "source": [
    "Checking the data type and cardinality of all features:"
   ]
  },
  {
   "cell_type": "code",
   "execution_count": null,
   "metadata": {
    "colab": {
     "base_uri": "https://localhost:8080/"
    },
    "id": "QoFoUQ098N2x",
    "outputId": "6713f0c6-225d-4e88-a269-106b873747ed"
   },
   "outputs": [],
   "source": [
    "for column in malwareProcessed:\n",
    "    print(f\"{column} ({malwareProcessed[column].dtype}): {malwareProcessed[column].nunique()}\")"
   ]
  },
  {
   "cell_type": "markdown",
   "metadata": {
    "id": "UDFUof9r8mn5"
   },
   "source": [
    "Dealing with NaNs according to each data-type:"
   ]
  },
  {
   "cell_type": "code",
   "execution_count": null,
   "metadata": {
    "id": "iqRMiTs-8q5F"
   },
   "outputs": [],
   "source": [
    "for column in malwareProcessed:\n",
    "    if hasattr(malwareProcessed[column], 'cat'):\n",
    "        malwareProcessed[column] = malwareProcessed[column].cat.add_categories(\"NaN\")\n",
    "        malwareProcessed[column].fillna(\"NaN\", inplace=True)\n",
    "    elif malwareProcessed[column].dtype in ['uint8', 'int8', 'uint16', 'int16', 'uint32', 'int32', 'uint64', 'int64']:\n",
    "        malwareProcessed[column].fillna(malwareProcessed[column].mode(), inplace=True)\n",
    "    elif malwareProcessed[column].dtype in ['float16', 'float32']:\n",
    "        malwareProcessed[column].fillna(malwareProcessed[column].mean(), inplace=True)"
   ]
  },
  {
   "cell_type": "markdown",
   "metadata": {
    "id": "TsLU8KkB81XR"
   },
   "source": [
    "Now we verify that there are no more NaNs :)"
   ]
  },
  {
   "cell_type": "code",
   "execution_count": null,
   "metadata": {
    "id": "KAYzkDiv82wI"
   },
   "outputs": [],
   "source": [
    "for column in malwareProcessed:\n",
    "    if malwareProcessed[column].isnull().any():\n",
    "        print(f\"¡Mierda!, {column} ({malwareProcessed[column].dtype}) has still NaN values! D:\")"
   ]
  },
  {
   "cell_type": "markdown",
   "metadata": {
    "id": "Sg8kWcBs92ap"
   },
   "source": [
    "Let's save a pickle with the processed data set to check if pickles are indeed faster:"
   ]
  },
  {
   "cell_type": "code",
   "execution_count": null,
   "metadata": {
    "id": "Td2PLIoO99i8"
   },
   "outputs": [],
   "source": [
    "with open('../cleanDF.pickle', 'wb') as handle:\n",
    "    pickle.dump(malwareProcessed, handle, protocol=pickle.HIGHEST_PROTOCOL)"
   ]
  },
  {
   "cell_type": "markdown",
   "metadata": {
    "id": "KUMsk8nH-Q0g"
   },
   "source": [
    "Hmmm, at least saving was fast"
   ]
  }
 ],
 "metadata": {
  "colab": {
   "collapsed_sections": [],
   "name": "Initial_EDA_Colab.ipynb",
   "provenance": []
  },
  "kernelspec": {
   "display_name": "Python 3",
   "language": "python",
   "name": "python3"
  },
  "language_info": {
   "codemirror_mode": {
    "name": "ipython",
    "version": 3
   },
   "file_extension": ".py",
   "mimetype": "text/x-python",
   "name": "python",
   "nbconvert_exporter": "python",
   "pygments_lexer": "ipython3",
   "version": "3.7.6"
  }
 },
 "nbformat": 4,
 "nbformat_minor": 1
}
