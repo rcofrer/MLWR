{
 "cells": [
  {
   "cell_type": "markdown",
   "metadata": {},
   "source": [
    "## Feature selection using CMI"
   ]
  },
  {
   "cell_type": "code",
   "execution_count": 18,
   "metadata": {},
   "outputs": [],
   "source": [
    "import pickle\n",
    "import pandas as pd\n",
    "import operator\n",
    "import numpy as np"
   ]
  },
  {
   "cell_type": "code",
   "execution_count": 2,
   "metadata": {},
   "outputs": [],
   "source": [
    "with open(r\"featureMIs.pickle\", \"rb\") as input_file:\n",
    "    MI = pickle.load(input_file)\n",
    "    \n",
    "with open(r\"entropies.pickle\", \"rb\") as input_file:\n",
    "    entropy = pickle.load(input_file)\n",
    "    \n",
    "with open(r\"MutualInfos.pickle\", \"rb\") as input_file:\n",
    "    MI_target = pickle.load(input_file)\n",
    "# del MI_target['HasDetections']"
   ]
  },
  {
   "cell_type": "code",
   "execution_count": 3,
   "metadata": {},
   "outputs": [],
   "source": [
    "nums = ['Census_ProcessorCoreCount',\n",
    "        'Census_PrimaryDiskTotalCapacity',\n",
    "        'Census_SystemVolumeTotalCapacity',\n",
    "        'Census_TotalPhysicalRAM',\n",
    "        'Census_InternalPrimaryDiagonalDisplaySizeInInches',\n",
    "        'Census_InternalPrimaryDisplayResolutionHorizontal',\n",
    "        'Census_InternalPrimaryDisplayResolutionVertical',\n",
    "        'Census_InternalBatteryNumberOfCharges']"
   ]
  },
  {
   "cell_type": "code",
   "execution_count": 4,
   "metadata": {},
   "outputs": [
    {
     "data": {
      "text/plain": [
       "74"
      ]
     },
     "execution_count": 4,
     "metadata": {},
     "output_type": "execute_result"
    }
   ],
   "source": [
    "with open('../cleanDF.pickle', 'rb') as handle:\n",
    "    malware = pickle.load(handle)\n",
    "MI_cols = [col for col in malware.columns if col not in nums and col != 'MachineIdentifier']\n",
    "len(MI_cols)"
   ]
  },
  {
   "cell_type": "markdown",
   "metadata": {},
   "source": [
    "## Forward selection algorithm (greedy feature selection)\n",
    "Initialize set of selected variables $S={\\emptyset}$ and $X$ the set of all variables being considered for analysis.\n",
    "\n",
    "**Step 1.** *Selection of the first feature*\n",
    "\n",
    "   Find feature $X^* \\in X$ that maximizes $I(C,X_i)$;\n",
    "   \n",
    "   set $X = X\\setminus \\{X^*\\}, S=\\{X^*\\}.$ Where $C$ is the target variable $C$.\n",
    "   \n",
    "**Step 2.** *greedy feature selection*\n",
    "\n",
    "Find feature $X^+ \\in X$ according to:\n",
    "\n",
    "$$X^+ = \\text{argmax}_{X_i\\in X\\setminus S}\\left\\{I(C,X_i) - \\max_{X_s\\in S}{CU_{X_i,X_s}I(C,X_s)}\\right\\}$$\n",
    "\n",
    "Where $CU_{X_i,X_s}= \\cfrac{I(X_i,X_s)}{H(X_s)}$\n",
    "\n",
    "and finally, set $X = X\\setminus \\{X^+\\}, S=S\\cup\\{X^+\\}.$\n",
    "\n",
    "**Step 3.** Go to step 2."
   ]
  },
  {
   "cell_type": "code",
   "execution_count": 5,
   "metadata": {},
   "outputs": [],
   "source": [
    "# utiliy functions\n",
    "def get_MI(X_i,X_s):\n",
    "    val = 0\n",
    "    try:\n",
    "        val =  MI[f\"{X_i},{X_s}\"]\n",
    "    except:\n",
    "        val =  MI[f\"{X_s},{X_i}\"]\n",
    "    \n",
    "    return val\n",
    "def CU(X_i,X_s):\n",
    "    '''\n",
    "    X_i,X_s: labels of columns representing the variables, respectively.\n",
    "    \n",
    "    '''\n",
    "    mi = get_MI(X_i,X_s)\n",
    "    H  = entropy[X_s]\n",
    "    \n",
    "    return mi/H"
   ]
  },
  {
   "cell_type": "code",
   "execution_count": 6,
   "metadata": {},
   "outputs": [],
   "source": [
    "Selected_features = []\n",
    "features          = MI_cols[:-1]\n",
    "\n",
    "# step 1\n",
    "Selected_features.append(max(MI_target.items(), key=operator.itemgetter(1))[0])\n",
    "\n",
    "# step 2\n",
    "\n",
    "def get_inner_max(X_i,Selected):\n",
    "    max_val=-1e10\n",
    "    for X_s in Selected:\n",
    "        value = CU(X_i,X_s)*MI_target[X_s]\n",
    "        if value >max_val:\n",
    "            max_val = value\n",
    "            \n",
    "    return max_val\n",
    "\n",
    "def get_next_var(Selected):\n",
    "    best_var = None\n",
    "    max_val  = -1e10\n",
    "    for X_i in features:\n",
    "        if X_i in Selected:\n",
    "            continue\n",
    "        value = MI_target[X_i] - get_inner_max(X_i,Selected)\n",
    "        if value >max_val:\n",
    "            max_val  = value\n",
    "            best_var = X_i\n",
    "    \n",
    "    return best_var"
   ]
  },
  {
   "cell_type": "code",
   "execution_count": 10,
   "metadata": {},
   "outputs": [],
   "source": [
    "features          = MI_cols[:-1]\n",
    "Selected_features.append(max(MI_target.items(), key=operator.itemgetter(1))[0])\n",
    "def select_n_features(n):\n",
    "    Selected_features = []\n",
    "    #to define threshold\n",
    "    criteria = True\n",
    "    n_vars_selected =1\n",
    "    while n_vars_selected <n:\n",
    "\n",
    "        next_var = get_next_var(Selected_features)\n",
    "        Selected_features.append(next_var)\n",
    "        n_vars_selected+=1\n",
    "    return Selected_features"
   ]
  },
  {
   "cell_type": "code",
   "execution_count": 11,
   "metadata": {},
   "outputs": [
    {
     "data": {
      "text/plain": [
       "['SmartScreen',\n",
       " 'AVProductStatesIdentifier',\n",
       " 'OsBuildLab',\n",
       " 'Census_PowerPlatformRoleName',\n",
       " 'Census_ChassisTypeName',\n",
       " 'Census_PrimaryDiskTypeName',\n",
       " 'Census_InternalBatteryType',\n",
       " 'PuaMode',\n",
       " 'Census_ProcessorClass']"
      ]
     },
     "execution_count": 11,
     "metadata": {},
     "output_type": "execute_result"
    }
   ],
   "source": [
    "n = 10\n",
    "select_n_features(n)"
   ]
  },
  {
   "cell_type": "markdown",
   "metadata": {},
   "source": [
    "# Preparing variables to input them into model\n"
   ]
  },
  {
   "cell_type": "code",
   "execution_count": 19,
   "metadata": {
    "scrolled": true
   },
   "outputs": [],
   "source": [
    "# X = malware.copy().drop('HasDetections', 1)\n",
    "# y = malware.copy()['HasDetections']\n",
    "\n",
    "categoricalColumns = list(malware.drop('HasDetections').select_dtypes(include='category').columns)\n",
    "numericalColumns = list(malware.drop('HasDetections').select_dtypes(exclude='category').columns)\n",
    "\n",
    "for column in numericalColumns:\n",
    "    if column == 'HasDetections':\n",
    "        continue\n",
    "    malware[column] = ((malware[column] - np.mean(malware[column])) / np.std(malware[column])).astype('float64')\n",
    "# for column in numericalColumns:\n",
    "#     X[column] = ((X[column] - np.mean(X[column])) / np.std(X[column])).astype('float64')\n",
    "\n",
    "# xTrain, xTest, yTrain, yTest = train_test_split(X, y, test_size=0.01, stratify=y, random_state=11)\n",
    "\n",
    "# uniques = {}\n",
    "# for column in categoricalColumns:\n",
    "#     uniques[column] = X[column].unique()\n",
    "\n",
    "# uniquesDF = pd.DataFrame(dict([ (k,pd.Series(v)) for k,v in uniques.items() ]))\n",
    "\n",
    "# categoricalEncoder = OneHotEncoder(handle_unknown='ignore', dtype='uint8', sparse=True)\n",
    "# categoricalEncoder.fit(uniquesDF.astype(str))\n",
    "\n",
    "# xTestNumerical = xTest[numericalColumns].values\n",
    "# xTestCategorical = xTest[categoricalColumns]\n",
    "# xTestCategorical = categoricalEncoder.transform(xTestCategorical)\n",
    "# xTest = np.concatenate([xTestNumerical, scipy.sparse.csr_matrix.toarray(xTestCategorical)], axis=1)\n",
    "# del xTestNumerical\n",
    "# del xTestCategorical\n",
    "# del uniquesDF"
   ]
  },
  {
   "cell_type": "code",
   "execution_count": 20,
   "metadata": {},
   "outputs": [],
   "source": [
    "# lightgbm for classification\n",
    "import csv\n",
    "from numpy import mean\n",
    "from numpy import std\n",
    "from sklearn.datasets import make_classification\n",
    "from lightgbm import LGBMClassifier\n",
    "from sklearn.model_selection import cross_val_score\n",
    "from sklearn.model_selection import RepeatedStratifiedKFold\n",
    "from sklearn.model_selection import train_test_split\n",
    "from sklearn.preprocessing import OneHotEncoder\n",
    "import re\n",
    "\n",
    "# getting accuracy using the n best(according to CMI algorithm) along with the rest of the variables and accuracy \n",
    "# using complement of seleted features along the rest of the variables.\n",
    "def get_acc(n, sample_size = 10000):\n",
    "    #get best n features\n",
    "    Selected_features = select_n_features(n)\n",
    "    dropped_features  = list(set(categoricalColumns)-set(Selected_features))\n",
    "    #using sample of dataframe\n",
    "    malware_sample = malware.sample(sample_size)\n",
    "    # malware_sample.drop('Census_InternalBatteryType', axis=1, inplace=True)\n",
    "    # malware_sample.drop(list(set(features)-set(Selected_features)),axis=1, inplace=True)\n",
    "    df = malware_sample.drop(dropped_features,axis=1)\n",
    "    \n",
    "    # define dataset\n",
    "#     malware_d = pd.get_dummies(malware_sample,prefix=malware_sample.select_dtypes(include='category').columns.values)\n",
    "#     malware_d = malware_d.rename(columns={'OsVer_10.0.48.0': 'OsVer_10.0.48.00'})\n",
    "#     malware_d = malware_d.rename(columns = lambda x:re.sub('[^A-Za-z0-9_]+', '', x))\n",
    "\n",
    "    X, y = df.loc[:, df.columns != 'HasDetections'], df[\"HasDetections\"]\n",
    "    # need to define the one-hot encoder everytime (?)\n",
    "    uniques = {}\n",
    "    for column in Selected_features:\n",
    "        uniques[column] = X[column].unique()\n",
    "    uniquesDF = pd.DataFrame(dict([ (k,pd.Series(v)) for k,v in uniques.items() ]))\n",
    "    categoricalEncoder = OneHotEncoder(handle_unknown='ignore', dtype='uint8', sparse=True)\n",
    "    categoricalEncoder.fit(uniquesDF.astype(str))\n",
    "                             \n",
    "    XNumerical = X[numericalColumns].values\n",
    "    XCategorical = X[Selected_features]\n",
    "    XCategorical = categoricalEncoder.transform(XCategorical)\n",
    "    X = np.concatenate([XNumerical, scipy.sparse.csr_matrix.toarray(XCategorical)], axis=1)\n",
    "    X_train, X_test, y_train, y_test = train_test_split(X, y, test_size=0.20, random_state=42)\n",
    "    \n",
    "    # # evaluate the model\n",
    "    model = LGBMClassifier(n_estimators = 200)\n",
    "    cv = RepeatedStratifiedKFold(n_splits=10, n_repeats=3, random_state=1)\n",
    "    n_scores_selected = cross_val_score(model, X_train, y_train, scoring='accuracy', cv=cv, n_jobs=-1, error_score='raise')\n",
    "    print('Accuracy: %.3f (%.3f)' % (mean(n_scores_selected), std(n_scores_selected)))\n",
    "    # fit the model \n",
    "    model = LGBMClassifier()\n",
    "    model.fit(X_train, y_train)\n",
    "    # # make predictions\n",
    "    yhat = model.predict(X_test)\n",
    "    accuracy_on_test_selected = np.mean(yhat==y_test.values)\n",
    "    print('accuracy on test: %f' % np.mean(yhat==y_test.values))\n",
    "    \n",
    "    \n",
    "    df = malware_sample.drop(Selected_features,axis=1)\n",
    "    \n",
    "    # define dataset\n",
    "#     malware_d = pd.get_dummies(malware_sample,prefix=malware_sample.select_dtypes(include='category').columns.values)\n",
    "#     malware_d = malware_d.rename(columns={'OsVer_10.0.48.0': 'OsVer_10.0.48.00'})\n",
    "#     malware_d = malware_d.rename(columns = lambda x:re.sub('[^A-Za-z0-9_]+', '', x))\n",
    "\n",
    "    X, y = df.loc[:, df.columns != 'HasDetections'], df[\"HasDetections\"]\n",
    "    # need to define the one-hot encoder everytime (?)\n",
    "    uniques = {}\n",
    "    for column in dropped_features:\n",
    "        uniques[column] = X[column].unique()\n",
    "    uniquesDF = pd.DataFrame(dict([ (k,pd.Series(v)) for k,v in uniques.items() ]))\n",
    "    categoricalEncoder = OneHotEncoder(handle_unknown='ignore', dtype='uint8', sparse=True)\n",
    "    categoricalEncoder.fit(uniquesDF.astype(str))\n",
    "                             \n",
    "    XNumerical = X[numericalColumns].values\n",
    "    XCategorical = X[dropped_features]\n",
    "    XCategorical = categoricalEncoder.transform(XCategorical)\n",
    "    X = np.concatenate([XNumerical, scipy.sparse.csr_matrix.toarray(XCategorical)], axis=1)\n",
    "    X_train, X_test, y_train, y_test = train_test_split(X, y, test_size=0.20, random_state=42)\n",
    "    \n",
    "    # # evaluate the model\n",
    "    model = LGBMClassifier(n_estimators = 200)\n",
    "    cv = RepeatedStratifiedKFold(n_splits=10, n_repeats=3, random_state=1)\n",
    "    n_scores_dropped = cross_val_score(model, X_train, y_train, scoring='accuracy', cv=cv, n_jobs=-1, error_score='raise')\n",
    "    print('Accuracy: %.3f (%.3f)' % (mean(n_scores_dropped), std(n_scores_dropped)))\n",
    "    # fit the model \n",
    "    model = LGBMClassifier()\n",
    "    model.fit(X_train, y_train)\n",
    "    # # make predictions\n",
    "    yhat = model.predict(X_test)\n",
    "    accuracy_on_test_dropped = np.mean(yhat==y_test.values)\n",
    "    print('accuracy on test: %f' % np.mean(yhat==y_test.values))\n",
    "                             \n",
    "    with open(\"results_feature_selection.csv\", \"a\") as f:\n",
    "                             f.write(f\"{n},{mean(n_scores_selected)},{std(n_scores_selected)},{mean(n_scores_dropped)},{std(n_scores_dropped)}\\n\")"
   ]
  },
  {
   "cell_type": "code",
   "execution_count": 22,
   "metadata": {},
   "outputs": [
    {
     "ename": "MemoryError",
     "evalue": "Unable to allocate 3.32 GiB for an array with shape (50, 8921483) and data type float64",
     "output_type": "error",
     "traceback": [
      "\u001b[1;31m---------------------------------------------------------------------------\u001b[0m",
      "\u001b[1;31mMemoryError\u001b[0m                               Traceback (most recent call last)",
      "\u001b[1;32m<ipython-input-22-963fadfccbc7>\u001b[0m in \u001b[0;36m<module>\u001b[1;34m\u001b[0m\n\u001b[0;32m      1\u001b[0m \u001b[1;32mfor\u001b[0m \u001b[0mi\u001b[0m \u001b[1;32min\u001b[0m \u001b[0mrange\u001b[0m\u001b[1;33m(\u001b[0m\u001b[1;36m60\u001b[0m\u001b[1;33m)\u001b[0m\u001b[1;33m:\u001b[0m\u001b[1;33m\u001b[0m\u001b[1;33m\u001b[0m\u001b[0m\n\u001b[1;32m----> 2\u001b[1;33m     \u001b[0mget_acc\u001b[0m\u001b[1;33m(\u001b[0m\u001b[0mi\u001b[0m\u001b[1;33m,\u001b[0m\u001b[0msample_size\u001b[0m\u001b[1;33m=\u001b[0m\u001b[1;36m1000\u001b[0m\u001b[1;33m)\u001b[0m\u001b[1;33m\u001b[0m\u001b[1;33m\u001b[0m\u001b[0m\n\u001b[0m",
      "\u001b[1;32m<ipython-input-20-db6f885aea4f>\u001b[0m in \u001b[0;36mget_acc\u001b[1;34m(n, sample_size)\u001b[0m\n\u001b[0;32m     18\u001b[0m     \u001b[0mdropped_features\u001b[0m  \u001b[1;33m=\u001b[0m \u001b[0mlist\u001b[0m\u001b[1;33m(\u001b[0m\u001b[0mset\u001b[0m\u001b[1;33m(\u001b[0m\u001b[0mcategoricalColumns\u001b[0m\u001b[1;33m)\u001b[0m\u001b[1;33m-\u001b[0m\u001b[0mset\u001b[0m\u001b[1;33m(\u001b[0m\u001b[0mSelected_features\u001b[0m\u001b[1;33m)\u001b[0m\u001b[1;33m)\u001b[0m\u001b[1;33m\u001b[0m\u001b[1;33m\u001b[0m\u001b[0m\n\u001b[0;32m     19\u001b[0m     \u001b[1;31m#using sample of dataframe\u001b[0m\u001b[1;33m\u001b[0m\u001b[1;33m\u001b[0m\u001b[1;33m\u001b[0m\u001b[0m\n\u001b[1;32m---> 20\u001b[1;33m     \u001b[0mmalware_sample\u001b[0m \u001b[1;33m=\u001b[0m \u001b[0mmalware\u001b[0m\u001b[1;33m.\u001b[0m\u001b[0msample\u001b[0m\u001b[1;33m(\u001b[0m\u001b[0msample_size\u001b[0m\u001b[1;33m)\u001b[0m\u001b[1;33m\u001b[0m\u001b[1;33m\u001b[0m\u001b[0m\n\u001b[0m\u001b[0;32m     21\u001b[0m     \u001b[1;31m# malware_sample.drop('Census_InternalBatteryType', axis=1, inplace=True)\u001b[0m\u001b[1;33m\u001b[0m\u001b[1;33m\u001b[0m\u001b[1;33m\u001b[0m\u001b[0m\n\u001b[0;32m     22\u001b[0m     \u001b[1;31m# malware_sample.drop(list(set(features)-set(Selected_features)),axis=1, inplace=True)\u001b[0m\u001b[1;33m\u001b[0m\u001b[1;33m\u001b[0m\u001b[1;33m\u001b[0m\u001b[0m\n",
      "\u001b[1;32m~\\anaconda3\\lib\\site-packages\\pandas\\core\\generic.py\u001b[0m in \u001b[0;36msample\u001b[1;34m(self, n, frac, replace, weights, random_state, axis)\u001b[0m\n\u001b[0;32m   5344\u001b[0m \u001b[1;33m\u001b[0m\u001b[0m\n\u001b[0;32m   5345\u001b[0m         \u001b[0mlocs\u001b[0m \u001b[1;33m=\u001b[0m \u001b[0mrs\u001b[0m\u001b[1;33m.\u001b[0m\u001b[0mchoice\u001b[0m\u001b[1;33m(\u001b[0m\u001b[0maxis_length\u001b[0m\u001b[1;33m,\u001b[0m \u001b[0msize\u001b[0m\u001b[1;33m=\u001b[0m\u001b[0mn\u001b[0m\u001b[1;33m,\u001b[0m \u001b[0mreplace\u001b[0m\u001b[1;33m=\u001b[0m\u001b[0mreplace\u001b[0m\u001b[1;33m,\u001b[0m \u001b[0mp\u001b[0m\u001b[1;33m=\u001b[0m\u001b[0mweights\u001b[0m\u001b[1;33m)\u001b[0m\u001b[1;33m\u001b[0m\u001b[1;33m\u001b[0m\u001b[0m\n\u001b[1;32m-> 5346\u001b[1;33m         \u001b[1;32mreturn\u001b[0m \u001b[0mself\u001b[0m\u001b[1;33m.\u001b[0m\u001b[0mtake\u001b[0m\u001b[1;33m(\u001b[0m\u001b[0mlocs\u001b[0m\u001b[1;33m,\u001b[0m \u001b[0maxis\u001b[0m\u001b[1;33m=\u001b[0m\u001b[0maxis\u001b[0m\u001b[1;33m)\u001b[0m\u001b[1;33m\u001b[0m\u001b[1;33m\u001b[0m\u001b[0m\n\u001b[0m\u001b[0;32m   5347\u001b[0m \u001b[1;33m\u001b[0m\u001b[0m\n\u001b[0;32m   5348\u001b[0m     \u001b[1;33m@\u001b[0m\u001b[0mfinal\u001b[0m\u001b[1;33m\u001b[0m\u001b[1;33m\u001b[0m\u001b[0m\n",
      "\u001b[1;32m~\\anaconda3\\lib\\site-packages\\pandas\\core\\generic.py\u001b[0m in \u001b[0;36mtake\u001b[1;34m(self, indices, axis, is_copy, **kwargs)\u001b[0m\n\u001b[0;32m   3579\u001b[0m         \u001b[0mnv\u001b[0m\u001b[1;33m.\u001b[0m\u001b[0mvalidate_take\u001b[0m\u001b[1;33m(\u001b[0m\u001b[1;33m(\u001b[0m\u001b[1;33m)\u001b[0m\u001b[1;33m,\u001b[0m \u001b[0mkwargs\u001b[0m\u001b[1;33m)\u001b[0m\u001b[1;33m\u001b[0m\u001b[1;33m\u001b[0m\u001b[0m\n\u001b[0;32m   3580\u001b[0m \u001b[1;33m\u001b[0m\u001b[0m\n\u001b[1;32m-> 3581\u001b[1;33m         \u001b[0mself\u001b[0m\u001b[1;33m.\u001b[0m\u001b[0m_consolidate_inplace\u001b[0m\u001b[1;33m(\u001b[0m\u001b[1;33m)\u001b[0m\u001b[1;33m\u001b[0m\u001b[1;33m\u001b[0m\u001b[0m\n\u001b[0m\u001b[0;32m   3582\u001b[0m \u001b[1;33m\u001b[0m\u001b[0m\n\u001b[0;32m   3583\u001b[0m         new_data = self._mgr.take(\n",
      "\u001b[1;32m~\\anaconda3\\lib\\site-packages\\pandas\\core\\generic.py\u001b[0m in \u001b[0;36m_consolidate_inplace\u001b[1;34m(self)\u001b[0m\n\u001b[0;32m   5534\u001b[0m             \u001b[0mself\u001b[0m\u001b[1;33m.\u001b[0m\u001b[0m_mgr\u001b[0m \u001b[1;33m=\u001b[0m \u001b[0mself\u001b[0m\u001b[1;33m.\u001b[0m\u001b[0m_mgr\u001b[0m\u001b[1;33m.\u001b[0m\u001b[0mconsolidate\u001b[0m\u001b[1;33m(\u001b[0m\u001b[1;33m)\u001b[0m\u001b[1;33m\u001b[0m\u001b[1;33m\u001b[0m\u001b[0m\n\u001b[0;32m   5535\u001b[0m \u001b[1;33m\u001b[0m\u001b[0m\n\u001b[1;32m-> 5536\u001b[1;33m         \u001b[0mself\u001b[0m\u001b[1;33m.\u001b[0m\u001b[0m_protect_consolidate\u001b[0m\u001b[1;33m(\u001b[0m\u001b[0mf\u001b[0m\u001b[1;33m)\u001b[0m\u001b[1;33m\u001b[0m\u001b[1;33m\u001b[0m\u001b[0m\n\u001b[0m\u001b[0;32m   5537\u001b[0m \u001b[1;33m\u001b[0m\u001b[0m\n\u001b[0;32m   5538\u001b[0m     \u001b[1;33m@\u001b[0m\u001b[0mfinal\u001b[0m\u001b[1;33m\u001b[0m\u001b[1;33m\u001b[0m\u001b[0m\n",
      "\u001b[1;32m~\\anaconda3\\lib\\site-packages\\pandas\\core\\generic.py\u001b[0m in \u001b[0;36m_protect_consolidate\u001b[1;34m(self, f)\u001b[0m\n\u001b[0;32m   5522\u001b[0m         \"\"\"\n\u001b[0;32m   5523\u001b[0m         \u001b[0mblocks_before\u001b[0m \u001b[1;33m=\u001b[0m \u001b[0mlen\u001b[0m\u001b[1;33m(\u001b[0m\u001b[0mself\u001b[0m\u001b[1;33m.\u001b[0m\u001b[0m_mgr\u001b[0m\u001b[1;33m.\u001b[0m\u001b[0mblocks\u001b[0m\u001b[1;33m)\u001b[0m\u001b[1;33m\u001b[0m\u001b[1;33m\u001b[0m\u001b[0m\n\u001b[1;32m-> 5524\u001b[1;33m         \u001b[0mresult\u001b[0m \u001b[1;33m=\u001b[0m \u001b[0mf\u001b[0m\u001b[1;33m(\u001b[0m\u001b[1;33m)\u001b[0m\u001b[1;33m\u001b[0m\u001b[1;33m\u001b[0m\u001b[0m\n\u001b[0m\u001b[0;32m   5525\u001b[0m         \u001b[1;32mif\u001b[0m \u001b[0mlen\u001b[0m\u001b[1;33m(\u001b[0m\u001b[0mself\u001b[0m\u001b[1;33m.\u001b[0m\u001b[0m_mgr\u001b[0m\u001b[1;33m.\u001b[0m\u001b[0mblocks\u001b[0m\u001b[1;33m)\u001b[0m \u001b[1;33m!=\u001b[0m \u001b[0mblocks_before\u001b[0m\u001b[1;33m:\u001b[0m\u001b[1;33m\u001b[0m\u001b[1;33m\u001b[0m\u001b[0m\n\u001b[0;32m   5526\u001b[0m             \u001b[0mself\u001b[0m\u001b[1;33m.\u001b[0m\u001b[0m_clear_item_cache\u001b[0m\u001b[1;33m(\u001b[0m\u001b[1;33m)\u001b[0m\u001b[1;33m\u001b[0m\u001b[1;33m\u001b[0m\u001b[0m\n",
      "\u001b[1;32m~\\anaconda3\\lib\\site-packages\\pandas\\core\\generic.py\u001b[0m in \u001b[0;36mf\u001b[1;34m()\u001b[0m\n\u001b[0;32m   5532\u001b[0m \u001b[1;33m\u001b[0m\u001b[0m\n\u001b[0;32m   5533\u001b[0m         \u001b[1;32mdef\u001b[0m \u001b[0mf\u001b[0m\u001b[1;33m(\u001b[0m\u001b[1;33m)\u001b[0m\u001b[1;33m:\u001b[0m\u001b[1;33m\u001b[0m\u001b[1;33m\u001b[0m\u001b[0m\n\u001b[1;32m-> 5534\u001b[1;33m             \u001b[0mself\u001b[0m\u001b[1;33m.\u001b[0m\u001b[0m_mgr\u001b[0m \u001b[1;33m=\u001b[0m \u001b[0mself\u001b[0m\u001b[1;33m.\u001b[0m\u001b[0m_mgr\u001b[0m\u001b[1;33m.\u001b[0m\u001b[0mconsolidate\u001b[0m\u001b[1;33m(\u001b[0m\u001b[1;33m)\u001b[0m\u001b[1;33m\u001b[0m\u001b[1;33m\u001b[0m\u001b[0m\n\u001b[0m\u001b[0;32m   5535\u001b[0m \u001b[1;33m\u001b[0m\u001b[0m\n\u001b[0;32m   5536\u001b[0m         \u001b[0mself\u001b[0m\u001b[1;33m.\u001b[0m\u001b[0m_protect_consolidate\u001b[0m\u001b[1;33m(\u001b[0m\u001b[0mf\u001b[0m\u001b[1;33m)\u001b[0m\u001b[1;33m\u001b[0m\u001b[1;33m\u001b[0m\u001b[0m\n",
      "\u001b[1;32m~\\anaconda3\\lib\\site-packages\\pandas\\core\\internals\\managers.py\u001b[0m in \u001b[0;36mconsolidate\u001b[1;34m(self)\u001b[0m\n\u001b[0;32m    986\u001b[0m         \u001b[0mbm\u001b[0m \u001b[1;33m=\u001b[0m \u001b[0mtype\u001b[0m\u001b[1;33m(\u001b[0m\u001b[0mself\u001b[0m\u001b[1;33m)\u001b[0m\u001b[1;33m(\u001b[0m\u001b[0mself\u001b[0m\u001b[1;33m.\u001b[0m\u001b[0mblocks\u001b[0m\u001b[1;33m,\u001b[0m \u001b[0mself\u001b[0m\u001b[1;33m.\u001b[0m\u001b[0maxes\u001b[0m\u001b[1;33m)\u001b[0m\u001b[1;33m\u001b[0m\u001b[1;33m\u001b[0m\u001b[0m\n\u001b[0;32m    987\u001b[0m         \u001b[0mbm\u001b[0m\u001b[1;33m.\u001b[0m\u001b[0m_is_consolidated\u001b[0m \u001b[1;33m=\u001b[0m \u001b[1;32mFalse\u001b[0m\u001b[1;33m\u001b[0m\u001b[1;33m\u001b[0m\u001b[0m\n\u001b[1;32m--> 988\u001b[1;33m         \u001b[0mbm\u001b[0m\u001b[1;33m.\u001b[0m\u001b[0m_consolidate_inplace\u001b[0m\u001b[1;33m(\u001b[0m\u001b[1;33m)\u001b[0m\u001b[1;33m\u001b[0m\u001b[1;33m\u001b[0m\u001b[0m\n\u001b[0m\u001b[0;32m    989\u001b[0m         \u001b[1;32mreturn\u001b[0m \u001b[0mbm\u001b[0m\u001b[1;33m\u001b[0m\u001b[1;33m\u001b[0m\u001b[0m\n\u001b[0;32m    990\u001b[0m \u001b[1;33m\u001b[0m\u001b[0m\n",
      "\u001b[1;32m~\\anaconda3\\lib\\site-packages\\pandas\\core\\internals\\managers.py\u001b[0m in \u001b[0;36m_consolidate_inplace\u001b[1;34m(self)\u001b[0m\n\u001b[0;32m    991\u001b[0m     \u001b[1;32mdef\u001b[0m \u001b[0m_consolidate_inplace\u001b[0m\u001b[1;33m(\u001b[0m\u001b[0mself\u001b[0m\u001b[1;33m)\u001b[0m \u001b[1;33m->\u001b[0m \u001b[1;32mNone\u001b[0m\u001b[1;33m:\u001b[0m\u001b[1;33m\u001b[0m\u001b[1;33m\u001b[0m\u001b[0m\n\u001b[0;32m    992\u001b[0m         \u001b[1;32mif\u001b[0m \u001b[1;32mnot\u001b[0m \u001b[0mself\u001b[0m\u001b[1;33m.\u001b[0m\u001b[0mis_consolidated\u001b[0m\u001b[1;33m(\u001b[0m\u001b[1;33m)\u001b[0m\u001b[1;33m:\u001b[0m\u001b[1;33m\u001b[0m\u001b[1;33m\u001b[0m\u001b[0m\n\u001b[1;32m--> 993\u001b[1;33m             \u001b[0mself\u001b[0m\u001b[1;33m.\u001b[0m\u001b[0mblocks\u001b[0m \u001b[1;33m=\u001b[0m \u001b[0mtuple\u001b[0m\u001b[1;33m(\u001b[0m\u001b[0m_consolidate\u001b[0m\u001b[1;33m(\u001b[0m\u001b[0mself\u001b[0m\u001b[1;33m.\u001b[0m\u001b[0mblocks\u001b[0m\u001b[1;33m)\u001b[0m\u001b[1;33m)\u001b[0m\u001b[1;33m\u001b[0m\u001b[1;33m\u001b[0m\u001b[0m\n\u001b[0m\u001b[0;32m    994\u001b[0m             \u001b[0mself\u001b[0m\u001b[1;33m.\u001b[0m\u001b[0m_is_consolidated\u001b[0m \u001b[1;33m=\u001b[0m \u001b[1;32mTrue\u001b[0m\u001b[1;33m\u001b[0m\u001b[1;33m\u001b[0m\u001b[0m\n\u001b[0;32m    995\u001b[0m             \u001b[0mself\u001b[0m\u001b[1;33m.\u001b[0m\u001b[0m_known_consolidated\u001b[0m \u001b[1;33m=\u001b[0m \u001b[1;32mTrue\u001b[0m\u001b[1;33m\u001b[0m\u001b[1;33m\u001b[0m\u001b[0m\n",
      "\u001b[1;32m~\\anaconda3\\lib\\site-packages\\pandas\\core\\internals\\managers.py\u001b[0m in \u001b[0;36m_consolidate\u001b[1;34m(blocks)\u001b[0m\n\u001b[0;32m   1915\u001b[0m     \u001b[1;32mfor\u001b[0m \u001b[1;33m(\u001b[0m\u001b[0m_can_consolidate\u001b[0m\u001b[1;33m,\u001b[0m \u001b[0mdtype\u001b[0m\u001b[1;33m)\u001b[0m\u001b[1;33m,\u001b[0m \u001b[0mgroup_blocks\u001b[0m \u001b[1;32min\u001b[0m \u001b[0mgrouper\u001b[0m\u001b[1;33m:\u001b[0m\u001b[1;33m\u001b[0m\u001b[1;33m\u001b[0m\u001b[0m\n\u001b[0;32m   1916\u001b[0m         merged_blocks = _merge_blocks(\n\u001b[1;32m-> 1917\u001b[1;33m             \u001b[0mlist\u001b[0m\u001b[1;33m(\u001b[0m\u001b[0mgroup_blocks\u001b[0m\u001b[1;33m)\u001b[0m\u001b[1;33m,\u001b[0m \u001b[0mdtype\u001b[0m\u001b[1;33m=\u001b[0m\u001b[0mdtype\u001b[0m\u001b[1;33m,\u001b[0m \u001b[0mcan_consolidate\u001b[0m\u001b[1;33m=\u001b[0m\u001b[0m_can_consolidate\u001b[0m\u001b[1;33m\u001b[0m\u001b[1;33m\u001b[0m\u001b[0m\n\u001b[0m\u001b[0;32m   1918\u001b[0m         )\n\u001b[0;32m   1919\u001b[0m         \u001b[0mnew_blocks\u001b[0m\u001b[1;33m.\u001b[0m\u001b[0mextend\u001b[0m\u001b[1;33m(\u001b[0m\u001b[0mmerged_blocks\u001b[0m\u001b[1;33m)\u001b[0m\u001b[1;33m\u001b[0m\u001b[1;33m\u001b[0m\u001b[0m\n",
      "\u001b[1;32m~\\anaconda3\\lib\\site-packages\\pandas\\core\\internals\\managers.py\u001b[0m in \u001b[0;36m_merge_blocks\u001b[1;34m(blocks, dtype, can_consolidate)\u001b[0m\n\u001b[0;32m   1940\u001b[0m \u001b[1;33m\u001b[0m\u001b[0m\n\u001b[0;32m   1941\u001b[0m         \u001b[0margsort\u001b[0m \u001b[1;33m=\u001b[0m \u001b[0mnp\u001b[0m\u001b[1;33m.\u001b[0m\u001b[0margsort\u001b[0m\u001b[1;33m(\u001b[0m\u001b[0mnew_mgr_locs\u001b[0m\u001b[1;33m)\u001b[0m\u001b[1;33m\u001b[0m\u001b[1;33m\u001b[0m\u001b[0m\n\u001b[1;32m-> 1942\u001b[1;33m         \u001b[0mnew_values\u001b[0m \u001b[1;33m=\u001b[0m \u001b[0mnew_values\u001b[0m\u001b[1;33m[\u001b[0m\u001b[0margsort\u001b[0m\u001b[1;33m]\u001b[0m\u001b[1;33m\u001b[0m\u001b[1;33m\u001b[0m\u001b[0m\n\u001b[0m\u001b[0;32m   1943\u001b[0m         \u001b[0mnew_mgr_locs\u001b[0m \u001b[1;33m=\u001b[0m \u001b[0mnew_mgr_locs\u001b[0m\u001b[1;33m[\u001b[0m\u001b[0margsort\u001b[0m\u001b[1;33m]\u001b[0m\u001b[1;33m\u001b[0m\u001b[1;33m\u001b[0m\u001b[0m\n\u001b[0;32m   1944\u001b[0m \u001b[1;33m\u001b[0m\u001b[0m\n",
      "\u001b[1;31mMemoryError\u001b[0m: Unable to allocate 3.32 GiB for an array with shape (50, 8921483) and data type float64"
     ]
    }
   ],
   "source": [
    "for i in range(60):\n",
    "    get_acc(i,sample_size=1000)"
   ]
  },
  {
   "cell_type": "code",
   "execution_count": null,
   "metadata": {},
   "outputs": [],
   "source": []
  }
 ],
 "metadata": {
  "@webio": {
   "lastCommId": null,
   "lastKernelId": null
  },
  "kernelspec": {
   "display_name": "Python 3",
   "language": "python",
   "name": "python3"
  },
  "language_info": {
   "codemirror_mode": {
    "name": "ipython",
    "version": 3
   },
   "file_extension": ".py",
   "mimetype": "text/x-python",
   "name": "python",
   "nbconvert_exporter": "python",
   "pygments_lexer": "ipython3",
   "version": "3.7.6"
  }
 },
 "nbformat": 4,
 "nbformat_minor": 4
}
