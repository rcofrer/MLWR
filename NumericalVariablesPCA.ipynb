{
  "nbformat": 4,
  "nbformat_minor": 0,
  "metadata": {
    "colab": {
      "name": "NumericalVariablesPCA.ipynb",
      "provenance": []
    },
    "kernelspec": {
      "name": "python3",
      "display_name": "Python 3"
    }
  },
  "cells": [
    {
      "cell_type": "code",
      "metadata": {
        "colab": {
          "base_uri": "https://localhost:8080/"
        },
        "id": "LFtLoZU5KEXC",
        "outputId": "0c61bea4-fec4-4d8a-d410-41760148c212"
      },
      "source": [
        "from google.colab import drive\r\n",
        "drive.mount('/content/gdrive')"
      ],
      "execution_count": null,
      "outputs": [
        {
          "output_type": "stream",
          "text": [
            "Mounted at /content/gdrive\n"
          ],
          "name": "stdout"
        }
      ]
    },
    {
      "cell_type": "code",
      "metadata": {
        "id": "dbxfuYC3vnuT"
      },
      "source": [
        "import pickle\r\n",
        "with open('/content/drive/My Drive/Notebooks Colab/cleanKaggleDF.pickle', 'rb') as handle:\r\n",
        "    dfTrain, dfTest = pickle.load(handle)"
      ],
      "execution_count": 3,
      "outputs": []
    },
    {
      "cell_type": "code",
      "metadata": {
        "id": "nSC09IxHGCED"
      },
      "source": [
        "categoricalColumns = list(dfTrain.select_dtypes(exclude='float32').columns)\r\n",
        "numericalColumns = list(dfTrain.select_dtypes(include='float32').columns)"
      ],
      "execution_count": 7,
      "outputs": []
    },
    {
      "cell_type": "code",
      "metadata": {
        "id": "f_EXthYcGZ4q"
      },
      "source": [
        "from sklearn.decomposition import PCA, IncrementalPCA\r\n",
        "\r\n",
        "X = dfTrain.select_dtypes(include='float32').values"
      ],
      "execution_count": 4,
      "outputs": []
    },
    {
      "cell_type": "code",
      "metadata": {
        "colab": {
          "base_uri": "https://localhost:8080/"
        },
        "id": "Eekkk-yJGgaK",
        "outputId": "5e67116d-db8f-44c4-c25e-5ac5e063a104"
      },
      "source": [
        "n_components = 4\r\n",
        "ipca = IncrementalPCA(n_components=n_components, batch_size=100)\r\n",
        "ipca.fit(X)\r\n"
      ],
      "execution_count": 36,
      "outputs": [
        {
          "output_type": "execute_result",
          "data": {
            "text/plain": [
              "IncrementalPCA(batch_size=100, copy=True, n_components=4, whiten=False)"
            ]
          },
          "metadata": {
            "tags": []
          },
          "execution_count": 36
        }
      ]
    },
    {
      "cell_type": "code",
      "metadata": {
        "colab": {
          "base_uri": "https://localhost:8080/"
        },
        "id": "rIlQLSz2Go7o",
        "outputId": "bd764099-f23f-48ea-eb74-9616c51108f2"
      },
      "source": [
        "ipca.explained_variance_ratio_"
      ],
      "execution_count": 37,
      "outputs": [
        {
          "output_type": "execute_result",
          "data": {
            "text/plain": [
              "array([1.00000001e+00, 4.59663913e-21, 2.20036861e-21, 8.50059871e-24])"
            ]
          },
          "metadata": {
            "tags": []
          },
          "execution_count": 37
        }
      ]
    },
    {
      "cell_type": "code",
      "metadata": {
        "id": "6-YZJD9GMB_8"
      },
      "source": [
        ""
      ],
      "execution_count": null,
      "outputs": []
    }
  ]
}