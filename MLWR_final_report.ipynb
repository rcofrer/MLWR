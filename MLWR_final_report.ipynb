{
  "nbformat": 4,
  "nbformat_minor": 0,
  "metadata": {
    "colab": {
      "name": "MLWR_final_report",
      "provenance": [],
      "collapsed_sections": []
    },
    "kernelspec": {
      "name": "python3",
      "display_name": "Python 3"
    }
  },
  "cells": [
    {
      "cell_type": "markdown",
      "metadata": {
        "id": "DCg7aU4kisjO"
      },
      "source": [
        "# <center>**Malware Detection**</center>\r\n",
        "# <center>**MLWR**</center>\r\n",
        "\r\n",
        "<center>Rodrigo Cofré, Santiago Cuervo, Maciej Grabias</center>\r\n"
      ]
    },
    {
      "cell_type": "markdown",
      "metadata": {
        "id": "zuW3qJWkkxLf"
      },
      "source": [
        "# Context\r\n",
        "# Data exploration\r\n",
        "# Feature importance\r\n",
        "# Modeling \r\n",
        "## Models to consider and why (not actual title, just thought it is important to mention that)\r\n",
        "# Results and Discussion \r\n",
        "# [tentative] Some analysis on the structure of the solutions from different models, this could give us some insight about why we would like to use one model over another.\r\n",
        "# Conclusion and possible extensions\r\n"
      ]
    },
    {
      "cell_type": "code",
      "metadata": {
        "id": "uwiff2JLiq20"
      },
      "source": [
        ""
      ],
      "execution_count": null,
      "outputs": []
    }
  ]
}