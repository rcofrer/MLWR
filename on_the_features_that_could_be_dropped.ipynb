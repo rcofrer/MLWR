{
 "cells": [
  {
   "cell_type": "code",
   "execution_count": 1,
   "metadata": {},
   "outputs": [],
   "source": [
    "import pickle\n",
    "import pandas as pd\n",
    "import numpy as np\n",
    "import seaborn as sns\n",
    "import matplotlib.pyplot as plt"
   ]
  },
  {
   "cell_type": "code",
   "execution_count": 40,
   "metadata": {},
   "outputs": [],
   "source": [
    "dtypes = {\n",
    "        'MachineIdentifier':                                    'category',\n",
    "        'ProductName':                                          'category',\n",
    "        'EngineVersion':                                        'category',\n",
    "        'AppVersion':                                           'category',\n",
    "        'AvSigVersion':                                         'category',\n",
    "        'IsBeta':                                               'int8',\n",
    "        'RtpStateBitfield':                                     'float16',\n",
    "        'IsSxsPassiveMode':                                     'int8',\n",
    "        'DefaultBrowsersIdentifier':                            'float32',\n",
    "        'AVProductStatesIdentifier':                            'float32',\n",
    "        'AVProductsInstalled':                                  'float16',\n",
    "        'AVProductsEnabled':                                    'float16',\n",
    "        'HasTpm':                                               'int8',\n",
    "        'CountryIdentifier':                                    'int16',\n",
    "        'CityIdentifier':                                       'float32',\n",
    "        'OrganizationIdentifier':                               'float16',\n",
    "        'GeoNameIdentifier':                                    'float16',\n",
    "        'LocaleEnglishNameIdentifier':                          'int16',\n",
    "        'Platform':                                             'category',\n",
    "        'Processor':                                            'category',\n",
    "        'OsVer':                                                'category',\n",
    "        'OsBuild':                                              'int16',\n",
    "        'OsSuite':                                              'int16',\n",
    "        'OsPlatformSubRelease':                                 'category',\n",
    "        'OsBuildLab':                                           'category',\n",
    "        'SkuEdition':                                           'category',\n",
    "        'IsProtected':                                          'float16',\n",
    "        'AutoSampleOptIn':                                      'int8',\n",
    "        'PuaMode':                                              'category',\n",
    "        'SMode':                                                'float16',\n",
    "        'IeVerIdentifier':                                      'float16',\n",
    "        'SmartScreen':                                          'category',\n",
    "        'Firewall':                                             'float16',\n",
    "        'UacLuaenable':                                         'float64', # was 'float32'\n",
    "        'Census_MDC2FormFactor':                                'category',\n",
    "        'Census_DeviceFamily':                                  'category',\n",
    "        'Census_OEMNameIdentifier':                             'float32', # was 'float16'\n",
    "        'Census_OEMModelIdentifier':                            'float32',\n",
    "        'Census_ProcessorCoreCount':                            'float16',\n",
    "        'Census_ProcessorManufacturerIdentifier':               'float16',\n",
    "        'Census_ProcessorModelIdentifier':                      'float32', # was 'float16'\n",
    "        'Census_ProcessorClass':                                'category',\n",
    "        'Census_PrimaryDiskTotalCapacity':                      'float64', # was 'float32'\n",
    "        'Census_PrimaryDiskTypeName':                           'category',\n",
    "        'Census_SystemVolumeTotalCapacity':                     'float64', # was 'float32'\n",
    "        'Census_HasOpticalDiskDrive':                           'int8',\n",
    "        'Census_TotalPhysicalRAM':                              'float32',\n",
    "        'Census_ChassisTypeName':                               'category',\n",
    "        'Census_InternalPrimaryDiagonalDisplaySizeInInches':    'float32', # was 'float16'\n",
    "        'Census_InternalPrimaryDisplayResolutionHorizontal':    'float32', # was 'float16'\n",
    "        'Census_InternalPrimaryDisplayResolutionVertical':      'float32', # was 'float16'\n",
    "        'Census_PowerPlatformRoleName':                         'category',\n",
    "        'Census_InternalBatteryType':                           'category',\n",
    "        'Census_InternalBatteryNumberOfCharges':                'float64', # was 'float32'\n",
    "        'Census_OSVersion':                                     'category',\n",
    "        'Census_OSArchitecture':                                'category',\n",
    "        'Census_OSBranch':                                      'category',\n",
    "        'Census_OSBuildNumber':                                 'int16',\n",
    "        'Census_OSBuildRevision':                               'int32',\n",
    "        'Census_OSEdition':                                     'category',\n",
    "        'Census_OSSkuName':                                     'category',\n",
    "        'Census_OSInstallTypeName':                             'category',\n",
    "        'Census_OSInstallLanguageIdentifier':                   'float16',\n",
    "        'Census_OSUILocaleIdentifier':                          'int16',\n",
    "        'Census_OSWUAutoUpdateOptionsName':                     'category',\n",
    "        'Census_IsPortableOperatingSystem':                     'int8',\n",
    "        'Census_GenuineStateName':                              'category',\n",
    "        'Census_ActivationChannel':                             'category',\n",
    "        'Census_IsFlightingInternal':                           'float16',\n",
    "        'Census_IsFlightsDisabled':                             'float16',\n",
    "        'Census_FlightRing':                                    'category',\n",
    "        'Census_ThresholdOptIn':                                'float16',\n",
    "        'Census_FirmwareManufacturerIdentifier':                'float16',\n",
    "        'Census_FirmwareVersionIdentifier':                     'float32',\n",
    "        'Census_IsSecureBootEnabled':                           'int8',\n",
    "        'Census_IsWIMBootEnabled':                              'float16',\n",
    "        'Census_IsVirtualDevice':                               'float16',\n",
    "        'Census_IsTouchEnabled':                                'int8',\n",
    "        'Census_IsPenCapable':                                  'int8',\n",
    "        'Census_IsAlwaysOnAlwaysConnectedCapable':              'float16',\n",
    "        'Wdft_IsGamer':                                         'float16',\n",
    "        'Wdft_RegionIdentifier':                                'float16',\n",
    "        'HasDetections':                                        'int8'\n",
    "        }"
   ]
  },
  {
   "cell_type": "code",
   "execution_count": 9,
   "metadata": {},
   "outputs": [],
   "source": [
    "# import the processed dataset\n",
    "with open(r\"C:\\Users\\admin\\Desktop\\Data Science UWR\\Machine Learning\\MLWR\\clean_data\\cleanDF.pickle\", \"rb\") as input_file:\n",
    "    malware = pickle.load(input_file)"
   ]
  },
  {
   "cell_type": "code",
   "execution_count": 41,
   "metadata": {},
   "outputs": [],
   "source": [
    "# import the original dataset (for comparison purposes)\n",
    "malware_original = pd.read_csv('train.csv', dtype = dtypes)"
   ]
  },
  {
   "cell_type": "code",
   "execution_count": 46,
   "metadata": {},
   "outputs": [],
   "source": [
    "# get a list of features with missing data in the original dataset\n",
    "missing_series = (malware.isnull().sum()/malware.shape[0]).sort_values(ascending = False)\n",
    "cols_with_missing_data = list(missing_series[missing_series != 0].index)"
   ]
  },
  {
   "cell_type": "code",
   "execution_count": 79,
   "metadata": {},
   "outputs": [],
   "source": [
    "# import pickles with the conditinal MIs etc.\n",
    "with open(r\"C:\\Users\\admin\\Desktop\\Data Science UWR\\Machine Learning\\MLWR\\mutualInfos.pickle\", \"rb\") as input_file:\n",
    "    MI_target_feat = pickle.load(input_file)"
   ]
  },
  {
   "cell_type": "markdown",
   "metadata": {},
   "source": [
    "Considering what we have done so far regarding the choice of the appropriate features, it makes sense to draw conclusions from our analysis. Below I have included a couple of (I believe) non-controversial candidates to get rid off based on the analysis we have conducted so far. Comments/suggestions/pointingg out mistakes is more than encouraged.\n",
    "\n",
    "- **PuaMode** - the 'baddest apple' of the whole dataset, >99.97% data missing. I guess it is safe to assume that we will be more than fine without it? Interestingly, the conditional mutual information selection that Rodrigo did had **PuaMode** in its top 15 features?"
   ]
  },
  {
   "cell_type": "code",
   "execution_count": 12,
   "metadata": {},
   "outputs": [
    {
     "data": {
      "text/plain": [
       "NaN      8919174\n",
       "on          2307\n",
       "audit          2\n",
       "Name: PuaMode, dtype: int64"
      ]
     },
     "execution_count": 12,
     "metadata": {},
     "output_type": "execute_result"
    }
   ],
   "source": [
    "malware['PuaMode'].value_counts()"
   ]
  },
  {
   "cell_type": "markdown",
   "metadata": {},
   "source": [
    "- **Census_ProcessorClass** - the second 'baddest apple', >99.58% missing values. Might as well get rid of it straightaway? Even the description seems to agree: 'No longer maintained and updated'"
   ]
  },
  {
   "cell_type": "code",
   "execution_count": 13,
   "metadata": {},
   "outputs": [
    {
     "data": {
      "text/plain": [
       "NaN     8884852\n",
       "mid       20914\n",
       "low        9621\n",
       "high       6096\n",
       "Name: Census_ProcessorClass, dtype: int64"
      ]
     },
     "execution_count": 13,
     "metadata": {},
     "output_type": "execute_result"
    }
   ],
   "source": [
    "malware['Census_ProcessorClass'].value_counts()"
   ]
  },
  {
   "cell_type": "markdown",
   "metadata": {},
   "source": [
    "Furthermore, I believe that the class of the processor is more 'fully' described by the **Census_ProcessorModelIdentifier** feature? Moreover it has NO missing data"
   ]
  },
  {
   "cell_type": "code",
   "execution_count": 47,
   "metadata": {},
   "outputs": [
    {
     "name": "stdout",
     "output_type": "stream",
     "text": [
      "False\n"
     ]
    },
    {
     "data": {
      "text/plain": [
       "2697    330626\n",
       "1998    267397\n",
       "2660    191392\n",
       "2373    175407\n",
       "1992    171728\n",
       "         ...  \n",
       "1750         1\n",
       "1748         1\n",
       "1745         1\n",
       "1744         1\n",
       "2            1\n",
       "Name: Census_ProcessorModelIdentifier, Length: 3428, dtype: int64"
      ]
     },
     "execution_count": 47,
     "metadata": {},
     "output_type": "execute_result"
    }
   ],
   "source": [
    "print('Census_ProcessorModelIdentifier' in cols_with_missing_data)\n",
    "malware['Census_ProcessorModelIdentifier'].value_counts()"
   ]
  },
  {
   "cell_type": "markdown",
   "metadata": {},
   "source": [
    "- **Processor** - yet another processor-related feature which I think can be dropped. Afterall, it is another way of classifying the processor, which again seems reduntant if we consider **Census_ProcessorModelIdentifier** giving the exact models...\n",
    "\n",
    "- **Census_OSArchitecture** - this is literally the exact same feature as **Processor**. The numbers in value_counts() don't match exactly most probably due to non-matching number of missing data in both columns."
   ]
  },
  {
   "cell_type": "code",
   "execution_count": 152,
   "metadata": {},
   "outputs": [
    {
     "name": "stdout",
     "output_type": "stream",
     "text": [
      "x64      8105435\n",
      "x86       815702\n",
      "arm64        346\n",
      "NaN            0\n",
      "Name: Processor, dtype: int64\n",
      "\n",
      "\n",
      "amd64    8105885\n",
      "x86       815252\n",
      "arm64        346\n",
      "NaN            0\n",
      "Name: Census_OSArchitecture, dtype: int64\n"
     ]
    }
   ],
   "source": [
    "print(malware['Processor'].value_counts())\n",
    "print(\"\\n\")\n",
    "print(malware['Census_OSArchitecture'].value_counts())"
   ]
  },
  {
   "cell_type": "markdown",
   "metadata": {},
   "source": [
    "- **DefaultBrowsersIdentifier** - >95% missing. A lot, enough to bin it? Let the readers decide. Apparently, there were more than 2000 different browsers, I had no idea that there exist that many of them.\n",
    "\n",
    "- **Census_IsFlightingInternal** - There is no description of this feature available. Also, I think that Daniel's treatment changed all the NaN values in this binary feature into zeros, and it had >83% missing features. My guess is that this may not be far from the real case here (only 21 rows of different class)"
   ]
  },
  {
   "cell_type": "code",
   "execution_count": 24,
   "metadata": {},
   "outputs": [
    {
     "data": {
      "text/plain": [
       "0    8921462\n",
       "1         21\n",
       "Name: Census_IsFlightingInternal, dtype: int64"
      ]
     },
     "execution_count": 24,
     "metadata": {},
     "output_type": "execute_result"
    }
   ],
   "source": [
    "malware['Census_IsFlightingInternal'].value_counts()"
   ]
  },
  {
   "cell_type": "code",
   "execution_count": 89,
   "metadata": {},
   "outputs": [
    {
     "data": {
      "text/plain": [
       "1    0.619048\n",
       "0    0.380952\n",
       "Name: HasDetections, dtype: float64"
      ]
     },
     "execution_count": 89,
     "metadata": {},
     "output_type": "execute_result"
    }
   ],
   "source": [
    "# bias in target if Census_IsFlightingInternal == 1 ?\n",
    "malware[(malware['Census_IsFlightingInternal'] == 1)]['HasDetections'].value_counts(normalize = True)\n",
    "# seems 'balanced'?"
   ]
  },
  {
   "cell_type": "code",
   "execution_count": 82,
   "metadata": {},
   "outputs": [
    {
     "data": {
      "text/plain": [
       "8.77867941733168e-05"
      ]
     },
     "execution_count": 82,
     "metadata": {},
     "output_type": "execute_result"
    }
   ],
   "source": [
    "MI_target_feat['Census_IsFlightingInternal']"
   ]
  },
  {
   "cell_type": "markdown",
   "metadata": {},
   "source": [
    "- **Census_IsFlightsDisabled** - I guess it relates to the above?"
   ]
  },
  {
   "cell_type": "code",
   "execution_count": 140,
   "metadata": {},
   "outputs": [
    {
     "data": {
      "text/plain": [
       "0    8921395\n",
       "1         88\n",
       "Name: Census_IsFlightsDisabled, dtype: int64"
      ]
     },
     "execution_count": 140,
     "metadata": {},
     "output_type": "execute_result"
    }
   ],
   "source": [
    "malware['Census_IsFlightsDisabled'].value_counts()"
   ]
  },
  {
   "cell_type": "code",
   "execution_count": 93,
   "metadata": {},
   "outputs": [
    {
     "data": {
      "text/plain": [
       "0    0.943182\n",
       "1    0.056818\n",
       "Name: HasDetections, dtype: float64"
      ]
     },
     "execution_count": 93,
     "metadata": {},
     "output_type": "execute_result"
    }
   ],
   "source": [
    "# bias in target if Census_IsFlightsDisabled == 1 ?\n",
    "malware[(malware['Census_IsFlightsDisabled'] == 1)]['HasDetections'].value_counts(normalize = True)\n",
    "# seems IMBALANCED"
   ]
  },
  {
   "cell_type": "markdown",
   "metadata": {},
   "source": [
    "- **Census_IsWIMBootEnabled** - no idea what WIM is, but the situation is analogous to the above but even more severe - there is only 1 WIM Boot enabled. We can't be that unlucky? Also there is >65% data missing."
   ]
  },
  {
   "cell_type": "code",
   "execution_count": 87,
   "metadata": {},
   "outputs": [
    {
     "data": {
      "text/plain": [
       "0    8921482\n",
       "1          1\n",
       "Name: Census_IsWIMBootEnabled, dtype: int64"
      ]
     },
     "execution_count": 87,
     "metadata": {},
     "output_type": "execute_result"
    }
   ],
   "source": [
    "malware['Census_IsWIMBootEnabled'].value_counts()"
   ]
  },
  {
   "cell_type": "code",
   "execution_count": 83,
   "metadata": {},
   "outputs": [
    {
     "data": {
      "text/plain": [
       "0.00010287984506374137"
      ]
     },
     "execution_count": 83,
     "metadata": {},
     "output_type": "execute_result"
    }
   ],
   "source": [
    "MI_target_feat['Census_IsWIMBootEnabled']\n",
    "# the dictionary was developed with the missing data present, this value does NOT correspond\n",
    "# to the value_counts() from the line above"
   ]
  },
  {
   "cell_type": "markdown",
   "metadata": {},
   "source": [
    "- **IsBeta** - I guess beta as in beta version of the 'Defender state information' (Original description. Yes, very vague)?"
   ]
  },
  {
   "cell_type": "code",
   "execution_count": 102,
   "metadata": {},
   "outputs": [
    {
     "data": {
      "text/plain": [
       "0    8921416\n",
       "1         67\n",
       "Name: IsBeta, dtype: int64"
      ]
     },
     "execution_count": 102,
     "metadata": {},
     "output_type": "execute_result"
    }
   ],
   "source": [
    "malware['IsBeta'].value_counts()"
   ]
  },
  {
   "cell_type": "code",
   "execution_count": 78,
   "metadata": {},
   "outputs": [
    {
     "data": {
      "text/plain": [
       "0    0.507463\n",
       "1    0.492537\n",
       "Name: HasDetections, dtype: float64"
      ]
     },
     "execution_count": 78,
     "metadata": {},
     "output_type": "execute_result"
    }
   ],
   "source": [
    "# bias in target if IsBeta == 1 ?\n",
    "malware[(malware['IsBeta'] == 1)]['HasDetections'].value_counts(normalize = True)\n",
    "# seems 'balanced'"
   ]
  },
  {
   "cell_type": "markdown",
   "metadata": {},
   "source": [
    "- **AutoSampleOptIn** - 'This is the SubmitSamplesConsent value passed in from the service, available on CAMP 9+'. No idea what it is."
   ]
  },
  {
   "cell_type": "code",
   "execution_count": 101,
   "metadata": {},
   "outputs": [
    {
     "data": {
      "text/plain": [
       "0    8921225\n",
       "1        258\n",
       "Name: AutoSampleOptIn, dtype: int64"
      ]
     },
     "execution_count": 101,
     "metadata": {},
     "output_type": "execute_result"
    }
   ],
   "source": [
    "malware['AutoSampleOptIn'].value_counts()"
   ]
  },
  {
   "cell_type": "code",
   "execution_count": 96,
   "metadata": {},
   "outputs": [
    {
     "data": {
      "text/plain": [
       "1    0.546512\n",
       "0    0.453488\n",
       "Name: HasDetections, dtype: float64"
      ]
     },
     "execution_count": 96,
     "metadata": {},
     "output_type": "execute_result"
    }
   ],
   "source": [
    "# bias in target if AutoSampleOptIn == 1 ?\n",
    "malware[(malware['AutoSampleOptIn'] == 1)]['HasDetections'].value_counts(normalize = True)\n",
    "# seems 'balanced'"
   ]
  },
  {
   "cell_type": "markdown",
   "metadata": {},
   "source": [
    "- **Census_ThresholdOptIn** - there is no description for that, no idea what the threshold relates to."
   ]
  },
  {
   "cell_type": "code",
   "execution_count": 166,
   "metadata": {},
   "outputs": [
    {
     "data": {
      "text/plain": [
       "0    8920667\n",
       "1        816\n",
       "Name: Census_ThresholdOptIn, dtype: int64"
      ]
     },
     "execution_count": 166,
     "metadata": {},
     "output_type": "execute_result"
    }
   ],
   "source": [
    "malware['Census_ThresholdOptIn'].value_counts()"
   ]
  },
  {
   "cell_type": "code",
   "execution_count": 98,
   "metadata": {},
   "outputs": [
    {
     "data": {
      "text/plain": [
       "0    0.531863\n",
       "1    0.468137\n",
       "Name: HasDetections, dtype: float64"
      ]
     },
     "execution_count": 98,
     "metadata": {},
     "output_type": "execute_result"
    }
   ],
   "source": [
    "# bias in target if Census_ThresholdOptIn == 1 ?\n",
    "malware[(malware['Census_ThresholdOptIn'] == 1)]['HasDetections'].value_counts(normalize = True)\n",
    "# seems 'balanced'"
   ]
  },
  {
   "cell_type": "markdown",
   "metadata": {},
   "source": [
    "- **Census_IsPortableOperatingSystem** - 'Indicates whether OS is booted up and running via Windows-To-Go on a USB stick'."
   ]
  },
  {
   "cell_type": "code",
   "execution_count": 154,
   "metadata": {},
   "outputs": [
    {
     "data": {
      "text/plain": [
       "0    8916619\n",
       "1       4864\n",
       "Name: Census_IsPortableOperatingSystem, dtype: int64"
      ]
     },
     "execution_count": 154,
     "metadata": {},
     "output_type": "execute_result"
    }
   ],
   "source": [
    "malware['Census_IsPortableOperatingSystem'].value_counts()"
   ]
  },
  {
   "cell_type": "code",
   "execution_count": 100,
   "metadata": {},
   "outputs": [
    {
     "data": {
      "text/plain": [
       "1    0.553248\n",
       "0    0.446752\n",
       "Name: HasDetections, dtype: float64"
      ]
     },
     "execution_count": 100,
     "metadata": {},
     "output_type": "execute_result"
    }
   ],
   "source": [
    "# bias in target if Census_IsPortableOperatingSystem == 1 ?\n",
    "malware[(malware['Census_IsPortableOperatingSystem'] == 1)]['HasDetections'].value_counts(normalize = True)\n",
    "# seems 'balanced'"
   ]
  },
  {
   "cell_type": "markdown",
   "metadata": {},
   "source": [
    "- **Census_DeviceFamily** - 'Indicates the type of device that an edition of the OS is intended for. Example values: Windows.Desktop, Windows.Mobile, and iOS.Phone'. Despite the description, there are only Windows options available."
   ]
  },
  {
   "cell_type": "code",
   "execution_count": 125,
   "metadata": {},
   "outputs": [
    {
     "data": {
      "text/plain": [
       "Windows.Desktop    8907053\n",
       "Windows.Server       14410\n",
       "Windows                 20\n",
       "NaN                      0\n",
       "Name: Census_DeviceFamily, dtype: int64"
      ]
     },
     "execution_count": 125,
     "metadata": {},
     "output_type": "execute_result"
    }
   ],
   "source": [
    "malware['Census_DeviceFamily'].value_counts()"
   ]
  },
  {
   "cell_type": "code",
   "execution_count": 65,
   "metadata": {},
   "outputs": [
    {
     "data": {
      "text/plain": [
       "0    0.650659\n",
       "1    0.349341\n",
       "Name: HasDetections, dtype: float64"
      ]
     },
     "execution_count": 65,
     "metadata": {},
     "output_type": "execute_result"
    }
   ],
   "source": [
    "# bias in target if Census_DeviceFamily == 1 ?\n",
    "malware[(malware['Census_DeviceFamily'] == \"Windows.Server\")]['HasDetections'].value_counts(normalize = True)\n",
    "# rather IMBALANCED"
   ]
  },
  {
   "cell_type": "markdown",
   "metadata": {},
   "source": [
    "There are already more than 10 potential features to discard included above, 5 of them with objects as entries - think of all the memory we would be saving..."
   ]
  },
  {
   "cell_type": "markdown",
   "metadata": {},
   "source": [
    "# My remarks on the results from CMI"
   ]
  },
  {
   "cell_type": "code",
   "execution_count": 136,
   "metadata": {},
   "outputs": [],
   "source": [
    "CMIs_top_selection = ['Census_SystemVolumeTotalCapacity',\n",
    "                     'Census_PowerPlatformRoleName',\n",
    "                     'Census_ChassisTypeName',\n",
    "                     'Census_InternalBatteryType',\n",
    "                     'SmartScreen',\n",
    "                     'AVProductsInstalled',\n",
    "                     'Processor',\n",
    "                     'RtpStateBitfield',\n",
    "                     'OsBuildLab',\n",
    "                     'AVProductsEnabled',\n",
    "                     'Census_MDC2FormFactor',\n",
    "                     'Census_OSArchitecture',\n",
    "                     'PuaMode',\n",
    "                     'Census_ProcessorClass',\n",
    "                     'UacLuaenable',\n",
    "                     'Census_DeviceFamily',\n",
    "                     'ProductName',\n",
    "                     'Platform',\n",
    "                     'Census_FlightRing',\n",
    "                     'Census_GenuineStateName',\n",
    "                     'Census_ProcessorManufacturerIdentifier',\n",
    "                     'Census_OSWUAutoUpdateOptionsName',\n",
    "                     'OsPlatformSubRelease',\n",
    "                     'Census_OSSkuName',\n",
    "                     'Census_OSEdition',\n",
    "                     'SkuEdition',\n",
    "                     'Census_ActivationChannel',\n",
    "                     'Census_OSBranch',\n",
    "                     'Census_PrimaryDiskTypeName']"
   ]
  },
  {
   "cell_type": "markdown",
   "metadata": {},
   "source": [
    "- **Census_ProcessorClass** and **PuaMode** appear in the top list from conditional MIs, which is odd given that they have >99% missing data resulting in columns being pretty much 'constant'\n",
    "\n",
    "- Both **Processor** and **Census_OSArchitecture** are present - makes sense given they are basically identical\n",
    "\n",
    "- Reasonable choices are also included, such as **AVProductsInstalled** or **AVProductsEnabled** - that's very comforting\n",
    "\n",
    "- More to come..."
   ]
  },
  {
   "cell_type": "markdown",
   "metadata": {},
   "source": [
    "# Possible ideas for further investigation"
   ]
  },
  {
   "cell_type": "markdown",
   "metadata": {},
   "source": [
    "* can we use only one of the following **SKU**s?"
   ]
  },
  {
   "cell_type": "code",
   "execution_count": 168,
   "metadata": {},
   "outputs": [
    {
     "data": {
      "text/plain": [
       "Home               5514341\n",
       "Pro                3224164\n",
       "Invalid              78054\n",
       "Education            40694\n",
       "Enterprise           34357\n",
       "Enterprise LTSB      20702\n",
       "Cloud                 5589\n",
       "Server                3582\n",
       "NaN                      0\n",
       "Name: SkuEdition, dtype: int64"
      ]
     },
     "execution_count": 168,
     "metadata": {},
     "output_type": "execute_result"
    }
   ],
   "source": [
    "malware['SkuEdition'].value_counts()"
   ]
  },
  {
   "cell_type": "code",
   "execution_count": 170,
   "metadata": {},
   "outputs": [
    {
     "data": {
      "text/plain": [
       "CORE                            3469869\n",
       "PROFESSIONAL                    3187913\n",
       "CORE_SINGLELANGUAGE             1945133\n",
       "CORE_COUNTRYSPECIFIC             165886\n",
       "EDUCATION                         40827\n",
       "ENTERPRISE                        35602\n",
       "PROFESSIONAL_N                    28522\n",
       "ENTERPRISE_S                      20022\n",
       "STANDARD_SERVER                   10128\n",
       "CLOUD                              6167\n",
       "CORE_N                             4787\n",
       "STANDARD_EVALUATION_SERVER         2755\n",
       "EDUCATION_N                         927\n",
       "ENTERPRISE_S_N                      881\n",
       "DATACENTER_EVALUATION_SERVER        829\n",
       "SB_SOLUTION_SERVER                  684\n",
       "ENTERPRISE_N                        356\n",
       "PRO_WORKSTATION                     124\n",
       "UNLICENSED                           17\n",
       "DATACENTER_SERVER                    14\n",
       "PRO_WORKSTATION_N                    12\n",
       "CLOUDN                                7\n",
       "PRO_CHINA                             5\n",
       "ULTIMATE                              4\n",
       "SERVERRDSH                            4\n",
       "PRO_FOR_EDUCATION                     3\n",
       "PRO_SINGLE_LANGUAGE                   2\n",
       "UNDEFINED                             1\n",
       "ENTERPRISEG                           1\n",
       "STARTER                               1\n",
       "NaN                                   0\n",
       "Name: Census_OSSkuName, dtype: int64"
      ]
     },
     "execution_count": 170,
     "metadata": {},
     "output_type": "execute_result"
    }
   ],
   "source": [
    "malware['Census_OSSkuName'].value_counts()"
   ]
  },
  {
   "cell_type": "markdown",
   "metadata": {},
   "source": [
    "- More to come..."
   ]
  }
 ],
 "metadata": {
  "kernelspec": {
   "display_name": "Python 3",
   "language": "python",
   "name": "python3"
  },
  "language_info": {
   "codemirror_mode": {
    "name": "ipython",
    "version": 3
   },
   "file_extension": ".py",
   "mimetype": "text/x-python",
   "name": "python",
   "nbconvert_exporter": "python",
   "pygments_lexer": "ipython3",
   "version": "3.7.6"
  }
 },
 "nbformat": 4,
 "nbformat_minor": 4
}
