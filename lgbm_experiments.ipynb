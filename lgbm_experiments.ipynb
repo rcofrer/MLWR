{
 "cells": [
  {
   "cell_type": "code",
   "execution_count": 1,
   "metadata": {},
   "outputs": [],
   "source": [
    "import pickle\n",
    "import pandas as pd\n",
    "import numpy as np\n",
    "from sklearn.model_selection import RandomizedSearchCV\n",
    "from sklearn.model_selection import train_test_split\n",
    "from sklearn.model_selection import ShuffleSplit\n",
    "import lightgbm as lgb\n",
    "from sklearn.metrics import (roc_curve, auc, accuracy_score, roc_auc_score)\n",
    "import random\n",
    "import shap"
   ]
  },
  {
   "cell_type": "markdown",
   "metadata": {},
   "source": [
    "Define the supposedly numerical columns:"
   ]
  },
  {
   "cell_type": "code",
   "execution_count": 2,
   "metadata": {},
   "outputs": [],
   "source": [
    "nums = ['Census_ProcessorCoreCount',\n",
    "        'Census_PrimaryDiskTotalCapacity',\n",
    "        'Census_SystemVolumeTotalCapacity',\n",
    "        'Census_TotalPhysicalRAM',\n",
    "        'Census_InternalPrimaryDiagonalDisplaySizeInInches',\n",
    "        'Census_InternalPrimaryDisplayResolutionHorizontal',\n",
    "        'Census_InternalPrimaryDisplayResolutionVertical',\n",
    "        'Census_InternalBatteryNumberOfCharges']\n",
    "\n",
    "## apparently these might be the true numericals\n",
    "#nums_2 = [  # All the columns which have a real continuous data\n",
    "#    'Census_ProcessorCoreCount',\n",
    "#    'Census_PrimaryDiskTotalCapacity',\n",
    "#    'Census_SystemVolumeTotalCapacity',\n",
    "#    'Census_TotalPhysicalRAM',\n",
    "#    'Census_InternalPrimaryDiagonalDisplaySizeInInches',\n",
    "#    'Census_InternalPrimaryDisplayResolutionHorizontal',\n",
    "#   'Census_InternalPrimaryDisplayResolutionVertical',\n",
    "#    'Census_InternalBatteryNumberOfCharges',\n",
    "#    'Census_OSBuildNumber',\n",
    "#    'Census_OSBuildRevision',\n",
    "#    'Census_ThresholdOptIn',\n",
    "#    'OsBuild'\n",
    "#]"
   ]
  },
  {
   "cell_type": "markdown",
   "metadata": {},
   "source": [
    "Load the dataset with integer-encoded categorical variables to run through the LGBM classifier"
   ]
  },
  {
   "cell_type": "code",
   "execution_count": 3,
   "metadata": {},
   "outputs": [],
   "source": [
    "# LOAD INTEGER ENCODED TRAININIG DATA \n",
    "\n",
    "with open('LGBM_train.pickle', 'rb') as handle:\n",
    "    malware_train = pickle.load(handle)\n",
    "    \n",
    "cat_cols = [col for col in malware_train.columns if col not in nums and col != 'HasDetections']\n",
    "#cat_cols_2 = [col for col in malware_train.columns if col not in nums_2 and col != 'HasDetections']\n",
    "\n",
    "targets = malware_train[\"HasDetections\"]\n",
    "malware_train.drop([\"HasDetections\"], axis = 1, inplace = True)"
   ]
  },
  {
   "cell_type": "markdown",
   "metadata": {},
   "source": [
    "Define the dictionary with the hyperparameters for the LGBM classifier obtained through Randomized Grid Search with 50 repetitions. In each, the training and validation was performed on 5% and 0.5% of the original dataset respectively (original dataset had almost 9 million observations)."
   ]
  },
  {
   "cell_type": "code",
   "execution_count": 4,
   "metadata": {},
   "outputs": [],
   "source": [
    "int_enc_params = {\n",
    "    'subsample': 1.0, \n",
    "    'reg_alpha': 100,\n",
    "    'num_leaves': 90,\n",
    "    'n_estimators': 200,\n",
    "    'min_child_samples': 1700, \n",
    "    'learning_rate': 0.1, \n",
    "    'colsample_bytree': 0.9,\n",
    "    'boosting_type': 'gbdt',\n",
    "    'objective' : 'binary',\n",
    "    'n_jobs' : -1}\n",
    "\n",
    "### Don't know if the dictionary below is correct - commented out just in case\n",
    "#clean_params = {\n",
    "#    'objective': 'binary',\n",
    "#    'subsample': 0.9,\n",
    "#     'reg_alpha': 5, \n",
    "#     'num_leaves': 110, \n",
    "#     'n_estimators': 200, \n",
    "#     'min_child_samples': 900,\n",
    "#     'learning_rate': 0.1,\n",
    "#     'colsample_bytree': 0.4, \n",
    "#     'boosting_type': 'gbdt'}"
   ]
  },
  {
   "cell_type": "markdown",
   "metadata": {},
   "source": [
    "Create an LGBM Classifier instance and set the best hyperparameters determined by RGS"
   ]
  },
  {
   "cell_type": "code",
   "execution_count": 5,
   "metadata": {},
   "outputs": [
    {
     "data": {
      "text/plain": [
       "LGBMClassifier(boosting_type='gbdt', class_weight=None, colsample_bytree=0.9,\n",
       "               importance_type='split', learning_rate=0.1, max_depth=-1,\n",
       "               min_child_samples=1700, min_child_weight=0.001,\n",
       "               min_split_gain=0.0, n_estimators=200, n_jobs=-1, num_leaves=90,\n",
       "               objective='binary', random_state=None, reg_alpha=100,\n",
       "               reg_lambda=0.0, silent=True, subsample=1.0,\n",
       "               subsample_for_bin=200000, subsample_freq=0)"
      ]
     },
     "execution_count": 5,
     "metadata": {},
     "output_type": "execute_result"
    }
   ],
   "source": [
    "int_enc_lgbm = lgb.LGBMClassifier()\n",
    "int_enc_lgbm.set_params(**int_enc_params)\n",
    "#radom_lgbm.set_params(**{\"early_stopping_rounds\": None})"
   ]
  },
  {
   "cell_type": "markdown",
   "metadata": {},
   "source": [
    "Train the model with 15% of the data used as hold-out set"
   ]
  },
  {
   "cell_type": "code",
   "execution_count": 6,
   "metadata": {},
   "outputs": [],
   "source": [
    "x_train, x_val, y_train, y_val = train_test_split(malware_train, targets, \n",
    "                                                test_size=0.15, stratify=targets,\n",
    "                                                  random_state = 42)"
   ]
  },
  {
   "cell_type": "code",
   "execution_count": 7,
   "metadata": {},
   "outputs": [
    {
     "name": "stderr",
     "output_type": "stream",
     "text": [
      "Using categorical_feature in Dataset.\n",
      "categorical_feature in Dataset is overridden.\n",
      "New categorical_feature is ['AVProductStatesIdentifier', 'AVProductsEnabled', 'AVProductsInstalled', 'AppVersion', 'AutoSampleOptIn', 'AvSigVersion', 'Census_ActivationChannel', 'Census_ChassisTypeName', 'Census_DeviceFamily', 'Census_FirmwareManufacturerIdentifier', 'Census_FirmwareVersionIdentifier', 'Census_FlightRing', 'Census_GenuineStateName', 'Census_HasOpticalDiskDrive', 'Census_InternalBatteryType', 'Census_IsAlwaysOnAlwaysConnectedCapable', 'Census_IsFlightingInternal', 'Census_IsFlightsDisabled', 'Census_IsPenCapable', 'Census_IsPortableOperatingSystem', 'Census_IsSecureBootEnabled', 'Census_IsTouchEnabled', 'Census_IsVirtualDevice', 'Census_IsWIMBootEnabled', 'Census_MDC2FormFactor', 'Census_OEMModelIdentifier', 'Census_OEMNameIdentifier', 'Census_OSBranch', 'Census_OSBuildNumber', 'Census_OSBuildRevision', 'Census_OSEdition', 'Census_OSInstallLanguageIdentifier', 'Census_OSInstallTypeName', 'Census_OSSkuName', 'Census_OSUILocaleIdentifier', 'Census_OSVersion', 'Census_OSWUAutoUpdateOptionsName', 'Census_PowerPlatformRoleName', 'Census_PrimaryDiskTypeName', 'Census_ProcessorClass', 'Census_ProcessorManufacturerIdentifier', 'Census_ProcessorModelIdentifier', 'Census_ThresholdOptIn', 'CityIdentifier', 'CountryIdentifier', 'DefaultBrowsersIdentifier', 'EngineVersion', 'Firewall', 'GeoNameIdentifier', 'HasTpm', 'IeVerIdentifier', 'IsBeta', 'IsProtected', 'IsSxsPassiveMode', 'LocaleEnglishNameIdentifier', 'OrganizationIdentifier', 'OsBuild', 'OsBuildLab', 'OsPlatformSubRelease', 'OsSuite', 'OsVer', 'Platform', 'Processor', 'ProductName', 'PuaMode', 'RtpStateBitfield', 'SMode', 'SkuEdition', 'SmartScreen', 'UacLuaenable', 'Wdft_IsGamer', 'Wdft_RegionIdentifier']\n",
      "Overriding the parameters from Reference Dataset.\n",
      "categorical_column in param dict is overridden.\n"
     ]
    }
   ],
   "source": [
    "int_enc_lgbm.fit(x_train, y_train,\n",
    "                early_stopping_rounds = 100,\n",
    "                eval_set=[(x_val, y_val)],\n",
    "                feature_name = x_train.columns.to_list(),\n",
    "                categorical_feature = cat_cols,\n",
    "                eval_metric = 'auc', \n",
    "                verbose = 0)\n",
    "\n",
    "with open('supposedly_best_lgbm.pickle', 'wb') as handle:\n",
    "    pickle.dump(int_enc_lgbm, handle, protocol=pickle.HIGHEST_PROTOCOL)"
   ]
  },
  {
   "cell_type": "code",
   "execution_count": 11,
   "metadata": {},
   "outputs": [],
   "source": [
    "######## SUBMISSION ##########\n",
    "\n",
    "# LOAD INTEGER-ENCODED TEST DATA\n",
    "with open('LGBM_test.pickle', 'rb') as handle:\n",
    "    test = pickle.load(handle)\n",
    "    \n",
    "features = [col for col in test.columns if col != \"MachineIdentifier\"]\n",
    "probs = int_enc_lgbm.predict_proba(test[features])\n",
    "\n",
    "sub_df = pd.read_csv(\"sample_submission.csv\")\n",
    "sub_df['HasDetections'] = probs\n",
    "sub_df.to_csv('lgbm_submission.csv', index=False)"
   ]
  },
  {
   "cell_type": "markdown",
   "metadata": {},
   "source": [
    "The score achieved with the above method was 0.48004. We will now try to understand what was happening 'under the hood'."
   ]
  }
 ],
 "metadata": {
  "kernelspec": {
   "display_name": "Python 3",
   "language": "python",
   "name": "python3"
  },
  "language_info": {
   "codemirror_mode": {
    "name": "ipython",
    "version": 3
   },
   "file_extension": ".py",
   "mimetype": "text/x-python",
   "name": "python",
   "nbconvert_exporter": "python",
   "pygments_lexer": "ipython3",
   "version": "3.7.6"
  }
 },
 "nbformat": 4,
 "nbformat_minor": 4
}
