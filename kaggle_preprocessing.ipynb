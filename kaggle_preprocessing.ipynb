{
  "nbformat": 4,
  "nbformat_minor": 0,
  "metadata": {
    "kernelspec": {
      "display_name": "Python 3",
      "language": "python",
      "name": "python3"
    },
    "language_info": {
      "codemirror_mode": {
        "name": "ipython",
        "version": 3
      },
      "file_extension": ".py",
      "mimetype": "text/x-python",
      "name": "python",
      "nbconvert_exporter": "python",
      "pygments_lexer": "ipython3",
      "version": "3.7.9"
    },
    "colab": {
      "name": "kaggle_preprocessing.ipynb",
      "provenance": [],
      "collapsed_sections": []
    }
  },
  "cells": [
    {
      "cell_type": "code",
      "metadata": {
        "id": "m5_rRzfp-mCr"
      },
      "source": [
        "# usual imports\n",
        "\n",
        "import pandas as pd\n",
        "import numpy as np\n",
        "import matplotlib.pyplot as plt\n",
        "import seaborn as sns"
      ],
      "execution_count": 1,
      "outputs": []
    },
    {
      "cell_type": "code",
      "metadata": {
        "colab": {
          "base_uri": "https://localhost:8080/"
        },
        "id": "tTDeJkWpJ8Vt",
        "outputId": "2c227403-8f0d-4b97-fa71-5af0506ae9fa"
      },
      "source": [
        "from google.colab import drive\n",
        "drive.mount('/content/gdrive')"
      ],
      "execution_count": 2,
      "outputs": [
        {
          "output_type": "stream",
          "text": [
            "Drive already mounted at /content/gdrive; to attempt to forcibly remount, call drive.mount(\"/content/gdrive\", force_remount=True).\n"
          ],
          "name": "stdout"
        }
      ]
    },
    {
      "cell_type": "code",
      "metadata": {
        "id": "K59Ra6N9k_LP"
      },
      "source": [
        "from datetime import datetime\n",
        "\n",
        "submission = pd.read_csv('/content/gdrive/My Drive/Notebooks Colab/testPredsNNPytorchKaggle.csv')\n",
        "df_test = pd.read_csv('/content/gdrive/My Drive/Notebooks Colab/test.csv', usecols=['MachineIdentifier','AvSigVersion'])\n",
        "datedictAS = np.load('/content/gdrive/My Drive/Notebooks Colab/AvSigVersionTimestamps.npy', allow_pickle=True)[()]\n",
        "\n",
        "df_test['Date'] = df_test['AvSigVersion'].map(datedictAS)\n",
        "df_test['HasDetections'] = submission['HasDetections'] / 5.0\n",
        "df_test['X'] = df_test['Date'] - datetime(2018,11,20,4,0) \n",
        "df_test['X'] = df_test['X'].map(lambda x: x.total_seconds() / 86400)\n",
        "df_test['X'].fillna(0,inplace=True)\n",
        "s = 5.813888\n",
        "df_test['F'] = 1.0\n",
        "df_test['F'] = 1 - df_test['X']/s\n",
        "df_test.loc[df_test['X']<=0,'F'] = 1.0\n",
        "df_test.loc[df_test['X']>s,'F'] = 0\n",
        "df_test['HasDetections'] *= df_test['F']\n",
        "df_test[['MachineIdentifier','HasDetections']].to_csv('/content/gdrive/My Drive/Notebooks Colab/testPredsNNPytorchKaggle_corrected.csv', index=False)"
      ],
      "execution_count": 3,
      "outputs": []
    },
    {
      "cell_type": "code",
      "metadata": {
        "id": "2V_FcQCAoonT",
        "colab": {
          "base_uri": "https://localhost:8080/",
          "height": 204
        },
        "outputId": "6d564549-dfaf-48fd-d93e-32b7f2d9bb3c"
      },
      "source": [
        "df_test[['MachineIdentifier','HasDetections']].head()"
      ],
      "execution_count": 4,
      "outputs": [
        {
          "output_type": "execute_result",
          "data": {
            "text/html": [
              "<div>\n",
              "<style scoped>\n",
              "    .dataframe tbody tr th:only-of-type {\n",
              "        vertical-align: middle;\n",
              "    }\n",
              "\n",
              "    .dataframe tbody tr th {\n",
              "        vertical-align: top;\n",
              "    }\n",
              "\n",
              "    .dataframe thead th {\n",
              "        text-align: right;\n",
              "    }\n",
              "</style>\n",
              "<table border=\"1\" class=\"dataframe\">\n",
              "  <thead>\n",
              "    <tr style=\"text-align: right;\">\n",
              "      <th></th>\n",
              "      <th>MachineIdentifier</th>\n",
              "      <th>HasDetections</th>\n",
              "    </tr>\n",
              "  </thead>\n",
              "  <tbody>\n",
              "    <tr>\n",
              "      <th>0</th>\n",
              "      <td>0000010489e3af074adeac69c53e555e</td>\n",
              "      <td>1.588857e-03</td>\n",
              "    </tr>\n",
              "    <tr>\n",
              "      <th>1</th>\n",
              "      <td>00000176ac758d54827acd545b6315a5</td>\n",
              "      <td>5.497672e-06</td>\n",
              "    </tr>\n",
              "    <tr>\n",
              "      <th>2</th>\n",
              "      <td>0000019dcefc128c2d4387c1273dae1d</td>\n",
              "      <td>2.363148e-06</td>\n",
              "    </tr>\n",
              "    <tr>\n",
              "      <th>3</th>\n",
              "      <td>0000055553dc51b1295785415f1a224d</td>\n",
              "      <td>7.174444e-10</td>\n",
              "    </tr>\n",
              "    <tr>\n",
              "      <th>4</th>\n",
              "      <td>00000574cefffeca83ec8adf9285b2bf</td>\n",
              "      <td>7.921727e-02</td>\n",
              "    </tr>\n",
              "  </tbody>\n",
              "</table>\n",
              "</div>"
            ],
            "text/plain": [
              "                  MachineIdentifier  HasDetections\n",
              "0  0000010489e3af074adeac69c53e555e   1.588857e-03\n",
              "1  00000176ac758d54827acd545b6315a5   5.497672e-06\n",
              "2  0000019dcefc128c2d4387c1273dae1d   2.363148e-06\n",
              "3  0000055553dc51b1295785415f1a224d   7.174444e-10\n",
              "4  00000574cefffeca83ec8adf9285b2bf   7.921727e-02"
            ]
          },
          "metadata": {
            "tags": []
          },
          "execution_count": 4
        }
      ]
    },
    {
      "cell_type": "code",
      "metadata": {
        "id": "Hwi9Ufu6FdY3"
      },
      "source": [
        "import pandas as pd\n",
        "import numpy as np\n",
        "import pickle\n",
        "import gc"
      ],
      "execution_count": 5,
      "outputs": []
    },
    {
      "cell_type": "code",
      "metadata": {
        "colab": {
          "base_uri": "https://localhost:8080/"
        },
        "id": "tE2-cAWdFvRN",
        "outputId": "847c0e64-b68c-4ae3-b872-beeb7254ab88"
      },
      "source": [
        "from google.colab import drive\n",
        "drive.mount('/content/gdrive')"
      ],
      "execution_count": 6,
      "outputs": [
        {
          "output_type": "stream",
          "text": [
            "Drive already mounted at /content/gdrive; to attempt to forcibly remount, call drive.mount(\"/content/gdrive\", force_remount=True).\n"
          ],
          "name": "stdout"
        }
      ]
    },
    {
      "cell_type": "markdown",
      "metadata": {
        "id": "FE3o99FIGhFf"
      },
      "source": [
        "# Data loading"
      ]
    },
    {
      "cell_type": "code",
      "metadata": {
        "id": "Bi8q_acEF2nT"
      },
      "source": [
        "def load(x):\n",
        "    ignore = ['MachineIdentifier']\n",
        "    if x in ignore: return False\n",
        "    else: return True\n",
        "\n",
        "df_train = pd.read_csv('/content/gdrive/My Drive/Notebooks Colab/train.csv',dtype='category',usecols=load)\n",
        "df_train['HasDetections'] = df_train['HasDetections'].astype('int8')\n",
        "\n",
        "if 5244810 in df_train.index:\n",
        "    df_train.loc[5244810,'AvSigVersion'] = '1.273.1144.0'\n",
        "    df_train['AvSigVersion'].cat.remove_categories('1.2&#x17;3.1144.0',inplace=True)\n",
        "df_test = pd.read_csv('/content/gdrive/My Drive/Notebooks Colab/test.csv',dtype='category',usecols=load)\n",
        "datedictAS = np.load('/content/gdrive/My Drive/Notebooks Colab/AvSigVersionTimestamps.npy', allow_pickle=True)[()]\n",
        "datedictOS = np.load('/content/gdrive/My Drive/Notebooks Colab/OSVersionTimestamps.npy', allow_pickle=True)[()]"
      ],
      "execution_count": 7,
      "outputs": []
    },
    {
      "cell_type": "markdown",
      "metadata": {
        "id": "aptzppARHP_K"
      },
      "source": [
        "# Pre-processing "
      ]
    },
    {
      "cell_type": "markdown",
      "metadata": {
        "id": "o8pyapNLLCCv"
      },
      "source": [
        "## Feature engineering:"
      ]
    },
    {
      "cell_type": "markdown",
      "metadata": {
        "id": "aCks9N0TGi_V"
      },
      "source": [
        "Getting dates for OS and Defender version"
      ]
    },
    {
      "cell_type": "code",
      "metadata": {
        "id": "Bo-gguaGGia3"
      },
      "source": [
        "df_train['DateAS'] = df_train['AvSigVersion'].map(datedictAS)\n",
        "df_test['DateAS'] = df_test['AvSigVersion'].map(datedictAS)\n",
        "df_train['DateOS'] = df_train['Census_OSVersion'].map(datedictOS)\n",
        "df_test['DateOS'] = df_test['Census_OSVersion'].map(datedictOS)"
      ],
      "execution_count": 8,
      "outputs": []
    },
    {
      "cell_type": "markdown",
      "metadata": {
        "id": "UBAUTnQOG2O6"
      },
      "source": [
        "The second number in Defender version tells us if it is up to date"
      ]
    },
    {
      "cell_type": "code",
      "metadata": {
        "id": "xHTp2DWUHAK_"
      },
      "source": [
        "df_train['AppVersion2'] = df_train['AppVersion'].map(lambda x: np.int(x.split('.')[1]))\n",
        "df_test['AppVersion2'] = df_test['AppVersion'].map(lambda x: np.int(x.split('.')[1]))"
      ],
      "execution_count": 9,
      "outputs": []
    },
    {
      "cell_type": "markdown",
      "metadata": {
        "id": "jZHvWgwOHJ5d"
      },
      "source": [
        "Check if Defender is behind OS update"
      ]
    },
    {
      "cell_type": "code",
      "metadata": {
        "id": "0pykWgOzHYgN"
      },
      "source": [
        "df_train['Lag1'] = df_train['DateAS'] - df_train['DateOS']\n",
        "df_train['Lag1'] = df_train['Lag1'].map(lambda x: x.days//7)\n",
        "df_test['Lag1'] = df_test['DateAS'] - df_test['DateOS']\n",
        "df_test['Lag1'] = df_test['Lag1'].map(lambda x: x.days//7)"
      ],
      "execution_count": 10,
      "outputs": []
    },
    {
      "cell_type": "markdown",
      "metadata": {
        "id": "nkAODpVxHigV"
      },
      "source": [
        "Check ratio of size of OS partition and total hard drive space _\"Savy users install multiple operating systems and have a lower ratio. Savy users have reduced HasDetections.\"_"
      ]
    },
    {
      "cell_type": "code",
      "metadata": {
        "id": "6x88tPVmHiM0"
      },
      "source": [
        "df_train['driveA'] = df_train['Census_SystemVolumeTotalCapacity'].astype('float')/df_train['Census_PrimaryDiskTotalCapacity'].astype('float')\n",
        "df_test['driveA'] = df_test['Census_SystemVolumeTotalCapacity'].astype('float')/df_test['Census_PrimaryDiskTotalCapacity'].astype('float')\n",
        "df_train['driveA'] = df_train['driveA'].astype('float32') \n",
        "df_test['driveA'] = df_test['driveA'].astype('float32') "
      ],
      "execution_count": 11,
      "outputs": []
    },
    {
      "cell_type": "markdown",
      "metadata": {
        "id": "BddUtcsCH8Dt"
      },
      "source": [
        "Amount of hard drive not used in OS. _\"Responsible users manager their hard drives well. Responsible users have reduced HasDetections.\"_"
      ]
    },
    {
      "cell_type": "code",
      "metadata": {
        "id": "VBU1217NIMKc"
      },
      "source": [
        "df_train['driveB'] = df_train['Census_PrimaryDiskTotalCapacity'].astype('float') - df_train['Census_SystemVolumeTotalCapacity'].astype('float')\n",
        "df_test['driveB'] = df_test['Census_PrimaryDiskTotalCapacity'].astype('float') - df_test['Census_SystemVolumeTotalCapacity'].astype('float')\n",
        "df_train['driveB'] = df_train['driveB'].astype('float32') \n",
        "df_test['driveB'] = df_test['driveB'].astype('float32')\n",
        "\n",
        "cols6=['Lag1']\n",
        "cols8=['driveB','driveA']\n",
        "\n",
        "del df_train['DateAS'], df_train['DateOS']\n",
        "del df_test['DateAS'], df_test['DateOS']\n",
        "del datedictAS, datedictOS\n",
        "\n",
        "x = gc.collect()"
      ],
      "execution_count": 12,
      "outputs": []
    },
    {
      "cell_type": "markdown",
      "metadata": {
        "id": "ePKg81rLInZf"
      },
      "source": [
        "More popular countries are more frequently attacked, therefore there is correlation between infection rate and frequency of appereance of a country code. Apparently, there is also a correlation between the number of charges and the detection rate. Maybe because it tells is wether it is a laptop or desktop PC?"
      ]
    },
    {
      "cell_type": "code",
      "metadata": {
        "id": "ZqYN7ijuI1Dd"
      },
      "source": [
        "cols3 = []\n",
        "\n",
        "def encode_FE2(df1, df2, col):\n",
        "    df = pd.concat([df1[col],df2[col]])\n",
        "    vc = df.value_counts(dropna=False, normalize=True).to_dict()\n",
        "    nm = col+'_FE2'\n",
        "    df1[nm] = df1[col].map(vc)\n",
        "    df1[nm] = df1[nm].astype('float32')\n",
        "    df2[nm] = df2[col].map(vc)\n",
        "    df2[nm] = df2[nm].astype('float32')\n",
        "    return [nm]\n",
        "\n",
        "\n",
        "FE2 = ['CountryIdentifier', 'Census_InternalBatteryNumberOfCharges']\n",
        "for col in FE2:\n",
        "    cols3 += encode_FE2(df_train, df_test, col)"
      ],
      "execution_count": 14,
      "outputs": []
    },
    {
      "cell_type": "markdown",
      "metadata": {
        "id": "xY0-EQ1TLMjk"
      },
      "source": [
        "## Data cleaning"
      ]
    },
    {
      "cell_type": "markdown",
      "metadata": {
        "id": "aRM2zDhpMqMq"
      },
      "source": [
        "Removing apparently irrelevant variables. These are variables which are highly correlated with other variable or have more than 98% values in one category. I know we were unsure about removing these, but several notebooks showed that this can be removed without affecting performance"
      ]
    },
    {
      "cell_type": "code",
      "metadata": {
        "colab": {
          "base_uri": "https://localhost:8080/"
        },
        "id": "0cyImfXiLOFn",
        "outputId": "dbae06c3-84d9-4545-e953-df7032f607ab"
      },
      "source": [
        "# FACTORIZE\n",
        "def factor_data(df_train, df_test, col):\n",
        "    df_comb = pd.concat([df_train[col],df_test[col]],axis=0)\n",
        "    df_comb,_ = df_comb.factorize(sort=True)\n",
        "    # MAKE SMALLEST LABEL 1, RESERVE 0\n",
        "    df_comb += 1\n",
        "    # MAKE NAN LARGEST LABEL (need to remove attype('str') above)\n",
        "    df_comb = np.where(df_comb==0, df_comb.max()+1, df_comb)\n",
        "    df_train[col] = df_comb[:len(df_train)]\n",
        "    df_test[col] = df_comb[len(df_train):]\n",
        "    del df_comb\n",
        "    \n",
        "# OPTIMIZE MEMORY\n",
        "def reduce_memory(df,col):\n",
        "    mx = df[col].max()\n",
        "    if mx<256:\n",
        "            df[col] = df[col].astype('uint8')\n",
        "    elif mx<65536:\n",
        "        df[col] = df[col].astype('uint16')\n",
        "    else:\n",
        "        df[col] = df[col].astype('uint32')\n",
        "        \n",
        "# REDUCE CATEGORY CARDINALITY\n",
        "def relax_data(df_train, df_test, col):\n",
        "    cv1 = pd.DataFrame(df_train[col].value_counts().reset_index().rename({col:'train'},axis=1))\n",
        "    cv2 = pd.DataFrame(df_test[col].value_counts().reset_index().rename({col:'test'},axis=1))\n",
        "    cv3 = pd.merge(cv1,cv2,on='index',how='outer')\n",
        "    factor = len(df_test)/len(df_train)\n",
        "    cv3['train'].fillna(0,inplace=True)\n",
        "    cv3['test'].fillna(0,inplace=True)\n",
        "    cv3['remove'] = False\n",
        "    cv3['remove'] = cv3['remove'] | (cv3['train'] < len(df_train)/10000)\n",
        "    cv3['remove'] = cv3['remove'] | (factor*cv3['train'] < cv3['test']/3)\n",
        "    cv3['remove'] = cv3['remove'] | (factor*cv3['train'] > 3*cv3['test'])\n",
        "    cv3['new'] = cv3.apply(lambda x: x['index'] if x['remove']==False else 0,axis=1)\n",
        "    cv3['new'],_ = cv3['new'].factorize(sort=True)\n",
        "    cv3.set_index('index',inplace=True)\n",
        "    cc = cv3['new'].to_dict()\n",
        "    df_train[col] = df_train[col].map(cc)\n",
        "    reduce_memory(df_train,col)\n",
        "    df_test[col] = df_test[col].map(cc)\n",
        "    reduce_memory(df_test,col)\n",
        "    \n",
        "# DISPLAY MEMORY STATISTICS\n",
        "def display_memory(df_train, df_test):\n",
        "    print(len(df_train),'rows of training data use',df_train.memory_usage(deep=True).sum()//1e6,'Mb memory!')\n",
        "    print(len(df_test),'rows of test data use',df_test.memory_usage(deep=True).sum()//1e6,'Mb memory!')\n",
        "\n",
        "# CONVERT TO CATEGORIES\n",
        "def categorize(df_train, df_test, cols):\n",
        "    for col in cols:\n",
        "        df_train[col] = df_train[col].astype('category')\n",
        "        df_test[col] = df_test[col].astype('category')\n",
        "        \n",
        "\n",
        "CE = ['CountryIdentifier', 'SkuEdition', 'Firewall', 'Census_ProcessorCoreCount', 'Census_OSUILocaleIdentifier', 'Census_FlightRing']\n",
        "\n",
        "cols = [x for x in df_train.columns if x not in ['HasDetections']+CE+cols3+cols6+cols8]\n",
        "cols2 = CE\n",
        "ct = 1\n",
        "    \n",
        "for col in cols.copy():\n",
        "    rate = df_train[col].value_counts(normalize=True, dropna=False).values[0]\n",
        "    if rate > 0.98:\n",
        "        del df_train[col]\n",
        "        del df_test[col]\n",
        "        cols.remove(col)\n",
        "        ct += 1\n",
        "\n",
        "rmv3=['Census_OSSkuName', 'OsVer', 'Census_OSArchitecture', 'Census_OSInstallLanguageIdentifier']\n",
        "rmv4=['SMode']\n",
        "for col in rmv3+rmv4:\n",
        "    del df_train[col]\n",
        "    del df_test[col]\n",
        "    cols.remove(col)\n",
        "    ct +=1\n",
        "    \n",
        "print('Removed',ct,'variables')\n",
        "x=gc.collect()\n",
        "\n",
        "print('Factorizing...')\n",
        "for col in cols+cols2+cols6:\n",
        "    factor_data(df_train, df_test, col)\n",
        "print('Relaxing data...')\n",
        "for col in cols+cols2: relax_data(df_train, df_test, col)\n",
        "print('Optimizing memory...')\n",
        "for col in cols+cols2+cols6:\n",
        "    reduce_memory(df_train, col)\n",
        "    reduce_memory(df_test, col)\n",
        "# Converting 6 variables to categorical\n",
        "categorize(df_train, df_test, cols2)\n",
        "    \n",
        "print('Number of variables is',len(cols+cols2+cols3+cols6+cols8))\n",
        "display_memory(df_train, df_test)"
      ],
      "execution_count": 15,
      "outputs": [
        {
          "output_type": "stream",
          "text": [
            "Removed 18 variables\n",
            "Factorizing...\n",
            "Relaxing data...\n",
            "Optimizing memory...\n",
            "Number of variables is 70\n",
            "8921483 rows of training data use 811.0 Mb memory!\n",
            "7853253 rows of test data use 706.0 Mb memory!\n"
          ],
          "name": "stdout"
        }
      ]
    },
    {
      "cell_type": "code",
      "metadata": {
        "id": "nP15RPRGftMv"
      },
      "source": [
        "df_train = df_train[cols+cols2+cols3+cols6+cols8]\n",
        "df_test = df_test[cols+cols2+cols3+cols6+cols8]"
      ],
      "execution_count": 18,
      "outputs": []
    },
    {
      "cell_type": "code",
      "metadata": {
        "colab": {
          "base_uri": "https://localhost:8080/"
        },
        "id": "y7UKE-A3N9fz",
        "outputId": "09c388fc-65f2-4e25-a83e-34ec1cc30f9d"
      },
      "source": [
        "for column in df_train:\n",
        "    if hasattr(df_train[column], 'cat'):\n",
        "        print(f\"{column} ({df_train[column].dtype}):\\n Cardinality: {df_train[column].nunique()} \\t Has NaN: {df_train[column].isna().any()}\")\n",
        "    else:\n",
        "        print(f\"{column} ({df_train[column].dtype}):\\n Cardinality: {df_train[column].nunique()} \\t Has NaN: {df_train[column].isna().any()}, \\t range: [{np.min(df_train[column])}, {np.max(df_train[column])}]\")"
      ],
      "execution_count": 19,
      "outputs": [
        {
          "output_type": "stream",
          "text": [
            "EngineVersion (uint8):\n",
            " Cardinality: 30 \t Has NaN: False, \t range: [0, 29]\n",
            "AppVersion (uint8):\n",
            " Cardinality: 47 \t Has NaN: False, \t range: [0, 46]\n",
            "AvSigVersion (uint8):\n",
            " Cardinality: 166 \t Has NaN: False, \t range: [0, 165]\n",
            "RtpStateBitfield (uint8):\n",
            " Cardinality: 8 \t Has NaN: False, \t range: [0, 7]\n",
            "DefaultBrowsersIdentifier (uint8):\n",
            " Cardinality: 40 \t Has NaN: False, \t range: [0, 39]\n",
            "AVProductStatesIdentifier (uint8):\n",
            " Cardinality: 207 \t Has NaN: False, \t range: [0, 206]\n",
            "AVProductsInstalled (uint8):\n",
            " Cardinality: 6 \t Has NaN: False, \t range: [0, 5]\n",
            "AVProductsEnabled (uint8):\n",
            " Cardinality: 6 \t Has NaN: False, \t range: [0, 5]\n",
            "CityIdentifier (uint16):\n",
            " Cardinality: 1273 \t Has NaN: False, \t range: [0, 1272]\n",
            "OrganizationIdentifier (uint8):\n",
            " Cardinality: 24 \t Has NaN: False, \t range: [0, 23]\n",
            "GeoNameIdentifier (uint8):\n",
            " Cardinality: 153 \t Has NaN: False, \t range: [0, 152]\n",
            "LocaleEnglishNameIdentifier (uint8):\n",
            " Cardinality: 123 \t Has NaN: False, \t range: [0, 122]\n",
            "Platform (uint8):\n",
            " Cardinality: 4 \t Has NaN: False, \t range: [0, 3]\n",
            "Processor (uint8):\n",
            " Cardinality: 3 \t Has NaN: False, \t range: [0, 2]\n",
            "OsBuild (uint8):\n",
            " Cardinality: 11 \t Has NaN: False, \t range: [0, 10]\n",
            "OsSuite (uint8):\n",
            " Cardinality: 4 \t Has NaN: False, \t range: [0, 3]\n",
            "OsPlatformSubRelease (uint8):\n",
            " Cardinality: 9 \t Has NaN: False, \t range: [0, 8]\n",
            "OsBuildLab (uint8):\n",
            " Cardinality: 137 \t Has NaN: False, \t range: [0, 136]\n",
            "IsProtected (uint8):\n",
            " Cardinality: 3 \t Has NaN: False, \t range: [0, 2]\n",
            "IeVerIdentifier (uint8):\n",
            " Cardinality: 54 \t Has NaN: False, \t range: [0, 53]\n",
            "SmartScreen (uint8):\n",
            " Cardinality: 9 \t Has NaN: False, \t range: [0, 8]\n",
            "Census_MDC2FormFactor (uint8):\n",
            " Cardinality: 11 \t Has NaN: False, \t range: [0, 10]\n",
            "Census_OEMNameIdentifier (uint8):\n",
            " Cardinality: 161 \t Has NaN: False, \t range: [0, 160]\n",
            "Census_OEMModelIdentifier (uint16):\n",
            " Cardinality: 1551 \t Has NaN: False, \t range: [0, 1550]\n",
            "Census_ProcessorManufacturerIdentifier (uint8):\n",
            " Cardinality: 4 \t Has NaN: False, \t range: [0, 3]\n",
            "Census_ProcessorModelIdentifier (uint16):\n",
            " Cardinality: 751 \t Has NaN: False, \t range: [0, 750]\n",
            "Census_PrimaryDiskTotalCapacity (uint8):\n",
            " Cardinality: 102 \t Has NaN: False, \t range: [0, 101]\n",
            "Census_PrimaryDiskTypeName (uint8):\n",
            " Cardinality: 5 \t Has NaN: False, \t range: [0, 4]\n",
            "Census_SystemVolumeTotalCapacity (uint16):\n",
            " Cardinality: 723 \t Has NaN: False, \t range: [0, 722]\n",
            "Census_HasOpticalDiskDrive (uint8):\n",
            " Cardinality: 2 \t Has NaN: False, \t range: [0, 1]\n",
            "Census_TotalPhysicalRAM (uint8):\n",
            " Cardinality: 25 \t Has NaN: False, \t range: [0, 24]\n",
            "Census_ChassisTypeName (uint8):\n",
            " Cardinality: 21 \t Has NaN: False, \t range: [0, 20]\n",
            "Census_InternalPrimaryDiagonalDisplaySizeInInches (uint8):\n",
            " Cardinality: 166 \t Has NaN: False, \t range: [0, 165]\n",
            "Census_InternalPrimaryDisplayResolutionHorizontal (uint8):\n",
            " Cardinality: 38 \t Has NaN: False, \t range: [0, 37]\n",
            "Census_InternalPrimaryDisplayResolutionVertical (uint8):\n",
            " Cardinality: 33 \t Has NaN: False, \t range: [0, 32]\n",
            "Census_PowerPlatformRoleName (uint8):\n",
            " Cardinality: 9 \t Has NaN: False, \t range: [0, 8]\n",
            "Census_InternalBatteryType (uint8):\n",
            " Cardinality: 14 \t Has NaN: False, \t range: [0, 13]\n",
            "Census_InternalBatteryNumberOfCharges (uint16):\n",
            " Cardinality: 324 \t Has NaN: False, \t range: [0, 323]\n",
            "Census_OSVersion (uint8):\n",
            " Cardinality: 144 \t Has NaN: False, \t range: [0, 143]\n",
            "Census_OSBranch (uint8):\n",
            " Cardinality: 11 \t Has NaN: False, \t range: [0, 10]\n",
            "Census_OSBuildNumber (uint8):\n",
            " Cardinality: 9 \t Has NaN: False, \t range: [0, 8]\n",
            "Census_OSBuildRevision (uint8):\n",
            " Cardinality: 139 \t Has NaN: False, \t range: [0, 138]\n",
            "Census_OSEdition (uint8):\n",
            " Cardinality: 15 \t Has NaN: False, \t range: [0, 14]\n",
            "Census_OSInstallTypeName (uint8):\n",
            " Cardinality: 9 \t Has NaN: False, \t range: [0, 8]\n",
            "Census_OSWUAutoUpdateOptionsName (uint8):\n",
            " Cardinality: 6 \t Has NaN: False, \t range: [0, 5]\n",
            "Census_GenuineStateName (uint8):\n",
            " Cardinality: 5 \t Has NaN: False, \t range: [0, 4]\n",
            "Census_ActivationChannel (uint8):\n",
            " Cardinality: 6 \t Has NaN: False, \t range: [0, 5]\n",
            "Census_IsFlightingInternal (uint8):\n",
            " Cardinality: 3 \t Has NaN: False, \t range: [0, 2]\n",
            "Census_ThresholdOptIn (uint8):\n",
            " Cardinality: 3 \t Has NaN: False, \t range: [0, 2]\n",
            "Census_FirmwareManufacturerIdentifier (uint8):\n",
            " Cardinality: 52 \t Has NaN: False, \t range: [0, 51]\n",
            "Census_FirmwareVersionIdentifier (uint16):\n",
            " Cardinality: 1420 \t Has NaN: False, \t range: [0, 1419]\n",
            "Census_IsSecureBootEnabled (uint8):\n",
            " Cardinality: 2 \t Has NaN: False, \t range: [0, 1]\n",
            "Census_IsWIMBootEnabled (uint8):\n",
            " Cardinality: 3 \t Has NaN: False, \t range: [0, 2]\n",
            "Census_IsTouchEnabled (uint8):\n",
            " Cardinality: 2 \t Has NaN: False, \t range: [0, 1]\n",
            "Census_IsPenCapable (uint8):\n",
            " Cardinality: 2 \t Has NaN: False, \t range: [0, 1]\n",
            "Census_IsAlwaysOnAlwaysConnectedCapable (uint8):\n",
            " Cardinality: 3 \t Has NaN: False, \t range: [0, 2]\n",
            "Wdft_IsGamer (uint8):\n",
            " Cardinality: 3 \t Has NaN: False, \t range: [0, 2]\n",
            "Wdft_RegionIdentifier (uint8):\n",
            " Cardinality: 16 \t Has NaN: False, \t range: [0, 15]\n",
            "AppVersion2 (uint8):\n",
            " Cardinality: 11 \t Has NaN: False, \t range: [0, 10]\n",
            "CountryIdentifier (category):\n",
            " Cardinality: 191 \t Has NaN: False\n",
            "SkuEdition (category):\n",
            " Cardinality: 8 \t Has NaN: False\n",
            "Firewall (category):\n",
            " Cardinality: 3 \t Has NaN: False\n",
            "Census_ProcessorCoreCount (category):\n",
            " Cardinality: 13 \t Has NaN: False\n",
            "Census_OSUILocaleIdentifier (category):\n",
            " Cardinality: 43 \t Has NaN: False\n",
            "Census_FlightRing (category):\n",
            " Cardinality: 8 \t Has NaN: False\n",
            "CountryIdentifier_FE2 (float32):\n",
            " Cardinality: 222 \t Has NaN: False, \t range: [2.038780257862527e-05, 0.05096682161092758]\n",
            "Census_InternalBatteryNumberOfCharges_FE2 (float32):\n",
            " Cardinality: 783 \t Has NaN: True, \t range: [5.961345550531405e-08, 0.5596782565116882]\n",
            "Lag1 (uint16):\n",
            " Cardinality: 339 \t Has NaN: False, \t range: [2, 364]\n",
            "driveB (float32):\n",
            " Cardinality: 565176 \t Has NaN: True, \t range: [-952719.0, 8160436289536.0]\n",
            "driveA (float32):\n",
            " Cardinality: 1053930 \t Has NaN: True, \t range: [8.432147069470375e-08, 8.214566230773926]\n"
          ],
          "name": "stdout"
        }
      ]
    },
    {
      "cell_type": "code",
      "metadata": {
        "colab": {
          "base_uri": "https://localhost:8080/"
        },
        "id": "Ry4kHS29gRwU",
        "outputId": "29f4fdd1-7aa7-4785-9bdc-31ab60da50cc"
      },
      "source": [
        "for column in df_test:\n",
        "    if hasattr(df_test[column], 'cat'):\n",
        "        print(f\"{column} ({df_test[column].dtype}):\\n Cardinality: {df_test[column].nunique()} \\t Has NaN: {df_test[column].isna().any()}\")\n",
        "    else:\n",
        "        print(f\"{column} ({df_test[column].dtype}):\\n Cardinality: {df_test[column].nunique()} \\t Has NaN: {df_test[column].isna().any()}, \\t range: [{np.min(df_train[column])}, {np.max(df_train[column])}]\")"
      ],
      "execution_count": 20,
      "outputs": [
        {
          "output_type": "stream",
          "text": [
            "EngineVersion (uint8):\n",
            " Cardinality: 30 \t Has NaN: False, \t range: [0, 29]\n",
            "AppVersion (uint8):\n",
            " Cardinality: 47 \t Has NaN: False, \t range: [0, 46]\n",
            "AvSigVersion (uint8):\n",
            " Cardinality: 166 \t Has NaN: False, \t range: [0, 165]\n",
            "RtpStateBitfield (uint8):\n",
            " Cardinality: 8 \t Has NaN: False, \t range: [0, 7]\n",
            "DefaultBrowsersIdentifier (uint8):\n",
            " Cardinality: 40 \t Has NaN: False, \t range: [0, 39]\n",
            "AVProductStatesIdentifier (uint8):\n",
            " Cardinality: 207 \t Has NaN: False, \t range: [0, 206]\n",
            "AVProductsInstalled (uint8):\n",
            " Cardinality: 6 \t Has NaN: False, \t range: [0, 5]\n",
            "AVProductsEnabled (uint8):\n",
            " Cardinality: 6 \t Has NaN: False, \t range: [0, 5]\n",
            "CityIdentifier (uint16):\n",
            " Cardinality: 1273 \t Has NaN: False, \t range: [0, 1272]\n",
            "OrganizationIdentifier (uint8):\n",
            " Cardinality: 24 \t Has NaN: False, \t range: [0, 23]\n",
            "GeoNameIdentifier (uint8):\n",
            " Cardinality: 153 \t Has NaN: False, \t range: [0, 152]\n",
            "LocaleEnglishNameIdentifier (uint8):\n",
            " Cardinality: 123 \t Has NaN: False, \t range: [0, 122]\n",
            "Platform (uint8):\n",
            " Cardinality: 4 \t Has NaN: False, \t range: [0, 3]\n",
            "Processor (uint8):\n",
            " Cardinality: 3 \t Has NaN: False, \t range: [0, 2]\n",
            "OsBuild (uint8):\n",
            " Cardinality: 11 \t Has NaN: False, \t range: [0, 10]\n",
            "OsSuite (uint8):\n",
            " Cardinality: 4 \t Has NaN: False, \t range: [0, 3]\n",
            "OsPlatformSubRelease (uint8):\n",
            " Cardinality: 9 \t Has NaN: False, \t range: [0, 8]\n",
            "OsBuildLab (uint8):\n",
            " Cardinality: 137 \t Has NaN: False, \t range: [0, 136]\n",
            "IsProtected (uint8):\n",
            " Cardinality: 3 \t Has NaN: False, \t range: [0, 2]\n",
            "IeVerIdentifier (uint8):\n",
            " Cardinality: 54 \t Has NaN: False, \t range: [0, 53]\n",
            "SmartScreen (uint8):\n",
            " Cardinality: 9 \t Has NaN: False, \t range: [0, 8]\n",
            "Census_MDC2FormFactor (uint8):\n",
            " Cardinality: 11 \t Has NaN: False, \t range: [0, 10]\n",
            "Census_OEMNameIdentifier (uint8):\n",
            " Cardinality: 161 \t Has NaN: False, \t range: [0, 160]\n",
            "Census_OEMModelIdentifier (uint16):\n",
            " Cardinality: 1551 \t Has NaN: False, \t range: [0, 1550]\n",
            "Census_ProcessorManufacturerIdentifier (uint8):\n",
            " Cardinality: 4 \t Has NaN: False, \t range: [0, 3]\n",
            "Census_ProcessorModelIdentifier (uint16):\n",
            " Cardinality: 751 \t Has NaN: False, \t range: [0, 750]\n",
            "Census_PrimaryDiskTotalCapacity (uint8):\n",
            " Cardinality: 102 \t Has NaN: False, \t range: [0, 101]\n",
            "Census_PrimaryDiskTypeName (uint8):\n",
            " Cardinality: 5 \t Has NaN: False, \t range: [0, 4]\n",
            "Census_SystemVolumeTotalCapacity (uint16):\n",
            " Cardinality: 723 \t Has NaN: False, \t range: [0, 722]\n",
            "Census_HasOpticalDiskDrive (uint8):\n",
            " Cardinality: 2 \t Has NaN: False, \t range: [0, 1]\n",
            "Census_TotalPhysicalRAM (uint8):\n",
            " Cardinality: 25 \t Has NaN: False, \t range: [0, 24]\n",
            "Census_ChassisTypeName (uint8):\n",
            " Cardinality: 21 \t Has NaN: False, \t range: [0, 20]\n",
            "Census_InternalPrimaryDiagonalDisplaySizeInInches (uint8):\n",
            " Cardinality: 166 \t Has NaN: False, \t range: [0, 165]\n",
            "Census_InternalPrimaryDisplayResolutionHorizontal (uint8):\n",
            " Cardinality: 38 \t Has NaN: False, \t range: [0, 37]\n",
            "Census_InternalPrimaryDisplayResolutionVertical (uint8):\n",
            " Cardinality: 33 \t Has NaN: False, \t range: [0, 32]\n",
            "Census_PowerPlatformRoleName (uint8):\n",
            " Cardinality: 9 \t Has NaN: False, \t range: [0, 8]\n",
            "Census_InternalBatteryType (uint8):\n",
            " Cardinality: 14 \t Has NaN: False, \t range: [0, 13]\n",
            "Census_InternalBatteryNumberOfCharges (uint16):\n",
            " Cardinality: 324 \t Has NaN: False, \t range: [0, 323]\n",
            "Census_OSVersion (uint8):\n",
            " Cardinality: 144 \t Has NaN: False, \t range: [0, 143]\n",
            "Census_OSBranch (uint8):\n",
            " Cardinality: 11 \t Has NaN: False, \t range: [0, 10]\n",
            "Census_OSBuildNumber (uint8):\n",
            " Cardinality: 9 \t Has NaN: False, \t range: [0, 8]\n",
            "Census_OSBuildRevision (uint8):\n",
            " Cardinality: 139 \t Has NaN: False, \t range: [0, 138]\n",
            "Census_OSEdition (uint8):\n",
            " Cardinality: 15 \t Has NaN: False, \t range: [0, 14]\n",
            "Census_OSInstallTypeName (uint8):\n",
            " Cardinality: 9 \t Has NaN: False, \t range: [0, 8]\n",
            "Census_OSWUAutoUpdateOptionsName (uint8):\n",
            " Cardinality: 6 \t Has NaN: False, \t range: [0, 5]\n",
            "Census_GenuineStateName (uint8):\n",
            " Cardinality: 5 \t Has NaN: False, \t range: [0, 4]\n",
            "Census_ActivationChannel (uint8):\n",
            " Cardinality: 6 \t Has NaN: False, \t range: [0, 5]\n",
            "Census_IsFlightingInternal (uint8):\n",
            " Cardinality: 3 \t Has NaN: False, \t range: [0, 2]\n",
            "Census_ThresholdOptIn (uint8):\n",
            " Cardinality: 3 \t Has NaN: False, \t range: [0, 2]\n",
            "Census_FirmwareManufacturerIdentifier (uint8):\n",
            " Cardinality: 52 \t Has NaN: False, \t range: [0, 51]\n",
            "Census_FirmwareVersionIdentifier (uint16):\n",
            " Cardinality: 1420 \t Has NaN: False, \t range: [0, 1419]\n",
            "Census_IsSecureBootEnabled (uint8):\n",
            " Cardinality: 2 \t Has NaN: False, \t range: [0, 1]\n",
            "Census_IsWIMBootEnabled (uint8):\n",
            " Cardinality: 3 \t Has NaN: False, \t range: [0, 2]\n",
            "Census_IsTouchEnabled (uint8):\n",
            " Cardinality: 2 \t Has NaN: False, \t range: [0, 1]\n",
            "Census_IsPenCapable (uint8):\n",
            " Cardinality: 2 \t Has NaN: False, \t range: [0, 1]\n",
            "Census_IsAlwaysOnAlwaysConnectedCapable (uint8):\n",
            " Cardinality: 3 \t Has NaN: False, \t range: [0, 2]\n",
            "Wdft_IsGamer (uint8):\n",
            " Cardinality: 3 \t Has NaN: False, \t range: [0, 2]\n",
            "Wdft_RegionIdentifier (uint8):\n",
            " Cardinality: 16 \t Has NaN: False, \t range: [0, 15]\n",
            "AppVersion2 (uint8):\n",
            " Cardinality: 11 \t Has NaN: False, \t range: [0, 10]\n",
            "CountryIdentifier (category):\n",
            " Cardinality: 191 \t Has NaN: False\n",
            "SkuEdition (category):\n",
            " Cardinality: 8 \t Has NaN: False\n",
            "Firewall (category):\n",
            " Cardinality: 3 \t Has NaN: False\n",
            "Census_ProcessorCoreCount (category):\n",
            " Cardinality: 13 \t Has NaN: False\n",
            "Census_OSUILocaleIdentifier (category):\n",
            " Cardinality: 43 \t Has NaN: False\n",
            "Census_FlightRing (category):\n",
            " Cardinality: 8 \t Has NaN: False\n",
            "CountryIdentifier_FE2 (float32):\n",
            " Cardinality: 222 \t Has NaN: False, \t range: [2.038780257862527e-05, 0.05096682161092758]\n",
            "Census_InternalBatteryNumberOfCharges_FE2 (float32):\n",
            " Cardinality: 783 \t Has NaN: True, \t range: [5.961345550531405e-08, 0.5596782565116882]\n",
            "Lag1 (uint16):\n",
            " Cardinality: 349 \t Has NaN: False, \t range: [2, 364]\n",
            "driveB (float32):\n",
            " Cardinality: 541971 \t Has NaN: True, \t range: [-952719.0, 8160436289536.0]\n",
            "driveA (float32):\n",
            " Cardinality: 986417 \t Has NaN: True, \t range: [8.432147069470375e-08, 8.214566230773926]\n"
          ],
          "name": "stdout"
        }
      ]
    },
    {
      "cell_type": "code",
      "metadata": {
        "id": "TEBUbCQUf_cW"
      },
      "source": [
        "with open('/content/gdrive/My Drive/Notebooks Colab/kaggleDF.pickle', 'wb') as handle:\n",
        "    pickle.dump((df_train, df_test), handle, protocol=pickle.HIGHEST_PROTOCOL)"
      ],
      "execution_count": 21,
      "outputs": []
    },
    {
      "cell_type": "markdown",
      "metadata": {
        "id": "JGvDzwkJhI3k"
      },
      "source": [
        "# NaN filtering (Optional with LGBM I think (?)) and scale normalization (necessary for parametric models)"
      ]
    },
    {
      "cell_type": "code",
      "metadata": {
        "id": "2TrekorLhPIZ"
      },
      "source": [
        "def standardNaNFilling(X):\n",
        "    for column in X:\n",
        "        if hasattr(X[column], 'cat'):\n",
        "            X[column] = X[column].cat.add_categories(\"NaN\")\n",
        "            X[column].fillna(\"NaN\", inplace=True)\n",
        "        elif X[column].dtype in ['uint8', 'int8', 'uint16', 'int16', 'uint32', 'int32', 'uint64', 'int64']:\n",
        "            X[column].fillna(X[column].mode(), inplace=True)\n",
        "        elif X[column].dtype in ['float16', 'float32', 'float64']:\n",
        "            X[column].fillna(X[column].mean(), inplace=True)\n",
        "\n",
        "def scaleNormalization(xTrain, xTest):\n",
        "    normConstants = {}\n",
        "    for column in xTrain:\n",
        "        if not hasattr(xTrain[column], 'cat') and np.max(np.abs(xTrain[column])) > 1:\n",
        "            normConstants[column] = (np.mean(xTrain[column]), np.std(xTrain[column]))\n",
        "            if xTrain[column].dtype in ['uint8', 'int8', 'uint16', 'int16', 'float16']:\n",
        "                columnDType = 'float16'\n",
        "            elif xTrain[column].dtype in ['uint32', 'int32', 'float32']:\n",
        "                columnDType = 'float32'\n",
        "            elif xTrain[column].dtype in ['uint64', 'int64', 'float64']:\n",
        "                columnDType = 'float64'\n",
        "            xTrain[column] = (xTrain[column].astype(columnDType) - normConstants[column][0]) / normConstants[column][1]\n",
        "            xTest[column] = (xTest[column].astype(columnDType) - normConstants[column][0]) / normConstants[column][1]"
      ],
      "execution_count": null,
      "outputs": []
    }
  ]
}