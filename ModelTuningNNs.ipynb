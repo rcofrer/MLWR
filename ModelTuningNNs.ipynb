{
  "nbformat": 4,
  "nbformat_minor": 0,
  "metadata": {
    "kernelspec": {
      "display_name": "Python 3",
      "language": "python",
      "name": "python3"
    },
    "language_info": {
      "codemirror_mode": {
        "name": "ipython",
        "version": 3
      },
      "file_extension": ".py",
      "mimetype": "text/x-python",
      "name": "python",
      "nbconvert_exporter": "python",
      "pygments_lexer": "ipython3",
      "version": "3.7.9"
    },
    "colab": {
      "name": "ModelTuningNNs.ipynb",
      "provenance": [],
      "collapsed_sections": []
    }
  },
  "cells": [
    {
      "cell_type": "code",
      "metadata": {
        "id": "m5_rRzfp-mCr"
      },
      "source": [
        "import pandas as pd\n",
        "import numpy as np\n",
        "import matplotlib.pyplot as plt\n",
        "import seaborn as sns\n",
        "import pickle\n",
        "import scipy\n",
        "from sklearn.linear_model import SGDClassifier\n",
        "from sklearn.neural_network import MLPClassifier\n",
        "from sklearn.model_selection import train_test_split\n",
        "from sklearn.preprocessing import OneHotEncoder\n",
        "from sklearn.compose import ColumnTransformer\n",
        "from sklearn.pipeline import Pipeline\n",
        "from sklearn.impute import SimpleImputer\n",
        "from sklearn.preprocessing import StandardScaler\n",
        "from sklearn.model_selection import KFold\n",
        "from sklearn.model_selection import ShuffleSplit\n",
        "from sklearn.model_selection import RandomizedSearchCV\n",
        "from tqdm import tqdm"
      ],
      "execution_count": 1,
      "outputs": []
    },
    {
      "cell_type": "code",
      "metadata": {
        "colab": {
          "base_uri": "https://localhost:8080/"
        },
        "id": "tTDeJkWpJ8Vt",
        "outputId": "368c4c14-6321-4225-bbf9-e7518c6c4fd7"
      },
      "source": [
        "from google.colab import drive\n",
        "drive.mount('/content/gdrive')"
      ],
      "execution_count": 2,
      "outputs": [
        {
          "output_type": "stream",
          "text": [
            "Drive already mounted at /content/gdrive; to attempt to forcibly remount, call drive.mount(\"/content/gdrive\", force_remount=True).\n"
          ],
          "name": "stdout"
        }
      ]
    },
    {
      "cell_type": "markdown",
      "metadata": {
        "id": "AMeDTx2HefNA"
      },
      "source": [
        "# General idea\n",
        "\n",
        "The idea of this notebook is to propose a methodology for hyperparameter tuning than we can use for all the models, here I apply it to a neural net, but using it for other models should change at most a couple of lines.\n",
        "\n",
        "I noticed Maciej was using grid-search with 4-fold cross-validation. The issues I see are:\n",
        "\n",
        "1. Using exhaustive search will be way to slow. For instance, for this neural net with the considered hyperparams to tune and its possible values we could have (as per my unreliable calculations) over 1000 configurations. Every configuration takes about 3 min to fit in Colab (with a subset of the dataset as I'll explain later), and that by 4 of the 4-fold would result in over a week of compute time.\n",
        "\n",
        "2. K-fold cross validation is meant for smaller datasets than ours, where squishing every bit of data is important. Might be rushed to say this since we don't know the real complexity of the problem, but I'd dare to say that we do have data spare, so, K-fold might not be the best choice, at least for hyperparameter tuning. \n",
        "\n",
        "So, here I propose that we apply the alternative described here: https://stats.stackexchange.com/questions/34939/k-fold-cross-validation-strategy-for-large-data-set-in-statistical-learning#:~:text=k%2Dfold%20cross%2Dvalidation%20is,sample%20data%20is%20sufficiently%20limited.&text=If%20that%20is%20the%20case,on%20B%2C%20then%20vice%20versa, specifically where it says: _\"Another option would be to randomly draw samples of ~ 10% of the data for training, then another 10% for testing and repeat that process multiple times and assess variability of your results.\"_\n",
        "\n",
        "What I'm doing is choosing 10 random train/test splits from the whole dataset with sizes of 1%/0.1% of the whole data set, so in total we are evaluating on about 10% of the data (almost 900k) with low probability of overlap. On this 10 train/test subsets I apply a randomized search using https://scikit-learn.org/stable/modules/generated/sklearn.model_selection.RandomizedSearchCV.html, where 50 configurations are sampled. It shouldn't take much more than 24 hours to compute.\n",
        "\n",
        "My proposal would be using this to define one model that is worth to fine-tune by hand using the whole dataset (checking bias/variance tradeoffs and etc.), and finally use that model to derive results (use the real test set to obtain numerical results, and assess feature importance by permutation, and whatever we can think of in the little more than a week we have left)."
      ]
    },
    {
      "cell_type": "markdown",
      "metadata": {
        "id": "ViWMqsc5kh4j"
      },
      "source": [
        "## Setting up the data:"
      ]
    },
    {
      "cell_type": "code",
      "metadata": {
        "id": "NsWjWp3z-mDJ"
      },
      "source": [
        "with open('/content/gdrive/My Drive/Notebooks Colab/cleanDF.pickle', 'rb') as handle:\n",
        "    df = pickle.load(handle)\n",
        "\n",
        "X = df.copy().drop('HasDetections', 1)\n",
        "y = df.copy()['HasDetections']\n",
        "del df\n",
        "\n",
        "categoricalColumns = list(X.select_dtypes(include='category').columns)\n",
        "numericalColumns = list(X.select_dtypes(exclude='category').columns)\n",
        "\n",
        "classes = y.unique()\n",
        "uniques = {}\n",
        "for column in categoricalColumns:\n",
        "    uniques[column] = X[column].unique()\n",
        "uniquesDF = pd.DataFrame(dict([ (k,pd.Series(v)) for k,v in uniques.items() ]))\n",
        "categoricalEncoder = OneHotEncoder(handle_unknown='ignore', dtype='uint8', sparse=True)\n",
        "categoricalEncoder.fit(uniquesDF.astype(str))\n",
        "del uniquesDF\n",
        "# Numerical columns with mean 0.0 and variance of 1.0\n",
        "for column in numericalColumns:\n",
        "    X[column] = ((X[column] - np.mean(X[column])) / np.std(X[column])).astype('float64')"
      ],
      "execution_count": 4,
      "outputs": []
    },
    {
      "cell_type": "markdown",
      "metadata": {
        "id": "TJxY9gs5kwTN"
      },
      "source": [
        "## Specific to neural nets (a lot of ugly hacking to manage using mini-batches with the RandomizedSearchCV):"
      ]
    },
    {
      "cell_type": "code",
      "metadata": {
        "id": "YVbndXqMLftO"
      },
      "source": [
        "def iterateMiniBatches(inputs, targets, batchSize, shuffle=False):\n",
        "    assert inputs.shape[0] == targets.shape[0]\n",
        "    if shuffle:\n",
        "        indices = np.arange(inputs.shape[0])\n",
        "        np.random.shuffle(indices)\n",
        "    for start_idx in range(0, inputs.shape[0] - batchSize + 1, batchSize):\n",
        "        if shuffle:\n",
        "            excerpt = indices[start_idx:start_idx + batchSize]\n",
        "        else:\n",
        "            excerpt = slice(start_idx, start_idx + batchSize)\n",
        "        yield inputs.iloc[excerpt], targets.iloc[excerpt]"
      ],
      "execution_count": null,
      "outputs": []
    },
    {
      "cell_type": "code",
      "metadata": {
        "id": "q3jvr1peD62J"
      },
      "source": [
        "from sklearn.base import BaseEstimator, ClassifierMixin\n",
        "\n",
        "class CustomMLPClassifier(BaseEstimator, ClassifierMixin):\n",
        "    def __init__(self, batchSize=128, tolerance=1e-3, maxEpochs=10, hiddenLayerSizes=1024, learningRate=1e-4, l2RegCoefficient=1e-4):\n",
        "        self.batchSize = batchSize\n",
        "        self.maxEpochs = maxEpochs\n",
        "        self.hiddenLayerSizes = hiddenLayerSizes\n",
        "        self.learningRate = learningRate\n",
        "        self.l2RegCoefficient = l2RegCoefficient\n",
        "        self.tolerance = tolerance\n",
        "        self.model = MLPClassifier(hidden_layer_sizes=self.hiddenLayerSizes, activation='relu', solver='adam', learning_rate_init=self.learningRate,\n",
        "                                   alpha=self.l2RegCoefficient, batch_size=self.batchSize, max_iter=1)\n",
        "\n",
        "    def fit(self, X, y=None):\n",
        "        xTrain, xTest, yTrain, yTest = train_test_split(X, y, test_size=0.1, stratify=y, random_state=11)\n",
        "        xTestNumerical = xTest[numericalColumns].values\n",
        "        xTestCategorical = xTest[categoricalColumns]\n",
        "        xTestCategorical = categoricalEncoder.transform(xTestCategorical)\n",
        "        xTest = np.concatenate([xTestNumerical, scipy.sparse.csr_matrix.toarray(xTestCategorical)], axis=1)\n",
        "        del xTestNumerical\n",
        "        del xTestCategorical\n",
        "        numBatches = xTrain.shape[0] // self.batchSize\n",
        "        \n",
        "        classes = yTrain.unique()\n",
        "        prevTestScore = 0\n",
        "        for n in range(self.maxEpochs):\n",
        "            batchCounter = 0\n",
        "            print(f\"---------------------- EPOCH {n + 1} ----------------------\")\n",
        "            for batch in tqdm(iterateMiniBatches(xTrain, yTrain, self.batchSize, shuffle=True)):\n",
        "                batchCounter += 1\n",
        "                xBatch, yBatch = batch\n",
        "                xBatchNumerical = xBatch[numericalColumns].values\n",
        "                xBatchCategorical = xBatch[categoricalColumns]\n",
        "                xBatchCategorical = categoricalEncoder.transform(xBatchCategorical)\n",
        "                xBatch = np.concatenate([xBatchNumerical, scipy.sparse.csr_matrix.toarray(xBatchCategorical)], axis=1)\n",
        "                self.model.partial_fit(xBatch, yBatch, classes=classes)\n",
        "            testScore = self.model.score(xTest, yTest)\n",
        "            print(f\"Test score: {testScore}\")\n",
        "            if (testScore - prevTestScore) < self.tolerance:\n",
        "                print('Applied early stopping')\n",
        "                break\n",
        "            else:\n",
        "                prevTestScore = testScore\n",
        "        return self\n",
        "\n",
        "    def predict(self, X, y=None):\n",
        "        xNumerical = X[numericalColumns].values\n",
        "        xCategorical = X[categoricalColumns]\n",
        "        xCategorical = categoricalEncoder.transform(xCategorical)\n",
        "        return self.model.predict(np.concatenate([xNumerical, scipy.sparse.csr_matrix.toarray(xCategorical)], axis=1), y)\n",
        "\n",
        "    def score(self, X, y=None):\n",
        "        xNumerical = X[numericalColumns].values\n",
        "        xCategorical = X[categoricalColumns]\n",
        "        xCategorical = categoricalEncoder.transform(xCategorical)\n",
        "        return self.model.score(np.concatenate([xNumerical, scipy.sparse.csr_matrix.toarray(xCategorical)], axis=1), y)"
      ],
      "execution_count": 5,
      "outputs": []
    },
    {
      "cell_type": "markdown",
      "metadata": {
        "id": "lsSf01Igk9o4"
      },
      "source": [
        "## Here we would define the dictionaries for the other models:"
      ]
    },
    {
      "cell_type": "code",
      "metadata": {
        "id": "R8E0u32K9k4W"
      },
      "source": [
        "# Neural net size layers\n",
        "maxNumLayers = 4\n",
        "neuralNetArch = [(layerSize,) * numLayers for numLayers in range(1, maxNumLayers + 1) for layerSize in [64, 128, 256, 512, 1024]]\n",
        "# Learning rate\n",
        "learningRates = np.logspace(start=-5, stop=-1, num=10, base=10)\n",
        "# L2 Regularization coefficient\n",
        "alphas = [0.0, 0.000001, 0.00001, 0.0001, 0.001, 0.01, 0.1, 1.0]\n",
        "\n",
        "neuralNetGrid = {\n",
        "    'hiddenLayerSizes': neuralNetArch,\n",
        "    'learningRate': learningRates,\n",
        "    'l2RegCoefficient': alphas\n",
        "}"
      ],
      "execution_count": 6,
      "outputs": []
    },
    {
      "cell_type": "markdown",
      "metadata": {
        "id": "ApB2txbtlT7I"
      },
      "source": [
        "## And here is the randomized search per se:"
      ]
    },
    {
      "cell_type": "code",
      "metadata": {
        "colab": {
          "base_uri": "https://localhost:8080/"
        },
        "id": "Lc_Ehyc1BXj0",
        "outputId": "99c650b5-4a3e-44c0-8e06-676dca8e2150"
      },
      "source": [
        "# Create the model to be tuned\n",
        "neuralNetBase = CustomMLPClassifier()\n",
        "# Create the random search Neural Net\n",
        "neuralNetRandom = RandomizedSearchCV(estimator = neuralNetBase, param_distributions = neuralNetGrid, \n",
        "                               n_iter = 50, cv = ShuffleSplit(n_splits=10, test_size=0.001, train_size=0.01), verbose = 2, random_state = 11, \n",
        "                               n_jobs = 1)\n",
        "# Fit the random search model\n",
        "neuralNetRandom.fit(X, y)\n",
        "# View the best parameters from the random search\n",
        "neuralNetRandom.best_params_"
      ],
      "execution_count": null,
      "outputs": [
        {
          "output_type": "stream",
          "text": [
            "Fitting 10 folds for each of 50 candidates, totalling 500 fits\n"
          ],
          "name": "stdout"
        },
        {
          "output_type": "stream",
          "text": [
            "[Parallel(n_jobs=1)]: Using backend SequentialBackend with 1 concurrent workers.\n"
          ],
          "name": "stderr"
        },
        {
          "output_type": "stream",
          "text": [
            "[CV] learningRate=0.03593813663804626, l2RegCoefficient=1e-06, hiddenLayerSizes=(1024, 1024, 1024) \n"
          ],
          "name": "stdout"
        },
        {
          "output_type": "stream",
          "text": [
            "1it [00:00,  5.98it/s]"
          ],
          "name": "stderr"
        },
        {
          "output_type": "stream",
          "text": [
            "---------------------- EPOCH 1 ----------------------\n"
          ],
          "name": "stdout"
        },
        {
          "output_type": "stream",
          "text": [
            "627it [01:07,  9.24it/s]\n",
            "1it [00:00,  9.79it/s]"
          ],
          "name": "stderr"
        },
        {
          "output_type": "stream",
          "text": [
            "Test score: 0.6160053799596503\n",
            "---------------------- EPOCH 2 ----------------------\n"
          ],
          "name": "stdout"
        },
        {
          "output_type": "stream",
          "text": [
            "627it [01:05,  9.50it/s]\n",
            "1it [00:00,  9.88it/s]"
          ],
          "name": "stderr"
        },
        {
          "output_type": "stream",
          "text": [
            "Test score: 0.6221699170589554\n",
            "---------------------- EPOCH 3 ----------------------\n"
          ],
          "name": "stdout"
        },
        {
          "output_type": "stream",
          "text": [
            "627it [01:06,  9.50it/s]\n",
            "1it [00:00,  8.89it/s]"
          ],
          "name": "stderr"
        },
        {
          "output_type": "stream",
          "text": [
            "Test score: 0.6244115669132482\n",
            "---------------------- EPOCH 4 ----------------------\n"
          ],
          "name": "stdout"
        },
        {
          "output_type": "stream",
          "text": [
            "627it [01:05,  9.64it/s]\n"
          ],
          "name": "stderr"
        },
        {
          "output_type": "stream",
          "text": [
            "Test score: 0.6217215870880969\n",
            "Applied early stopping\n",
            "[CV]  learningRate=0.03593813663804626, l2RegCoefficient=1e-06, hiddenLayerSizes=(1024, 1024, 1024), total= 4.6min\n",
            "[CV] learningRate=0.03593813663804626, l2RegCoefficient=1e-06, hiddenLayerSizes=(1024, 1024, 1024) \n"
          ],
          "name": "stdout"
        },
        {
          "output_type": "stream",
          "text": [
            "[Parallel(n_jobs=1)]: Done   1 out of   1 | elapsed:  4.6min remaining:    0.0s\n",
            "1it [00:00,  8.73it/s]"
          ],
          "name": "stderr"
        },
        {
          "output_type": "stream",
          "text": [
            "---------------------- EPOCH 1 ----------------------\n"
          ],
          "name": "stdout"
        },
        {
          "output_type": "stream",
          "text": [
            "627it [01:08,  9.13it/s]\n",
            "1it [00:00,  9.99it/s]"
          ],
          "name": "stderr"
        },
        {
          "output_type": "stream",
          "text": [
            "Test score: 0.6237390719569603\n",
            "---------------------- EPOCH 2 ----------------------\n"
          ],
          "name": "stdout"
        },
        {
          "output_type": "stream",
          "text": [
            "627it [01:04,  9.74it/s]\n"
          ],
          "name": "stderr"
        },
        {
          "output_type": "stream",
          "text": [
            "Test score: 0.6217215870880969\n",
            "Applied early stopping\n",
            "[CV]  learningRate=0.03593813663804626, l2RegCoefficient=1e-06, hiddenLayerSizes=(1024, 1024, 1024), total= 2.3min\n",
            "[CV] learningRate=0.03593813663804626, l2RegCoefficient=1e-06, hiddenLayerSizes=(1024, 1024, 1024) \n"
          ],
          "name": "stdout"
        },
        {
          "output_type": "stream",
          "text": [
            "1it [00:00,  8.27it/s]"
          ],
          "name": "stderr"
        },
        {
          "output_type": "stream",
          "text": [
            "---------------------- EPOCH 1 ----------------------\n"
          ],
          "name": "stdout"
        },
        {
          "output_type": "stream",
          "text": [
            "627it [01:05,  9.60it/s]\n",
            "1it [00:00,  9.93it/s]"
          ],
          "name": "stderr"
        },
        {
          "output_type": "stream",
          "text": [
            "Test score: 0.610849585294777\n",
            "---------------------- EPOCH 2 ----------------------\n"
          ],
          "name": "stdout"
        },
        {
          "output_type": "stream",
          "text": [
            "627it [01:04,  9.70it/s]\n",
            "1it [00:00,  9.92it/s]"
          ],
          "name": "stderr"
        },
        {
          "output_type": "stream",
          "text": [
            "Test score: 0.612979152656355\n",
            "---------------------- EPOCH 3 ----------------------\n"
          ],
          "name": "stdout"
        },
        {
          "output_type": "stream",
          "text": [
            "627it [01:04,  9.77it/s]\n",
            "1it [00:00,  9.97it/s]"
          ],
          "name": "stderr"
        },
        {
          "output_type": "stream",
          "text": [
            "Test score: 0.623851154449675\n",
            "---------------------- EPOCH 4 ----------------------\n"
          ],
          "name": "stdout"
        },
        {
          "output_type": "stream",
          "text": [
            "627it [01:04,  9.69it/s]\n"
          ],
          "name": "stderr"
        },
        {
          "output_type": "stream",
          "text": [
            "Test score: 0.6176866173503699\n",
            "Applied early stopping\n",
            "[CV]  learningRate=0.03593813663804626, l2RegCoefficient=1e-06, hiddenLayerSizes=(1024, 1024, 1024), total= 4.4min\n",
            "[CV] learningRate=0.03593813663804626, l2RegCoefficient=1e-06, hiddenLayerSizes=(1024, 1024, 1024) \n"
          ],
          "name": "stdout"
        },
        {
          "output_type": "stream",
          "text": [
            "1it [00:00,  8.74it/s]"
          ],
          "name": "stderr"
        },
        {
          "output_type": "stream",
          "text": [
            "---------------------- EPOCH 1 ----------------------\n"
          ],
          "name": "stdout"
        },
        {
          "output_type": "stream",
          "text": [
            "627it [01:05,  9.56it/s]\n",
            "0it [00:00, ?it/s]"
          ],
          "name": "stderr"
        },
        {
          "output_type": "stream",
          "text": [
            "Test score: 0.6192557722483748\n",
            "---------------------- EPOCH 2 ----------------------\n"
          ],
          "name": "stdout"
        },
        {
          "output_type": "stream",
          "text": [
            "627it [01:04,  9.75it/s]\n",
            "2it [00:00, 10.23it/s]"
          ],
          "name": "stderr"
        },
        {
          "output_type": "stream",
          "text": [
            "Test score: 0.6237390719569603\n",
            "---------------------- EPOCH 3 ----------------------\n"
          ],
          "name": "stdout"
        },
        {
          "output_type": "stream",
          "text": [
            "627it [01:04,  9.70it/s]\n"
          ],
          "name": "stderr"
        },
        {
          "output_type": "stream",
          "text": [
            "Test score: 0.6228424120152433\n",
            "Applied early stopping\n",
            "[CV]  learningRate=0.03593813663804626, l2RegCoefficient=1e-06, hiddenLayerSizes=(1024, 1024, 1024), total= 3.3min\n",
            "[CV] learningRate=0.03593813663804626, l2RegCoefficient=1e-06, hiddenLayerSizes=(1024, 1024, 1024) \n"
          ],
          "name": "stdout"
        },
        {
          "output_type": "stream",
          "text": [
            "1it [00:00,  8.61it/s]"
          ],
          "name": "stderr"
        },
        {
          "output_type": "stream",
          "text": [
            "---------------------- EPOCH 1 ----------------------\n"
          ],
          "name": "stdout"
        },
        {
          "output_type": "stream",
          "text": [
            "627it [01:04,  9.78it/s]\n",
            "1it [00:00,  9.73it/s]"
          ],
          "name": "stderr"
        },
        {
          "output_type": "stream",
          "text": [
            "Test score: 0.6228424120152433\n",
            "---------------------- EPOCH 2 ----------------------\n"
          ],
          "name": "stdout"
        },
        {
          "output_type": "stream",
          "text": [
            "627it [01:06,  9.46it/s]\n"
          ],
          "name": "stderr"
        },
        {
          "output_type": "stream",
          "text": [
            "Test score: 0.6216095045953822\n",
            "Applied early stopping\n",
            "[CV]  learningRate=0.03593813663804626, l2RegCoefficient=1e-06, hiddenLayerSizes=(1024, 1024, 1024), total= 2.2min\n",
            "[CV] learningRate=0.03593813663804626, l2RegCoefficient=1e-06, hiddenLayerSizes=(1024, 1024, 1024) \n"
          ],
          "name": "stdout"
        },
        {
          "output_type": "stream",
          "text": [
            "1it [00:00,  8.75it/s]"
          ],
          "name": "stderr"
        },
        {
          "output_type": "stream",
          "text": [
            "---------------------- EPOCH 1 ----------------------\n"
          ],
          "name": "stdout"
        },
        {
          "output_type": "stream",
          "text": [
            "627it [01:07,  9.35it/s]\n",
            "0it [00:00, ?it/s]"
          ],
          "name": "stderr"
        },
        {
          "output_type": "stream",
          "text": [
            "Test score: 0.6132033176417844\n",
            "---------------------- EPOCH 2 ----------------------\n"
          ],
          "name": "stdout"
        },
        {
          "output_type": "stream",
          "text": [
            "627it [01:05,  9.52it/s]\n",
            "1it [00:00,  8.46it/s]"
          ],
          "name": "stderr"
        },
        {
          "output_type": "stream",
          "text": [
            "Test score: 0.6144362250616454\n",
            "---------------------- EPOCH 3 ----------------------\n"
          ],
          "name": "stdout"
        },
        {
          "output_type": "stream",
          "text": [
            "627it [01:06,  9.47it/s]\n",
            "1it [00:00,  9.67it/s]"
          ],
          "name": "stderr"
        },
        {
          "output_type": "stream",
          "text": [
            "Test score: 0.6208249271463797\n",
            "---------------------- EPOCH 4 ----------------------\n"
          ],
          "name": "stdout"
        },
        {
          "output_type": "stream",
          "text": [
            "627it [01:07,  9.34it/s]\n"
          ],
          "name": "stderr"
        },
        {
          "output_type": "stream",
          "text": [
            "Test score: 0.6212732571172382\n",
            "Applied early stopping\n",
            "[CV]  learningRate=0.03593813663804626, l2RegCoefficient=1e-06, hiddenLayerSizes=(1024, 1024, 1024), total= 4.5min\n",
            "[CV] learningRate=0.03593813663804626, l2RegCoefficient=1e-06, hiddenLayerSizes=(1024, 1024, 1024) \n"
          ],
          "name": "stdout"
        },
        {
          "output_type": "stream",
          "text": [
            "1it [00:00,  8.75it/s]"
          ],
          "name": "stderr"
        },
        {
          "output_type": "stream",
          "text": [
            "---------------------- EPOCH 1 ----------------------\n"
          ],
          "name": "stdout"
        },
        {
          "output_type": "stream",
          "text": [
            "627it [01:07,  9.33it/s]\n",
            "1it [00:00,  9.56it/s]"
          ],
          "name": "stderr"
        },
        {
          "output_type": "stream",
          "text": [
            "Test score: 0.6158932974669357\n",
            "---------------------- EPOCH 2 ----------------------\n"
          ],
          "name": "stdout"
        },
        {
          "output_type": "stream",
          "text": [
            "627it [01:05,  9.56it/s]\n"
          ],
          "name": "stderr"
        },
        {
          "output_type": "stream",
          "text": [
            "Test score: 0.6165657924232235\n",
            "Applied early stopping\n",
            "[CV]  learningRate=0.03593813663804626, l2RegCoefficient=1e-06, hiddenLayerSizes=(1024, 1024, 1024), total= 2.3min\n",
            "[CV] learningRate=0.03593813663804626, l2RegCoefficient=1e-06, hiddenLayerSizes=(1024, 1024, 1024) \n"
          ],
          "name": "stdout"
        },
        {
          "output_type": "stream",
          "text": [
            "1it [00:00,  8.32it/s]"
          ],
          "name": "stderr"
        },
        {
          "output_type": "stream",
          "text": [
            "---------------------- EPOCH 1 ----------------------\n"
          ],
          "name": "stdout"
        },
        {
          "output_type": "stream",
          "text": [
            "627it [01:03,  9.87it/s]\n",
            "1it [00:00,  9.46it/s]"
          ],
          "name": "stderr"
        },
        {
          "output_type": "stream",
          "text": [
            "Test score: 0.6155570499887918\n",
            "---------------------- EPOCH 2 ----------------------\n"
          ],
          "name": "stdout"
        },
        {
          "output_type": "stream",
          "text": [
            "627it [01:04,  9.75it/s]\n"
          ],
          "name": "stderr"
        },
        {
          "output_type": "stream",
          "text": [
            "Test score: 0.6130912351490697\n",
            "Applied early stopping\n",
            "[CV]  learningRate=0.03593813663804626, l2RegCoefficient=1e-06, hiddenLayerSizes=(1024, 1024, 1024), total= 2.2min\n",
            "[CV] learningRate=0.03593813663804626, l2RegCoefficient=1e-06, hiddenLayerSizes=(1024, 1024, 1024) \n"
          ],
          "name": "stdout"
        },
        {
          "output_type": "stream",
          "text": [
            "1it [00:00,  9.09it/s]"
          ],
          "name": "stderr"
        },
        {
          "output_type": "stream",
          "text": [
            "---------------------- EPOCH 1 ----------------------\n"
          ],
          "name": "stdout"
        },
        {
          "output_type": "stream",
          "text": [
            "627it [01:05,  9.55it/s]\n",
            "1it [00:00,  9.15it/s]"
          ],
          "name": "stderr"
        },
        {
          "output_type": "stream",
          "text": [
            "Test score: 0.6136516476126429\n",
            "---------------------- EPOCH 2 ----------------------\n"
          ],
          "name": "stdout"
        },
        {
          "output_type": "stream",
          "text": [
            "627it [01:06,  9.48it/s]\n",
            "1it [00:00,  9.23it/s]"
          ],
          "name": "stderr"
        },
        {
          "output_type": "stream",
          "text": [
            "Test score: 0.6188074422775163\n",
            "---------------------- EPOCH 3 ----------------------\n"
          ],
          "name": "stdout"
        },
        {
          "output_type": "stream",
          "text": [
            "627it [01:05,  9.60it/s]\n"
          ],
          "name": "stderr"
        },
        {
          "output_type": "stream",
          "text": [
            "Test score: 0.615781214974221\n",
            "Applied early stopping\n",
            "[CV]  learningRate=0.03593813663804626, l2RegCoefficient=1e-06, hiddenLayerSizes=(1024, 1024, 1024), total= 3.3min\n",
            "[CV] learningRate=0.03593813663804626, l2RegCoefficient=1e-06, hiddenLayerSizes=(1024, 1024, 1024) \n"
          ],
          "name": "stdout"
        },
        {
          "output_type": "stream",
          "text": [
            "1it [00:00,  9.08it/s]"
          ],
          "name": "stderr"
        },
        {
          "output_type": "stream",
          "text": [
            "---------------------- EPOCH 1 ----------------------\n"
          ],
          "name": "stdout"
        },
        {
          "output_type": "stream",
          "text": [
            "627it [01:05,  9.61it/s]\n",
            "1it [00:00,  9.91it/s]"
          ],
          "name": "stderr"
        },
        {
          "output_type": "stream",
          "text": [
            "Test score: 0.6165657924232235\n",
            "---------------------- EPOCH 2 ----------------------\n"
          ],
          "name": "stdout"
        },
        {
          "output_type": "stream",
          "text": [
            "627it [01:05,  9.57it/s]\n",
            "1it [00:00,  8.86it/s]"
          ],
          "name": "stderr"
        },
        {
          "output_type": "stream",
          "text": [
            "Test score: 0.6306881865052679\n",
            "---------------------- EPOCH 3 ----------------------\n"
          ],
          "name": "stdout"
        },
        {
          "output_type": "stream",
          "text": [
            "627it [01:07,  9.35it/s]\n"
          ],
          "name": "stderr"
        },
        {
          "output_type": "stream",
          "text": [
            "Test score: 0.626316969289397\n",
            "Applied early stopping\n",
            "[CV]  learningRate=0.03593813663804626, l2RegCoefficient=1e-06, hiddenLayerSizes=(1024, 1024, 1024), total= 3.4min\n",
            "[CV] learningRate=0.012915496650148827, l2RegCoefficient=0.0001, hiddenLayerSizes=(512, 512) \n"
          ],
          "name": "stdout"
        },
        {
          "output_type": "stream",
          "text": [
            "1it [00:00,  8.51it/s]"
          ],
          "name": "stderr"
        },
        {
          "output_type": "stream",
          "text": [
            "---------------------- EPOCH 1 ----------------------\n"
          ],
          "name": "stdout"
        },
        {
          "output_type": "stream",
          "text": [
            "627it [01:06,  9.37it/s]\n",
            "1it [00:00,  9.78it/s]"
          ],
          "name": "stderr"
        },
        {
          "output_type": "stream",
          "text": [
            "Test score: 0.6228424120152433\n",
            "---------------------- EPOCH 2 ----------------------\n"
          ],
          "name": "stdout"
        },
        {
          "output_type": "stream",
          "text": [
            "627it [01:05,  9.51it/s]\n"
          ],
          "name": "stderr"
        },
        {
          "output_type": "stream",
          "text": [
            "Test score: 0.6152208025106478\n",
            "Applied early stopping\n",
            "[CV]  learningRate=0.012915496650148827, l2RegCoefficient=0.0001, hiddenLayerSizes=(512, 512), total= 2.3min\n",
            "[CV] learningRate=0.012915496650148827, l2RegCoefficient=0.0001, hiddenLayerSizes=(512, 512) \n"
          ],
          "name": "stdout"
        },
        {
          "output_type": "stream",
          "text": [
            "1it [00:00,  9.29it/s]"
          ],
          "name": "stderr"
        },
        {
          "output_type": "stream",
          "text": [
            "---------------------- EPOCH 1 ----------------------\n"
          ],
          "name": "stdout"
        },
        {
          "output_type": "stream",
          "text": [
            "627it [01:06,  9.38it/s]\n",
            "1it [00:00,  9.16it/s]"
          ],
          "name": "stderr"
        },
        {
          "output_type": "stream",
          "text": [
            "Test score: 0.6176866173503699\n",
            "---------------------- EPOCH 2 ----------------------\n"
          ],
          "name": "stdout"
        },
        {
          "output_type": "stream",
          "text": [
            "627it [01:06,  9.42it/s]\n",
            "1it [00:00,  9.86it/s]"
          ],
          "name": "stderr"
        },
        {
          "output_type": "stream",
          "text": [
            "Test score: 0.6240753194351042\n",
            "---------------------- EPOCH 3 ----------------------\n"
          ],
          "name": "stdout"
        },
        {
          "output_type": "stream",
          "text": [
            "627it [01:06,  9.38it/s]\n"
          ],
          "name": "stderr"
        },
        {
          "output_type": "stream",
          "text": [
            "Test score: 0.6228424120152433\n",
            "Applied early stopping\n",
            "[CV]  learningRate=0.012915496650148827, l2RegCoefficient=0.0001, hiddenLayerSizes=(512, 512), total= 3.4min\n",
            "[CV] learningRate=0.012915496650148827, l2RegCoefficient=0.0001, hiddenLayerSizes=(512, 512) \n"
          ],
          "name": "stdout"
        },
        {
          "output_type": "stream",
          "text": [
            "1it [00:00,  8.69it/s]"
          ],
          "name": "stderr"
        },
        {
          "output_type": "stream",
          "text": [
            "---------------------- EPOCH 1 ----------------------\n"
          ],
          "name": "stdout"
        },
        {
          "output_type": "stream",
          "text": [
            "627it [01:06,  9.43it/s]\n",
            "0it [00:00, ?it/s]"
          ],
          "name": "stderr"
        },
        {
          "output_type": "stream",
          "text": [
            "Test score: 0.6151087200179332\n",
            "---------------------- EPOCH 2 ----------------------\n"
          ],
          "name": "stdout"
        },
        {
          "output_type": "stream",
          "text": [
            "627it [01:05,  9.60it/s]\n",
            "1it [00:00,  9.16it/s]"
          ],
          "name": "stderr"
        },
        {
          "output_type": "stream",
          "text": [
            "Test score: 0.6177986998430846\n",
            "---------------------- EPOCH 3 ----------------------\n"
          ],
          "name": "stdout"
        },
        {
          "output_type": "stream",
          "text": [
            "627it [01:06,  9.44it/s]\n"
          ],
          "name": "stderr"
        },
        {
          "output_type": "stream",
          "text": [
            "Test score: 0.6160053799596503\n",
            "Applied early stopping\n",
            "[CV]  learningRate=0.012915496650148827, l2RegCoefficient=0.0001, hiddenLayerSizes=(512, 512), total= 3.4min\n",
            "[CV] learningRate=0.012915496650148827, l2RegCoefficient=0.0001, hiddenLayerSizes=(512, 512) \n"
          ],
          "name": "stdout"
        },
        {
          "output_type": "stream",
          "text": [
            "1it [00:00,  8.86it/s]"
          ],
          "name": "stderr"
        },
        {
          "output_type": "stream",
          "text": [
            "---------------------- EPOCH 1 ----------------------\n"
          ],
          "name": "stdout"
        },
        {
          "output_type": "stream",
          "text": [
            "627it [01:06,  9.48it/s]\n",
            "1it [00:00,  9.99it/s]"
          ],
          "name": "stderr"
        },
        {
          "output_type": "stream",
          "text": [
            "Test score: 0.6171262048867967\n",
            "---------------------- EPOCH 2 ----------------------\n"
          ],
          "name": "stdout"
        },
        {
          "output_type": "stream",
          "text": [
            "627it [01:04,  9.67it/s]\n",
            "1it [00:00,  8.64it/s]"
          ],
          "name": "stderr"
        },
        {
          "output_type": "stream",
          "text": [
            "Test score: 0.6200403496973773\n",
            "---------------------- EPOCH 3 ----------------------\n"
          ],
          "name": "stdout"
        },
        {
          "output_type": "stream",
          "text": [
            "627it [01:06,  9.48it/s]\n",
            "1it [00:00,  9.27it/s]"
          ],
          "name": "stderr"
        },
        {
          "output_type": "stream",
          "text": [
            "Test score: 0.6223940820443846\n",
            "---------------------- EPOCH 4 ----------------------\n"
          ],
          "name": "stdout"
        },
        {
          "output_type": "stream",
          "text": [
            "627it [01:05,  9.62it/s]\n"
          ],
          "name": "stderr"
        },
        {
          "output_type": "stream",
          "text": [
            "Test score: 0.6195920197265187\n",
            "Applied early stopping\n",
            "[CV]  learningRate=0.012915496650148827, l2RegCoefficient=0.0001, hiddenLayerSizes=(512, 512), total= 4.4min\n",
            "[CV] learningRate=0.012915496650148827, l2RegCoefficient=0.0001, hiddenLayerSizes=(512, 512) \n"
          ],
          "name": "stdout"
        },
        {
          "output_type": "stream",
          "text": [
            "1it [00:00,  8.69it/s]"
          ],
          "name": "stderr"
        },
        {
          "output_type": "stream",
          "text": [
            "---------------------- EPOCH 1 ----------------------\n"
          ],
          "name": "stdout"
        },
        {
          "output_type": "stream",
          "text": [
            "627it [01:05,  9.55it/s]\n",
            "1it [00:00,  9.75it/s]"
          ],
          "name": "stderr"
        },
        {
          "output_type": "stream",
          "text": [
            "Test score: 0.619816184711948\n",
            "---------------------- EPOCH 2 ----------------------\n"
          ],
          "name": "stdout"
        },
        {
          "output_type": "stream",
          "text": [
            "627it [01:05,  9.53it/s]\n",
            "1it [00:00,  9.69it/s]"
          ],
          "name": "stderr"
        },
        {
          "output_type": "stream",
          "text": [
            "Test score: 0.623514906971531\n",
            "---------------------- EPOCH 3 ----------------------\n"
          ],
          "name": "stdout"
        },
        {
          "output_type": "stream",
          "text": [
            "627it [01:05,  9.61it/s]\n"
          ],
          "name": "stderr"
        },
        {
          "output_type": "stream",
          "text": [
            "Test score: 0.6227303295225286\n",
            "Applied early stopping\n",
            "[CV]  learningRate=0.012915496650148827, l2RegCoefficient=0.0001, hiddenLayerSizes=(512, 512), total= 3.3min\n",
            "[CV] learningRate=0.012915496650148827, l2RegCoefficient=0.0001, hiddenLayerSizes=(512, 512) \n"
          ],
          "name": "stdout"
        },
        {
          "output_type": "stream",
          "text": [
            "1it [00:00,  8.53it/s]"
          ],
          "name": "stderr"
        },
        {
          "output_type": "stream",
          "text": [
            "---------------------- EPOCH 1 ----------------------\n"
          ],
          "name": "stdout"
        },
        {
          "output_type": "stream",
          "text": [
            "627it [01:06,  9.44it/s]\n",
            "1it [00:00,  9.35it/s]"
          ],
          "name": "stderr"
        },
        {
          "output_type": "stream",
          "text": [
            "Test score: 0.6197041022192333\n",
            "---------------------- EPOCH 2 ----------------------\n"
          ],
          "name": "stdout"
        },
        {
          "output_type": "stream",
          "text": [
            "627it [01:08,  9.11it/s]\n"
          ],
          "name": "stderr"
        },
        {
          "output_type": "stream",
          "text": [
            "Test score: 0.6155570499887918\n",
            "Applied early stopping\n",
            "[CV]  learningRate=0.012915496650148827, l2RegCoefficient=0.0001, hiddenLayerSizes=(512, 512), total= 2.3min\n",
            "[CV] learningRate=0.012915496650148827, l2RegCoefficient=0.0001, hiddenLayerSizes=(512, 512) \n"
          ],
          "name": "stdout"
        },
        {
          "output_type": "stream",
          "text": [
            "1it [00:00,  8.52it/s]"
          ],
          "name": "stderr"
        },
        {
          "output_type": "stream",
          "text": [
            "---------------------- EPOCH 1 ----------------------\n"
          ],
          "name": "stdout"
        },
        {
          "output_type": "stream",
          "text": [
            "216it [00:22,  9.41it/s]"
          ],
          "name": "stderr"
        }
      ]
    }
  ]
}