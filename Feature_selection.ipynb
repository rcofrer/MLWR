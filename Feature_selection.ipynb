{
  "nbformat": 4,
  "nbformat_minor": 0,
  "metadata": {
    "@webio": {
      "lastCommId": null,
      "lastKernelId": null
    },
    "kernelspec": {
      "display_name": "Python 3",
      "language": "python",
      "name": "python3"
    },
    "language_info": {
      "codemirror_mode": {
        "name": "ipython",
        "version": 3
      },
      "file_extension": ".py",
      "mimetype": "text/x-python",
      "name": "python",
      "nbconvert_exporter": "python",
      "pygments_lexer": "ipython3",
      "version": "3.7.6"
    },
    "colab": {
      "name": "Feature_selection.ipynb",
      "provenance": [],
      "collapsed_sections": []
    }
  },
  "cells": [
    {
      "cell_type": "markdown",
      "metadata": {
        "id": "Ld7BAn-j-dk3"
      },
      "source": [
        "## Feature selection using CMI"
      ]
    },
    {
      "cell_type": "code",
      "metadata": {
        "colab": {
          "base_uri": "https://localhost:8080/"
        },
        "id": "D35lcte_-ivT",
        "outputId": "00a39288-5b23-46fc-eef9-f4826018fa8e"
      },
      "source": [
        "from google.colab import drive\n",
        "drive.mount('/content/gdrive')"
      ],
      "execution_count": 186,
      "outputs": [
        {
          "output_type": "stream",
          "text": [
            "Drive already mounted at /content/gdrive; to attempt to forcibly remount, call drive.mount(\"/content/gdrive\", force_remount=True).\n"
          ],
          "name": "stdout"
        }
      ]
    },
    {
      "cell_type": "code",
      "metadata": {
        "id": "-zgD4wC7-dk_"
      },
      "source": [
        "import pickle\n",
        "import pandas as pd\n",
        "import operator\n",
        "import numpy as np\n",
        "import scipy"
      ],
      "execution_count": 187,
      "outputs": []
    },
    {
      "cell_type": "code",
      "metadata": {
        "id": "grKQNgsu-dlA"
      },
      "source": [
        "with open(r\"/content/gdrive/MyDrive/Notebooks Colab/featureMIs.pickle\", \"rb\") as input_file:\n",
        "    MI = pickle.load(input_file)\n",
        "    \n",
        "with open(r\"/content/gdrive/MyDrive/Notebooks Colab/entropies.pickle\", \"rb\") as input_file:\n",
        "    entropy = pickle.load(input_file)\n",
        "    \n",
        "with open(r\"/content/gdrive/MyDrive/Notebooks Colab/mutualInfos.pickle\", \"rb\") as input_file:\n",
        "    MI_target = pickle.load(input_file)\n",
        "# del MI_target['HasDetections']"
      ],
      "execution_count": 188,
      "outputs": []
    },
    {
      "cell_type": "code",
      "metadata": {
        "id": "nuUv2aSE-dlB"
      },
      "source": [
        "with open('/content/gdrive/MyDrive/Notebooks Colab/cleanDF.pickle', 'rb') as handle:\n",
        "    malware = pickle.load(handle)"
      ],
      "execution_count": 189,
      "outputs": []
    },
    {
      "cell_type": "code",
      "metadata": {
        "id": "4SAAcSsFQGP9"
      },
      "source": [
        "# Not in dictionaries of mutual info..\r\n",
        "malware.drop('Wdft_RegionIdentifier',axis=1 ,inplace=True)"
      ],
      "execution_count": 190,
      "outputs": []
    },
    {
      "cell_type": "code",
      "metadata": {
        "id": "9uZM0i9ERws6"
      },
      "source": [
        "nums = ['Census_ProcessorCoreCount',\r\n",
        "        'Census_PrimaryDiskTotalCapacity',\r\n",
        "        'Census_SystemVolumeTotalCapacity',\r\n",
        "        'Census_TotalPhysicalRAM',\r\n",
        "        'Census_InternalPrimaryDiagonalDisplaySizeInInches',\r\n",
        "        'Census_InternalPrimaryDisplayResolutionHorizontal',\r\n",
        "        'Census_InternalPrimaryDisplayResolutionVertical',\r\n",
        "        'Census_InternalBatteryNumberOfCharges']\r\n",
        "MI_cols = [col for col in malware.columns if col not in nums and col != 'MachineIdentifier' and col!='HasDetections']\r\n",
        "\r\n",
        "\r\n",
        "categoricalColumns = list(malware.drop('HasDetections',axis=1).select_dtypes(include='category').columns)\r\n",
        "numericalColumns = list(malware.drop('HasDetections',axis=1).select_dtypes(exclude='category').columns)"
      ],
      "execution_count": 191,
      "outputs": []
    },
    {
      "cell_type": "code",
      "metadata": {
        "id": "Z1sp4CUDJQV2"
      },
      "source": [
        "keys = [*MI]"
      ],
      "execution_count": 192,
      "outputs": []
    },
    {
      "cell_type": "code",
      "metadata": {
        "colab": {
          "base_uri": "https://localhost:8080/"
        },
        "id": "VOnLV-SLH9FF",
        "outputId": "aceae531-a73c-4626-9cad-523a98f08eb7"
      },
      "source": [
        "#cleaning dictionaries. \r\n",
        "def delete_pairwise_key(col):\r\n",
        "    try:\r\n",
        "        keys_to_delete = list(map(lambda x: x.find(col+','),keys))\r\n",
        "        keys_to_delete += list(map(lambda x: x.find(',',col),keys))\r\n",
        "        for key in keys_to_delete:\r\n",
        "            del MI[key]\r\n",
        "    except:\r\n",
        "        print(\"no keys to delete!\")\r\n",
        "\r\n",
        "keys = [*MI]\r\n",
        "for col in MI_cols:\r\n",
        "    if col not in categoricalColumns:\r\n",
        "        del entropy[col]\r\n",
        "        del MI_target[col]\r\n",
        "        delete_pairwise_key(col)\r\n",
        "        "
      ],
      "execution_count": 193,
      "outputs": [
        {
          "output_type": "stream",
          "text": [
            "no keys to delete!\n",
            "no keys to delete!\n",
            "no keys to delete!\n",
            "no keys to delete!\n",
            "no keys to delete!\n",
            "no keys to delete!\n",
            "no keys to delete!\n",
            "no keys to delete!\n",
            "no keys to delete!\n",
            "no keys to delete!\n",
            "no keys to delete!\n",
            "no keys to delete!\n",
            "no keys to delete!\n",
            "no keys to delete!\n",
            "no keys to delete!\n",
            "no keys to delete!\n",
            "no keys to delete!\n",
            "no keys to delete!\n",
            "no keys to delete!\n",
            "no keys to delete!\n",
            "no keys to delete!\n",
            "no keys to delete!\n",
            "no keys to delete!\n",
            "no keys to delete!\n",
            "no keys to delete!\n",
            "no keys to delete!\n",
            "no keys to delete!\n",
            "no keys to delete!\n",
            "no keys to delete!\n",
            "no keys to delete!\n",
            "no keys to delete!\n",
            "no keys to delete!\n",
            "no keys to delete!\n",
            "no keys to delete!\n",
            "no keys to delete!\n",
            "no keys to delete!\n",
            "no keys to delete!\n",
            "no keys to delete!\n",
            "no keys to delete!\n",
            "no keys to delete!\n",
            "no keys to delete!\n",
            "no keys to delete!\n"
          ],
          "name": "stdout"
        }
      ]
    },
    {
      "cell_type": "markdown",
      "metadata": {
        "id": "HOdwJUBi-dlC"
      },
      "source": [
        "## Forward selection algorithm (greedy feature selection)\n",
        "Initialize set of selected variables $S={\\emptyset}$ and $X$ the set of all variables being considered for analysis.\n",
        "\n",
        "**Step 1.** *Selection of the first feature*\n",
        "\n",
        "   Find feature $X^* \\in X$ that maximizes $I(C,X_i)$;\n",
        "   \n",
        "   set $X = X\\setminus \\{X^*\\}, S=\\{X^*\\}.$ Where $C$ is the target variable $C$.\n",
        "   \n",
        "**Step 2.** *greedy feature selection*\n",
        "\n",
        "Find feature $X^+ \\in X$ according to:\n",
        "\n",
        "$$X^+ = \\text{argmax}_{X_i\\in X\\setminus S}\\left\\{I(C,X_i) - \\max_{X_s\\in S}{CU_{X_i,X_s}I(C,X_s)}\\right\\}$$\n",
        "\n",
        "Where $CU_{X_i,X_s}= \\cfrac{I(X_i,X_s)}{H(X_s)}$\n",
        "\n",
        "and finally, set $X = X\\setminus \\{X^+\\}, S=S\\cup\\{X^+\\}.$\n",
        "\n",
        "**Step 3.** Go to step 2."
      ]
    },
    {
      "cell_type": "code",
      "metadata": {
        "id": "ilmviAki-dlD"
      },
      "source": [
        "# utiliy functions\n",
        "def get_MI(X_i,X_s):\n",
        "    val = 0\n",
        "    try:\n",
        "        val =  MI[f\"{X_i},{X_s}\"]\n",
        "    except:\n",
        "        val =  MI[f\"{X_s},{X_i}\"]\n",
        "    \n",
        "    return val\n",
        "def CU(X_i,X_s):\n",
        "    '''\n",
        "    X_i,X_s: labels of columns representing the variables, respectively.\n",
        "    \n",
        "    '''\n",
        "    mi = get_MI(X_i,X_s)\n",
        "    H  = entropy[X_s]\n",
        "    \n",
        "    return mi/H"
      ],
      "execution_count": 194,
      "outputs": []
    },
    {
      "cell_type": "code",
      "metadata": {
        "id": "X2meYleG-dlD"
      },
      "source": [
        "Selected_features = []\n",
        "features         = categoricalColumns\n",
        "\n",
        "# step 1\n",
        "Selected_features.append(max(MI_target.items(), key=operator.itemgetter(1))[0])\n",
        "\n",
        "# step 2\n",
        "\n",
        "def get_inner_max(X_i,Selected):\n",
        "    max_val=-1e10\n",
        "    for X_s in Selected:\n",
        "        value = CU(X_i,X_s)*MI_target[X_s]\n",
        "        if value >max_val:\n",
        "            max_val = value\n",
        "            \n",
        "    return max_val\n",
        "\n",
        "def get_next_var(Selected):\n",
        "    best_var = None\n",
        "    max_val  = -1e10\n",
        "    for X_i in features:\n",
        "        if X_i in Selected:\n",
        "            continue\n",
        "        value = MI_target[X_i] - get_inner_max(X_i,Selected)\n",
        "        if value >max_val:\n",
        "            max_val  = value\n",
        "            best_var = X_i\n",
        "    \n",
        "    return best_var"
      ],
      "execution_count": 240,
      "outputs": []
    },
    {
      "cell_type": "code",
      "metadata": {
        "id": "9yW2WR1A-dlE"
      },
      "source": [
        "def select_n_features(n):\n",
        "    if len(features)==n:\n",
        "        return features\n",
        "    Selected_features = []\n",
        "    Selected_features.append(max(MI_target.items(), key=operator.itemgetter(1))[0])\n",
        "    #to define threshold\n",
        "    criteria = True\n",
        "    n_vars_selected =1\n",
        "    while n_vars_selected <n:\n",
        "\n",
        "        next_var = get_next_var(Selected_features)\n",
        "        Selected_features.append(next_var)\n",
        "        n_vars_selected+=1\n",
        "    print(\"Features selected: \", n_vars_selected)\n",
        "    return Selected_features"
      ],
      "execution_count": 268,
      "outputs": []
    },
    {
      "cell_type": "code",
      "metadata": {
        "colab": {
          "base_uri": "https://localhost:8080/"
        },
        "id": "pHcApiVe-dlE",
        "outputId": "7b84dbe5-b8c2-4342-81f1-a68565d0a53f"
      },
      "source": [
        "n =29\n",
        "select_n_features(n)"
      ],
      "execution_count": 271,
      "outputs": [
        {
          "output_type": "stream",
          "text": [
            "Features selected:  29\n"
          ],
          "name": "stdout"
        },
        {
          "output_type": "execute_result",
          "data": {
            "text/plain": [
              "['Census_SystemVolumeTotalCapacity',\n",
              " 'Census_PowerPlatformRoleName',\n",
              " 'Census_ChassisTypeName',\n",
              " 'Census_InternalBatteryType',\n",
              " 'SmartScreen',\n",
              " 'AVProductsInstalled',\n",
              " 'Processor',\n",
              " 'RtpStateBitfield',\n",
              " 'OsBuildLab',\n",
              " 'AVProductsEnabled',\n",
              " 'Census_MDC2FormFactor',\n",
              " 'Census_OSArchitecture',\n",
              " 'PuaMode',\n",
              " 'Census_ProcessorClass',\n",
              " 'UacLuaenable',\n",
              " 'Census_DeviceFamily',\n",
              " 'ProductName',\n",
              " 'Platform',\n",
              " 'Census_FlightRing',\n",
              " 'Census_GenuineStateName',\n",
              " 'Census_ProcessorManufacturerIdentifier',\n",
              " 'Census_OSWUAutoUpdateOptionsName',\n",
              " 'OsPlatformSubRelease',\n",
              " 'Census_OSSkuName',\n",
              " 'Census_OSEdition',\n",
              " 'SkuEdition',\n",
              " 'Census_ActivationChannel',\n",
              " 'Census_OSBranch',\n",
              " 'Census_PrimaryDiskTypeName']"
            ]
          },
          "metadata": {
            "tags": []
          },
          "execution_count": 271
        }
      ]
    },
    {
      "cell_type": "markdown",
      "metadata": {
        "id": "3ksybazi-dlF"
      },
      "source": [
        "# Preparing variables to input them into model\n"
      ]
    },
    {
      "cell_type": "code",
      "metadata": {
        "scrolled": true,
        "id": "fxaksP8m-dlF"
      },
      "source": [
        "# X = malware.copy().drop('HasDetections', 1)\n",
        "# y = malware.copy()['HasDetections']\n",
        "\n",
        "for column in numericalColumns:\n",
        "    if column == 'HasDetections':\n",
        "        continue\n",
        "    malware[column] = ((malware[column] - np.mean(malware[column])) / np.std(malware[column])).astype('float64')\n",
        "# for column in numericalColumns:\n",
        "#     X[column] = ((X[column] - np.mean(X[column])) / np.std(X[column])).astype('float64')\n",
        "\n",
        "# xTrain, xTest, yTrain, yTest = train_test_split(X, y, test_size=0.01, stratify=y, random_state=11)\n",
        "\n",
        "# uniques = {}\n",
        "# for column in categoricalColumns:\n",
        "#     uniques[column] = X[column].unique()\n",
        "\n",
        "# uniquesDF = pd.DataFrame(dict([ (k,pd.Series(v)) for k,v in uniques.items() ]))\n",
        "\n",
        "# categoricalEncoder = OneHotEncoder(handle_unknown='ignore', dtype='uint8', sparse=True)\n",
        "# categoricalEncoder.fit(uniquesDF.astype(str))\n",
        "\n",
        "# xTestNumerical = xTest[numericalColumns].values\n",
        "# xTestCategorical = xTest[categoricalColumns]\n",
        "# xTestCategorical = categoricalEncoder.transform(xTestCategorical)\n",
        "# xTest = np.concatenate([xTestNumerical, scipy.sparse.csr_matrix.toarray(xTestCategorical)], axis=1)\n",
        "# del xTestNumerical\n",
        "# del xTestCategorical\n",
        "# del uniquesDF"
      ],
      "execution_count": 198,
      "outputs": []
    },
    {
      "cell_type": "code",
      "metadata": {
        "id": "IQZcarJo-dlG"
      },
      "source": [
        "# lightgbm for classification\n",
        "import csv\n",
        "from numpy import mean\n",
        "from numpy import std\n",
        "from sklearn.datasets import make_classification\n",
        "from lightgbm import LGBMClassifier\n",
        "from sklearn.model_selection import cross_val_score\n",
        "from sklearn.model_selection import RepeatedStratifiedKFold\n",
        "from sklearn.model_selection import train_test_split\n",
        "from sklearn.preprocessing import OneHotEncoder\n",
        "import re\n",
        "\n",
        "# getting accuracy using the n best(according to CMI algorithm) along with the rest of the variables and accuracy \n",
        "# using complement of seleted features along the rest of the variables.\n",
        "def get_acc(n, sample_size = 10000):\n",
        "    #get best n features\n",
        "    Selected_features = select_n_features(n)\n",
        "    dropped_features  = list(set(categoricalColumns)-set(Selected_features))\n",
        "    #using sample of dataframe\n",
        "    malware_sample = malware.sample(sample_size)\n",
        "    # malware_sample.drop('Census_InternalBatteryType', axis=1, inplace=True)\n",
        "    # malware_sample.drop(list(set(features)-set(Selected_features)),axis=1, inplace=True)\n",
        "    df = malware_sample.drop(dropped_features,axis=1)\n",
        "    \n",
        "    # define dataset\n",
        "#     malware_d = pd.get_dummies(malware_sample,prefix=malware_sample.select_dtypes(include='category').columns.values)\n",
        "#     malware_d = malware_d.rename(columns={'OsVer_10.0.48.0': 'OsVer_10.0.48.00'})\n",
        "#     malware_d = malware_d.rename(columns = lambda x:re.sub('[^A-Za-z0-9_]+', '', x))\n",
        "\n",
        "    X, y = df.drop('HasDetections',axis=1), df['HasDetections']\n",
        "    \n",
        "    # need to define the one-hot encoder everytime (?)\n",
        "    uniques = {}\n",
        "    for column in Selected_features:\n",
        "        uniques[column] = X[column].unique()\n",
        "    uniquesDF = pd.DataFrame(dict([ (k,pd.Series(v)) for k,v in uniques.items() ]))\n",
        "    categoricalEncoder = OneHotEncoder(handle_unknown='ignore', dtype='uint8', sparse=True)\n",
        "    categoricalEncoder.fit(uniquesDF.astype(str))\n",
        "    \n",
        "    XNumerical = X[numericalColumns].values\n",
        "    XCategorical = X[Selected_features]\n",
        "    XCategorical = categoricalEncoder.transform(XCategorical)\n",
        "    X = np.concatenate([XNumerical, scipy.sparse.csr_matrix.toarray(XCategorical)], axis=1)\n",
        "    X_train, X_test, y_train, y_test = train_test_split(X, y, test_size=0.20, random_state=42)\n",
        "    \n",
        "    # evaluate the model\n",
        "    model = LGBMClassifier(n_estimators = 100)\n",
        "   \n",
        "    # cv = RepeatedStratifiedKFold(n_splits=10, n_repeats=3, random_state=1)\n",
        "    # n_scores_selected = cross_val_score(model, X_train, y_train, scoring='accuracy', cv=cv, n_jobs=-1, error_score='raise')\n",
        "    # print('Accuracy: %.3f (%.3f)' % (mean(n_scores_selected), std(n_scores_selected)))\n",
        "    # fit the model \n",
        "    model = LGBMClassifier()\n",
        "    model.fit(X_train, y_train)\n",
        "    # # make predictions\n",
        "    yhat = model.predict(X_test)\n",
        "    accuracy_on_test_selected = np.mean(yhat==y_test.values)\n",
        "    print('accuracy on test: %f' % np.mean(yhat==y_test.values))\n",
        "    \n",
        "    \n",
        "    df = malware_sample.drop(Selected_features,axis=1)\n",
        "    \n",
        "    # define dataset\n",
        "#     malware_d = pd.get_dummies(malware_sample,prefix=malware_sample.select_dtypes(include='category').columns.values)\n",
        "#     malware_d = malware_d.rename(columns={'OsVer_10.0.48.0': 'OsVer_10.0.48.00'})\n",
        "#     malware_d = malware_d.rename(columns = lambda x:re.sub('[^A-Za-z0-9_]+', '', x))\n",
        "    \n",
        "    X, y = df.drop('HasDetections',axis=1), df[\"HasDetections\"]\n",
        "    # need to define the one-hot encoder everytime (?)\n",
        "    uniques = {}\n",
        "    for column in dropped_features:\n",
        "        uniques[column] = X[column].unique()\n",
        "    uniquesDF = pd.DataFrame(dict([ (k,pd.Series(v)) for k,v in uniques.items() ]))\n",
        "    categoricalEncoder = OneHotEncoder(handle_unknown='ignore', dtype='uint8', sparse=True)\n",
        "    categoricalEncoder.fit(uniquesDF.astype(str))\n",
        "                             \n",
        "    XNumerical = X[numericalColumns].values\n",
        "    XCategorical = X[dropped_features]\n",
        "    XCategorical = categoricalEncoder.transform(XCategorical)\n",
        "    X = np.concatenate([XNumerical, scipy.sparse.csr_matrix.toarray(XCategorical)], axis=1)\n",
        "    X_train, X_test, y_train, y_test = train_test_split(X, y, test_size=0.20, random_state=42)\n",
        "    \n",
        "    # # evaluate the model\n",
        "    model = LGBMClassifier(n_estimators = 100)\n",
        "    # cv = RepeatedStratifiedKFold(n_splits=10, n_repeats=3, random_state=1)\n",
        "    # n_scores_dropped = cross_val_score(model, X_train, y_train, scoring='accuracy', cv=cv, n_jobs=-1, error_score='raise')\n",
        "    # print('Accuracy: %.3f (%.3f)' % (mean(n_scores_dropped), std(n_scores_dropped)))\n",
        "    # fit the model \n",
        "    model = LGBMClassifier()\n",
        "    model.fit(X_train, y_train)\n",
        "    # # make predictions\n",
        "    yhat = model.predict(X_test)\n",
        "    accuracy_on_test_dropped = np.mean(yhat==y_test.values)\n",
        "    print('accuracy on test: %f' % np.mean(yhat==y_test.values))\n",
        "    \n",
        "    with open(\"/content/gdrive/MyDrive/Notebooks Colab/results_feature_selection.csv\", \"a\") as f:\n",
        "                             f.write(f\"{n},{accuracy_on_test_selected},{accuracy_on_test_dropped}\\n\")"
      ],
      "execution_count": 221,
      "outputs": []
    },
    {
      "cell_type": "code",
      "metadata": {
        "colab": {
          "base_uri": "https://localhost:8080/"
        },
        "id": "WAsKNrRm-dlL",
        "outputId": "55578fe2-73d4-4d90-ce74-7db6c750b473"
      },
      "source": [
        "for i in range(len(features)):\n",
        "    get_acc(i,sample_size=10000)"
      ],
      "execution_count": 222,
      "outputs": [
        {
          "output_type": "stream",
          "text": [
            "accuracy on test: 0.596000\n",
            "accuracy on test: 0.620500\n",
            "accuracy on test: 0.591500\n",
            "accuracy on test: 0.616000\n",
            "accuracy on test: 0.622000\n",
            "accuracy on test: 0.603500\n",
            "accuracy on test: 0.616500\n",
            "accuracy on test: 0.604500\n",
            "accuracy on test: 0.623000\n",
            "accuracy on test: 0.597000\n",
            "accuracy on test: 0.598500\n",
            "accuracy on test: 0.578500\n",
            "accuracy on test: 0.602500\n",
            "accuracy on test: 0.584500\n",
            "accuracy on test: 0.605000\n",
            "accuracy on test: 0.592500\n",
            "accuracy on test: 0.600000\n",
            "accuracy on test: 0.588500\n",
            "accuracy on test: 0.602000\n",
            "accuracy on test: 0.597500\n",
            "accuracy on test: 0.607500\n",
            "accuracy on test: 0.610000\n",
            "accuracy on test: 0.609500\n",
            "accuracy on test: 0.590000\n",
            "accuracy on test: 0.629500\n",
            "accuracy on test: 0.580500\n",
            "accuracy on test: 0.615000\n",
            "accuracy on test: 0.600000\n",
            "accuracy on test: 0.622500\n",
            "accuracy on test: 0.591000\n",
            "accuracy on test: 0.625500\n",
            "accuracy on test: 0.618000\n",
            "accuracy on test: 0.596000\n",
            "accuracy on test: 0.597000\n",
            "accuracy on test: 0.608500\n",
            "accuracy on test: 0.611000\n",
            "accuracy on test: 0.623500\n",
            "accuracy on test: 0.596500\n",
            "accuracy on test: 0.629500\n",
            "accuracy on test: 0.597000\n",
            "accuracy on test: 0.611500\n",
            "accuracy on test: 0.596500\n",
            "accuracy on test: 0.620000\n",
            "accuracy on test: 0.598000\n",
            "accuracy on test: 0.617500\n",
            "accuracy on test: 0.578500\n",
            "accuracy on test: 0.631000\n",
            "accuracy on test: 0.599000\n",
            "accuracy on test: 0.617000\n",
            "accuracy on test: 0.602500\n",
            "accuracy on test: 0.612000\n",
            "accuracy on test: 0.584000\n",
            "accuracy on test: 0.625000\n",
            "accuracy on test: 0.581500\n",
            "accuracy on test: 0.593000\n",
            "accuracy on test: 0.587500\n",
            "accuracy on test: 0.612000\n",
            "accuracy on test: 0.593500\n",
            "accuracy on test: 0.620500\n",
            "accuracy on test: 0.586500\n"
          ],
          "name": "stdout"
        }
      ]
    },
    {
      "cell_type": "code",
      "metadata": {
        "colab": {
          "base_uri": "https://localhost:8080/",
          "height": 204
        },
        "id": "bYTCps3q-dlP",
        "outputId": "082937c6-70dd-4049-c466-a047ef8a8856"
      },
      "source": [
        "import pandas as pd\r\n",
        "import seaborn as sns\r\n",
        "col_names = ['n_features', 'acc_selected','acc_dropped']\r\n",
        "results_df = pd.read_csv(\"/content/gdrive/MyDrive/Notebooks Colab/results_feature_selection.csv\",names=col_names)\r\n",
        "\r\n",
        "results_df.head()"
      ],
      "execution_count": 223,
      "outputs": [
        {
          "output_type": "execute_result",
          "data": {
            "text/html": [
              "<div>\n",
              "<style scoped>\n",
              "    .dataframe tbody tr th:only-of-type {\n",
              "        vertical-align: middle;\n",
              "    }\n",
              "\n",
              "    .dataframe tbody tr th {\n",
              "        vertical-align: top;\n",
              "    }\n",
              "\n",
              "    .dataframe thead th {\n",
              "        text-align: right;\n",
              "    }\n",
              "</style>\n",
              "<table border=\"1\" class=\"dataframe\">\n",
              "  <thead>\n",
              "    <tr style=\"text-align: right;\">\n",
              "      <th></th>\n",
              "      <th>n_features</th>\n",
              "      <th>acc_selected</th>\n",
              "      <th>acc_dropped</th>\n",
              "    </tr>\n",
              "  </thead>\n",
              "  <tbody>\n",
              "    <tr>\n",
              "      <th>0</th>\n",
              "      <td>0</td>\n",
              "      <td>0.5960</td>\n",
              "      <td>0.6205</td>\n",
              "    </tr>\n",
              "    <tr>\n",
              "      <th>1</th>\n",
              "      <td>1</td>\n",
              "      <td>0.5915</td>\n",
              "      <td>0.6160</td>\n",
              "    </tr>\n",
              "    <tr>\n",
              "      <th>2</th>\n",
              "      <td>2</td>\n",
              "      <td>0.6220</td>\n",
              "      <td>0.6035</td>\n",
              "    </tr>\n",
              "    <tr>\n",
              "      <th>3</th>\n",
              "      <td>3</td>\n",
              "      <td>0.6165</td>\n",
              "      <td>0.6045</td>\n",
              "    </tr>\n",
              "    <tr>\n",
              "      <th>4</th>\n",
              "      <td>4</td>\n",
              "      <td>0.6230</td>\n",
              "      <td>0.5970</td>\n",
              "    </tr>\n",
              "  </tbody>\n",
              "</table>\n",
              "</div>"
            ],
            "text/plain": [
              "   n_features  acc_selected  acc_dropped\n",
              "0           0        0.5960       0.6205\n",
              "1           1        0.5915       0.6160\n",
              "2           2        0.6220       0.6035\n",
              "3           3        0.6165       0.6045\n",
              "4           4        0.6230       0.5970"
            ]
          },
          "metadata": {
            "tags": []
          },
          "execution_count": 223
        }
      ]
    },
    {
      "cell_type": "code",
      "metadata": {
        "id": "c6dPQJZIWchM"
      },
      "source": [
        "results_df.acc_dropped = results_df.acc_dropped.values[::-1]"
      ],
      "execution_count": 224,
      "outputs": []
    },
    {
      "cell_type": "code",
      "metadata": {
        "colab": {
          "base_uri": "https://localhost:8080/",
          "height": 282
        },
        "id": "Yr8SnqPiW6Ou",
        "outputId": "b3c6d640-62ba-4e50-9af4-4dc6c03cd6d8"
      },
      "source": [
        "results_df[['acc_selected','acc_dropped']].plot()"
      ],
      "execution_count": 225,
      "outputs": [
        {
          "output_type": "execute_result",
          "data": {
            "text/plain": [
              "<matplotlib.axes._subplots.AxesSubplot at 0x7f19f0fa6320>"
            ]
          },
          "metadata": {
            "tags": []
          },
          "execution_count": 225
        },
        {
          "output_type": "display_data",
          "data": {
            "image/png": "[encoded data removed]",
            "text/plain": [
              "<Figure size 432x288 with 1 Axes>"
            ]
          },
          "metadata": {
            "tags": [],
            "needs_background": "light"
          }
        }
      ]
    },
    {
      "cell_type": "code",
      "metadata": {
        "id": "Gv8DodfsXic3"
      },
      "source": [
        ""
      ],
      "execution_count": null,
      "outputs": []
    }
  ]
}