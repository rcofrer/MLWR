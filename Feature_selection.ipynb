{
 "cells": [
  {
   "cell_type": "markdown",
   "metadata": {},
   "source": [
    "## Feature selection using CMI"
   ]
  },
  {
   "cell_type": "code",
   "execution_count": 72,
   "metadata": {},
   "outputs": [],
   "source": [
    "import pickle\n",
    "import pandas as pd\n",
    "import operator"
   ]
  },
  {
   "cell_type": "code",
   "execution_count": 83,
   "metadata": {},
   "outputs": [],
   "source": [
    "with open(r\"featureMIs.pickle\", \"rb\") as input_file:\n",
    "    MI = pickle.load(input_file)\n",
    "    \n",
    "with open(r\"entropies.pickle\", \"rb\") as input_file:\n",
    "    entropy = pickle.load(input_file)\n",
    "    \n",
    "with open(r\"MutualInfos.pickle\", \"rb\") as input_file:\n",
    "    MI_target = pickle.load(input_file)\n",
    "# del MI_target['HasDetections']"
   ]
  },
  {
   "cell_type": "code",
   "execution_count": 74,
   "metadata": {},
   "outputs": [
    {
     "name": "stdout",
     "output_type": "stream",
     "text": [
      "3240 80\n"
     ]
    }
   ],
   "source": [
    "print(len(MI),len(entropy))\n",
    "nums = ['Census_ProcessorCoreCount',\n",
    "        'Census_PrimaryDiskTotalCapacity',\n",
    "        'Census_SystemVolumeTotalCapacity',\n",
    "        'Census_TotalPhysicalRAM',\n",
    "        'Census_InternalPrimaryDiagonalDisplaySizeInInches',\n",
    "        'Census_InternalPrimaryDisplayResolutionHorizontal',\n",
    "        'Census_InternalPrimaryDisplayResolutionVertical',\n",
    "        'Census_InternalBatteryNumberOfCharges']\n",
    "for var in nums:\n",
    "    del MI_target[var]"
   ]
  },
  {
   "cell_type": "code",
   "execution_count": 75,
   "metadata": {},
   "outputs": [],
   "source": [
    "# In order to optimize memory usage it is useful to make certain features get certain types\n",
    "# the dictionary below has been taken from https://www.kaggle.com/theoviel/load-the-totality-of-the-data\n",
    "dtypes = {\n",
    "        'MachineIdentifier':                                    'category',\n",
    "        'ProductName':                                          'category',\n",
    "        'EngineVersion':                                        'category',\n",
    "        'AppVersion':                                           'category',\n",
    "        'AvSigVersion':                                         'category',\n",
    "        'IsBeta':                                               'int8',\n",
    "        'RtpStateBitfield':                                     'float16',\n",
    "        'IsSxsPassiveMode':                                     'int8',\n",
    "        'DefaultBrowsersIdentifier':                            'float32',\n",
    "        'AVProductStatesIdentifier':                            'float32',\n",
    "        'AVProductsInstalled':                                  'float16',\n",
    "        'AVProductsEnabled':                                    'float16',\n",
    "        'HasTpm':                                               'int8',\n",
    "        'CountryIdentifier':                                    'int16',\n",
    "        'CityIdentifier':                                       'float32',\n",
    "        'OrganizationIdentifier':                               'float16',\n",
    "        'GeoNameIdentifier':                                    'float16',\n",
    "        'LocaleEnglishNameIdentifier':                          'int16',\n",
    "        'Platform':                                             'category',\n",
    "        'Processor':                                            'category',\n",
    "        'OsVer':                                                'category',\n",
    "        'OsBuild':                                              'int16',\n",
    "        'OsSuite':                                              'int16',\n",
    "        'OsPlatformSubRelease':                                 'category',\n",
    "        'OsBuildLab':                                           'category',\n",
    "        'SkuEdition':                                           'category',\n",
    "        'IsProtected':                                          'float16',\n",
    "        'AutoSampleOptIn':                                      'int8',\n",
    "        'PuaMode':                                              'category',\n",
    "        'SMode':                                                'float16',\n",
    "        'IeVerIdentifier':                                      'float16',\n",
    "        'SmartScreen':                                          'category',\n",
    "        'Firewall':                                             'float16',\n",
    "        'UacLuaenable':                                         'float64', # was 'float32'\n",
    "        'Census_MDC2FormFactor':                                'category',\n",
    "        'Census_DeviceFamily':                                  'category',\n",
    "        'Census_OEMNameIdentifier':                             'float32', # was 'float16'\n",
    "        'Census_OEMModelIdentifier':                            'float32',\n",
    "        'Census_ProcessorCoreCount':                            'float16',\n",
    "        'Census_ProcessorManufacturerIdentifier':               'float16',\n",
    "        'Census_ProcessorModelIdentifier':                      'float32', # was 'float16'\n",
    "        'Census_ProcessorClass':                                'category',\n",
    "        'Census_PrimaryDiskTotalCapacity':                      'float64', # was 'float32'\n",
    "        'Census_PrimaryDiskTypeName':                           'category',\n",
    "        'Census_SystemVolumeTotalCapacity':                     'float64', # was 'float32'\n",
    "        'Census_HasOpticalDiskDrive':                           'int8',\n",
    "        'Census_TotalPhysicalRAM':                              'float32',\n",
    "        'Census_ChassisTypeName':                               'category',\n",
    "        'Census_InternalPrimaryDiagonalDisplaySizeInInches':    'float32', # was 'float16'\n",
    "        'Census_InternalPrimaryDisplayResolutionHorizontal':    'float32', # was 'float16'\n",
    "        'Census_InternalPrimaryDisplayResolutionVertical':      'float32', # was 'float16'\n",
    "        'Census_PowerPlatformRoleName':                         'category',\n",
    "        'Census_InternalBatteryType':                           'category',\n",
    "        'Census_InternalBatteryNumberOfCharges':                'float64', # was 'float32'\n",
    "        'Census_OSVersion':                                     'category',\n",
    "        'Census_OSArchitecture':                                'category',\n",
    "        'Census_OSBranch':                                      'category',\n",
    "        'Census_OSBuildNumber':                                 'int16',\n",
    "        'Census_OSBuildRevision':                               'int32',\n",
    "        'Census_OSEdition':                                     'category',\n",
    "        'Census_OSSkuName':                                     'category',\n",
    "        'Census_OSInstallTypeName':                             'category',\n",
    "        'Census_OSInstallLanguageIdentifier':                   'float16',\n",
    "        'Census_OSUILocaleIdentifier':                          'int16',\n",
    "        'Census_OSWUAutoUpdateOptionsName':                     'category',\n",
    "        'Census_IsPortableOperatingSystem':                     'int8',\n",
    "        'Census_GenuineStateName':                              'category',\n",
    "        'Census_ActivationChannel':                             'category',\n",
    "        'Census_IsFlightingInternal':                           'float16',\n",
    "        'Census_IsFlightsDisabled':                             'float16',\n",
    "        'Census_FlightRing':                                    'category',\n",
    "        'Census_ThresholdOptIn':                                'float16',\n",
    "        'Census_FirmwareManufacturerIdentifier':                'float16',\n",
    "        'Census_FirmwareVersionIdentifier':                     'float32',\n",
    "        'Census_IsSecureBootEnabled':                           'int8',\n",
    "        'Census_IsWIMBootEnabled':                              'float16',\n",
    "        'Census_IsVirtualDevice':                               'float16',\n",
    "        'Census_IsTouchEnabled':                                'int8',\n",
    "        'Census_IsPenCapable':                                  'int8',\n",
    "        'Census_IsAlwaysOnAlwaysConnectedCapable':              'float16',\n",
    "        'Wdft_IsGamer':                                         'float16',\n",
    "        'Wdft_RegionIdentifier':                                'float16',\n",
    "        'HasDetections':                                        'int8'\n",
    "        }\n",
    "malware = pd.read_csv('../train.csv', dtype=dtypes)"
   ]
  },
  {
   "cell_type": "code",
   "execution_count": 77,
   "metadata": {},
   "outputs": [
    {
     "data": {
      "text/plain": [
       "74"
      ]
     },
     "execution_count": 77,
     "metadata": {},
     "output_type": "execute_result"
    }
   ],
   "source": [
    "MI_cols = [col for col in malware.columns if col not in nums and col != 'MachineIdentifier']\n",
    "len(MI_cols)"
   ]
  },
  {
   "cell_type": "markdown",
   "metadata": {},
   "source": [
    "## Forward selection algorithm (greedy feature selection)\n",
    "Initialize set of selected variables $S={\\emptyset}$ and $X$ the set of all variables being considered for analysis.\n",
    "\n",
    "**Step 1.** *Selection of the first feature*\n",
    "\n",
    "   Find feature $X^* \\in X$ that maximizes $I(C,X_i)$;\n",
    "   \n",
    "   set $X = X\\setminus \\{X^*\\}, S=\\{X^*\\}.$ Where $C$ is the target variable $C$.\n",
    "   \n",
    "**Step 2.** *greedy feature selection*\n",
    "\n",
    "Find feature $X^+ \\in X$ according to:\n",
    "\n",
    "$$X^+ = \\text{argmax}_{X_i\\in X\\setminus S}\\left\\{I(C,X_i) - \\max_{X_s\\in S}{CU_{X_i,X_s}I(C,X_s)}\\right\\}$$\n",
    "\n",
    "Where $CU_{X_i,X_s}= \\cfrac{I(X_i,X_s)}{H(X_s)}$\n",
    "\n",
    "and finally, set $X = X\\setminus \\{X^+\\}, S=S\\cup\\{X^+\\}.$\n",
    "\n",
    "**Step 3.** Go to step 2."
   ]
  },
  {
   "cell_type": "code",
   "execution_count": 78,
   "metadata": {},
   "outputs": [],
   "source": [
    "# utiliy functions\n",
    "def get_MI(X_i,X_s):\n",
    "    val = 0\n",
    "    try:\n",
    "        val =  MI[f\"{X_i},{X_s}\"]\n",
    "    except:\n",
    "        val =  MI[f\"{X_s},{X_i}\"]\n",
    "    \n",
    "    return val\n",
    "def CU(X_i,X_s):\n",
    "    '''\n",
    "    X_i,X_s: labels of columns representing the variables, respectively.\n",
    "    \n",
    "    '''\n",
    "    mi = get_MI(X_i,X_s)\n",
    "    H  = entropy[X_s]\n",
    "    \n",
    "    return mi/H"
   ]
  },
  {
   "cell_type": "code",
   "execution_count": 84,
   "metadata": {},
   "outputs": [],
   "source": [
    "Selected_features = []\n",
    "features          = MI_cols[:-1]\n",
    "\n",
    "# step 1\n",
    "Selected_features.append(max(MI_target.items(), key=operator.itemgetter(1))[0])\n",
    "\n",
    "# step 2\n",
    "\n",
    "def get_inner_max(X_i,Selected):\n",
    "    max_val=-1e10\n",
    "    for X_s in Selected:\n",
    "        value = CU(X_i,X_s)*MI_target[X_s]\n",
    "        if value >max_val:\n",
    "            max_val = value\n",
    "            \n",
    "    return max_val\n",
    "\n",
    "def get_next_var(Selected):\n",
    "    best_var = None\n",
    "    max_val  = -1e10\n",
    "    for X_i in features:\n",
    "        if X_i in Selected:\n",
    "            continue\n",
    "        value = MI_target[X_i] - get_inner_max(X_i,Selected)\n",
    "        if value >max_val:\n",
    "            max_val  = value\n",
    "            best_var = X_i\n",
    "    \n",
    "    return best_var"
   ]
  },
  {
   "cell_type": "code",
   "execution_count": 85,
   "metadata": {},
   "outputs": [],
   "source": [
    "#to define threshold\n",
    "criteria = True\n",
    "n_vars_selected =1\n",
    "while criteria:\n",
    "    \n",
    "    next_var = get_next_var(Selected_features)\n",
    "    Selected_features.append(next_var)\n",
    "    \n",
    "    n_vars_selected+=1\n",
    "    if n_vars_selected >10:\n",
    "        break"
   ]
  },
  {
   "cell_type": "code",
   "execution_count": 86,
   "metadata": {},
   "outputs": [
    {
     "data": {
      "text/plain": [
       "['Census_SystemVolumeTotalCapacity',\n",
       " 'Census_PowerPlatformRoleName',\n",
       " 'Census_ChassisTypeName',\n",
       " 'Census_InternalBatteryType',\n",
       " 'SmartScreen',\n",
       " 'AVProductStatesIdentifier',\n",
       " 'EngineVersion',\n",
       " 'AVProductsInstalled',\n",
       " 'AppVersion',\n",
       " 'Census_OEMModelIdentifier',\n",
       " 'Processor']"
      ]
     },
     "execution_count": 86,
     "metadata": {},
     "output_type": "execute_result"
    }
   ],
   "source": [
    "Selected_features"
   ]
  },
  {
   "cell_type": "markdown",
   "metadata": {},
   "source": [
    "# extra things\n"
   ]
  },
  {
   "cell_type": "code",
   "execution_count": 152,
   "metadata": {},
   "outputs": [
    {
     "name": "stdout",
     "output_type": "stream",
     "text": [
      "Accuracy: 0.610 (0.014)\n",
      "error rate: 0.632500\n"
     ]
    }
   ],
   "source": [
    "# lightgbm for classification\n",
    "from numpy import mean\n",
    "from numpy import std\n",
    "from sklearn.datasets import make_classification\n",
    "from lightgbm import LGBMClassifier\n",
    "from sklearn.model_selection import cross_val_score\n",
    "from sklearn.model_selection import RepeatedStratifiedKFold\n",
    "from sklearn.model_selection import train_test_split\n",
    "from matplotlib import pyplot\n",
    "import re\n",
    "\n",
    "\n",
    "#using sample of dataframe\n",
    "malware_sample = malware.sample(10000)\n",
    "malware_sample.drop('MachineIdentifier', axis=1, inplace=True)\n",
    "malware_sample.drop('Census_InternalBatteryType', axis=1, inplace=True)\n",
    "# define dataset\n",
    "malware_d = pd.get_dummies(malware_sample,prefix=malware_sample.select_dtypes(include='category').columns.values)\n",
    "malware_d = malware_d.rename(columns={'OsVer_10.0.48.0': 'OsVer_10.0.48.00'})\n",
    "malware_d = malware_d.rename(columns = lambda x:re.sub('[^A-Za-z0-9_]+', '', x))\n",
    "\n",
    "X, y = malware_d.loc[:, malware_d.columns != 'HasDetections'], malware_d[\"HasDetections\"]\n",
    "X_train, X_test, y_train, y_test = train_test_split(X, y, test_size=0.20, random_state=42)\n",
    "# # evaluate the model\n",
    "model = LGBMClassifier(n_estimators = 200)\n",
    "cv = RepeatedStratifiedKFold(n_splits=10, n_repeats=3, random_state=1)\n",
    "n_scores = cross_val_score(model, X_train, y_train, scoring='accuracy', cv=cv, n_jobs=-1, error_score='raise')\n",
    "print('Accuracy: %.3f (%.3f)' % (mean(n_scores), std(n_scores)))\n",
    "# fit the model \n",
    "model = LGBMClassifier()\n",
    "model.fit(X_train, y_train)\n",
    "# # make predictions\n",
    "\n",
    "yhat = model.predict(X_test)\n",
    "print('accuracy on test: %f' % np.mean(yhat==y_test.values))"
   ]
  },
  {
   "cell_type": "code",
   "execution_count": null,
   "metadata": {},
   "outputs": [],
   "source": []
  }
 ],
 "metadata": {
  "kernelspec": {
   "display_name": "Python 3",
   "language": "python",
   "name": "python3"
  },
  "language_info": {
   "codemirror_mode": {
    "name": "ipython",
    "version": 3
   },
   "file_extension": ".py",
   "mimetype": "text/x-python",
   "name": "python",
   "nbconvert_exporter": "python",
   "pygments_lexer": "ipython3",
   "version": "3.7.6"
  }
 },
 "nbformat": 4,
 "nbformat_minor": 4
}
